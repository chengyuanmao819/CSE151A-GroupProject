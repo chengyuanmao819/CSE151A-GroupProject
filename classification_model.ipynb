{
  "nbformat": 4,
  "nbformat_minor": 0,
  "metadata": {
    "colab": {
      "provenance": []
    },
    "kernelspec": {
      "name": "python3",
      "display_name": "Python 3"
    },
    "language_info": {
      "name": "python"
    }
  },
  "cells": [
    {
      "cell_type": "code",
      "execution_count": 1,
      "metadata": {
        "id": "W8AzhVc97CPT",
        "colab": {
          "base_uri": "https://localhost:8080/"
        },
        "outputId": "6408c890-0201-4bd7-8229-47ee8b8c5bdc"
      },
      "outputs": [
        {
          "output_type": "stream",
          "name": "stdout",
          "text": [
            "Drive already mounted at /content/drive; to attempt to forcibly remount, call drive.mount(\"/content/drive\", force_remount=True).\n"
          ]
        }
      ],
      "source": [
        "# prompt: mount to drive, cd to summer 2024/group project\n",
        "\n",
        "from google.colab import drive\n",
        "drive.mount('/content/drive')"
      ]
    },
    {
      "cell_type": "code",
      "source": [
        "%cd /content/drive/MyDrive/summer2024/group\\ project"
      ],
      "metadata": {
        "colab": {
          "base_uri": "https://localhost:8080/"
        },
        "id": "Sq0UOsYB7tmP",
        "outputId": "052ded50-e27c-4333-8ab9-64f3c56f2090"
      },
      "execution_count": 2,
      "outputs": [
        {
          "output_type": "stream",
          "name": "stdout",
          "text": [
            "/content/drive/MyDrive/summer2024/group project\n"
          ]
        }
      ]
    },
    {
      "cell_type": "markdown",
      "source": [
        "## Load and Review Data"
      ],
      "metadata": {
        "id": "tXfrknbXIHBz"
      }
    },
    {
      "cell_type": "code",
      "source": [
        "import pandas as pd\n",
        "import numpy as np\n",
        "import matplotlib.pyplot as plt\n",
        "import seaborn as sns"
      ],
      "metadata": {
        "id": "DaksChaG7xIl"
      },
      "execution_count": 3,
      "outputs": []
    },
    {
      "cell_type": "code",
      "source": [
        "data = pd.read_csv('cleaned_data.csv')\n",
        "data.head()\n",
        "print(data.columns)"
      ],
      "metadata": {
        "colab": {
          "base_uri": "https://localhost:8080/"
        },
        "id": "goZ6aAjP7z-2",
        "outputId": "4ac41b97-8da6-40e5-866a-465fab0608aa"
      },
      "execution_count": 4,
      "outputs": [
        {
          "output_type": "stream",
          "name": "stdout",
          "text": [
            "Index(['latitude', 'longitude', 'room_type', 'price', 'minimum_nights',\n",
            "       'number_of_reviews', 'reviews_per_month',\n",
            "       'calculated_host_listings_count', 'availability_365',\n",
            "       'number_of_reviews_ltm'],\n",
            "      dtype='object')\n"
          ]
        }
      ]
    },
    {
      "cell_type": "code",
      "source": [
        "data.describe().round(3)"
      ],
      "metadata": {
        "colab": {
          "base_uri": "https://localhost:8080/",
          "height": 320
        },
        "id": "sq2Kjlux8ojB",
        "outputId": "34dc16cc-d835-4ad8-e410-e9e01f55efb7"
      },
      "execution_count": null,
      "outputs": [
        {
          "output_type": "execute_result",
          "data": {
            "text/plain": [
              "         latitude   longitude   room_type       price  minimum_nights  \\\n",
              "count  175272.000  175272.000  175272.000  175272.000      175272.000   \n",
              "mean       34.899    -105.126       0.262     180.085          11.467   \n",
              "std         6.730      24.547       0.473     118.222          13.196   \n",
              "min        18.930    -159.708       0.000       5.000           1.000   \n",
              "25%        32.700    -118.468       0.000      93.000           2.000   \n",
              "50%        35.584    -114.950       0.000     149.000           3.000   \n",
              "75%        40.672     -80.237       0.000     237.000          30.000   \n",
              "max        47.734     -71.001       3.000     589.000          59.000   \n",
              "\n",
              "       number_of_reviews  reviews_per_month  calculated_host_listings_count  \\\n",
              "count         175272.000         175272.000                      175272.000   \n",
              "mean              41.398              1.213                           7.831   \n",
              "std               69.269              1.317                          11.750   \n",
              "min                0.000              0.000                           1.000   \n",
              "25%                2.000              0.150                           1.000   \n",
              "50%               13.000              0.770                           2.000   \n",
              "75%               49.000              1.990                           8.000   \n",
              "max              966.000             24.130                          57.000   \n",
              "\n",
              "       availability_365  number_of_reviews_ltm  \n",
              "count        175272.000             175272.000  \n",
              "mean            206.094                  9.818  \n",
              "std             116.463                 12.169  \n",
              "min               0.000                  0.000  \n",
              "25%              96.000                  0.000  \n",
              "50%             219.000                  4.000  \n",
              "75%             315.000                 16.000  \n",
              "max             365.000                 46.000  "
            ],
            "text/html": [
              "\n",
              "  <div id=\"df-c44e1dd9-567a-4239-b994-3c19bd5a8b61\" class=\"colab-df-container\">\n",
              "    <div>\n",
              "<style scoped>\n",
              "    .dataframe tbody tr th:only-of-type {\n",
              "        vertical-align: middle;\n",
              "    }\n",
              "\n",
              "    .dataframe tbody tr th {\n",
              "        vertical-align: top;\n",
              "    }\n",
              "\n",
              "    .dataframe thead th {\n",
              "        text-align: right;\n",
              "    }\n",
              "</style>\n",
              "<table border=\"1\" class=\"dataframe\">\n",
              "  <thead>\n",
              "    <tr style=\"text-align: right;\">\n",
              "      <th></th>\n",
              "      <th>latitude</th>\n",
              "      <th>longitude</th>\n",
              "      <th>room_type</th>\n",
              "      <th>price</th>\n",
              "      <th>minimum_nights</th>\n",
              "      <th>number_of_reviews</th>\n",
              "      <th>reviews_per_month</th>\n",
              "      <th>calculated_host_listings_count</th>\n",
              "      <th>availability_365</th>\n",
              "      <th>number_of_reviews_ltm</th>\n",
              "    </tr>\n",
              "  </thead>\n",
              "  <tbody>\n",
              "    <tr>\n",
              "      <th>count</th>\n",
              "      <td>175272.000</td>\n",
              "      <td>175272.000</td>\n",
              "      <td>175272.000</td>\n",
              "      <td>175272.000</td>\n",
              "      <td>175272.000</td>\n",
              "      <td>175272.000</td>\n",
              "      <td>175272.000</td>\n",
              "      <td>175272.000</td>\n",
              "      <td>175272.000</td>\n",
              "      <td>175272.000</td>\n",
              "    </tr>\n",
              "    <tr>\n",
              "      <th>mean</th>\n",
              "      <td>34.899</td>\n",
              "      <td>-105.126</td>\n",
              "      <td>0.262</td>\n",
              "      <td>180.085</td>\n",
              "      <td>11.467</td>\n",
              "      <td>41.398</td>\n",
              "      <td>1.213</td>\n",
              "      <td>7.831</td>\n",
              "      <td>206.094</td>\n",
              "      <td>9.818</td>\n",
              "    </tr>\n",
              "    <tr>\n",
              "      <th>std</th>\n",
              "      <td>6.730</td>\n",
              "      <td>24.547</td>\n",
              "      <td>0.473</td>\n",
              "      <td>118.222</td>\n",
              "      <td>13.196</td>\n",
              "      <td>69.269</td>\n",
              "      <td>1.317</td>\n",
              "      <td>11.750</td>\n",
              "      <td>116.463</td>\n",
              "      <td>12.169</td>\n",
              "    </tr>\n",
              "    <tr>\n",
              "      <th>min</th>\n",
              "      <td>18.930</td>\n",
              "      <td>-159.708</td>\n",
              "      <td>0.000</td>\n",
              "      <td>5.000</td>\n",
              "      <td>1.000</td>\n",
              "      <td>0.000</td>\n",
              "      <td>0.000</td>\n",
              "      <td>1.000</td>\n",
              "      <td>0.000</td>\n",
              "      <td>0.000</td>\n",
              "    </tr>\n",
              "    <tr>\n",
              "      <th>25%</th>\n",
              "      <td>32.700</td>\n",
              "      <td>-118.468</td>\n",
              "      <td>0.000</td>\n",
              "      <td>93.000</td>\n",
              "      <td>2.000</td>\n",
              "      <td>2.000</td>\n",
              "      <td>0.150</td>\n",
              "      <td>1.000</td>\n",
              "      <td>96.000</td>\n",
              "      <td>0.000</td>\n",
              "    </tr>\n",
              "    <tr>\n",
              "      <th>50%</th>\n",
              "      <td>35.584</td>\n",
              "      <td>-114.950</td>\n",
              "      <td>0.000</td>\n",
              "      <td>149.000</td>\n",
              "      <td>3.000</td>\n",
              "      <td>13.000</td>\n",
              "      <td>0.770</td>\n",
              "      <td>2.000</td>\n",
              "      <td>219.000</td>\n",
              "      <td>4.000</td>\n",
              "    </tr>\n",
              "    <tr>\n",
              "      <th>75%</th>\n",
              "      <td>40.672</td>\n",
              "      <td>-80.237</td>\n",
              "      <td>0.000</td>\n",
              "      <td>237.000</td>\n",
              "      <td>30.000</td>\n",
              "      <td>49.000</td>\n",
              "      <td>1.990</td>\n",
              "      <td>8.000</td>\n",
              "      <td>315.000</td>\n",
              "      <td>16.000</td>\n",
              "    </tr>\n",
              "    <tr>\n",
              "      <th>max</th>\n",
              "      <td>47.734</td>\n",
              "      <td>-71.001</td>\n",
              "      <td>3.000</td>\n",
              "      <td>589.000</td>\n",
              "      <td>59.000</td>\n",
              "      <td>966.000</td>\n",
              "      <td>24.130</td>\n",
              "      <td>57.000</td>\n",
              "      <td>365.000</td>\n",
              "      <td>46.000</td>\n",
              "    </tr>\n",
              "  </tbody>\n",
              "</table>\n",
              "</div>\n",
              "    <div class=\"colab-df-buttons\">\n",
              "\n",
              "  <div class=\"colab-df-container\">\n",
              "    <button class=\"colab-df-convert\" onclick=\"convertToInteractive('df-c44e1dd9-567a-4239-b994-3c19bd5a8b61')\"\n",
              "            title=\"Convert this dataframe to an interactive table.\"\n",
              "            style=\"display:none;\">\n",
              "\n",
              "  <svg xmlns=\"http://www.w3.org/2000/svg\" height=\"24px\" viewBox=\"0 -960 960 960\">\n",
              "    <path d=\"M120-120v-720h720v720H120Zm60-500h600v-160H180v160Zm220 220h160v-160H400v160Zm0 220h160v-160H400v160ZM180-400h160v-160H180v160Zm440 0h160v-160H620v160ZM180-180h160v-160H180v160Zm440 0h160v-160H620v160Z\"/>\n",
              "  </svg>\n",
              "    </button>\n",
              "\n",
              "  <style>\n",
              "    .colab-df-container {\n",
              "      display:flex;\n",
              "      gap: 12px;\n",
              "    }\n",
              "\n",
              "    .colab-df-convert {\n",
              "      background-color: #E8F0FE;\n",
              "      border: none;\n",
              "      border-radius: 50%;\n",
              "      cursor: pointer;\n",
              "      display: none;\n",
              "      fill: #1967D2;\n",
              "      height: 32px;\n",
              "      padding: 0 0 0 0;\n",
              "      width: 32px;\n",
              "    }\n",
              "\n",
              "    .colab-df-convert:hover {\n",
              "      background-color: #E2EBFA;\n",
              "      box-shadow: 0px 1px 2px rgba(60, 64, 67, 0.3), 0px 1px 3px 1px rgba(60, 64, 67, 0.15);\n",
              "      fill: #174EA6;\n",
              "    }\n",
              "\n",
              "    .colab-df-buttons div {\n",
              "      margin-bottom: 4px;\n",
              "    }\n",
              "\n",
              "    [theme=dark] .colab-df-convert {\n",
              "      background-color: #3B4455;\n",
              "      fill: #D2E3FC;\n",
              "    }\n",
              "\n",
              "    [theme=dark] .colab-df-convert:hover {\n",
              "      background-color: #434B5C;\n",
              "      box-shadow: 0px 1px 3px 1px rgba(0, 0, 0, 0.15);\n",
              "      filter: drop-shadow(0px 1px 2px rgba(0, 0, 0, 0.3));\n",
              "      fill: #FFFFFF;\n",
              "    }\n",
              "  </style>\n",
              "\n",
              "    <script>\n",
              "      const buttonEl =\n",
              "        document.querySelector('#df-c44e1dd9-567a-4239-b994-3c19bd5a8b61 button.colab-df-convert');\n",
              "      buttonEl.style.display =\n",
              "        google.colab.kernel.accessAllowed ? 'block' : 'none';\n",
              "\n",
              "      async function convertToInteractive(key) {\n",
              "        const element = document.querySelector('#df-c44e1dd9-567a-4239-b994-3c19bd5a8b61');\n",
              "        const dataTable =\n",
              "          await google.colab.kernel.invokeFunction('convertToInteractive',\n",
              "                                                    [key], {});\n",
              "        if (!dataTable) return;\n",
              "\n",
              "        const docLinkHtml = 'Like what you see? Visit the ' +\n",
              "          '<a target=\"_blank\" href=https://colab.research.google.com/notebooks/data_table.ipynb>data table notebook</a>'\n",
              "          + ' to learn more about interactive tables.';\n",
              "        element.innerHTML = '';\n",
              "        dataTable['output_type'] = 'display_data';\n",
              "        await google.colab.output.renderOutput(dataTable, element);\n",
              "        const docLink = document.createElement('div');\n",
              "        docLink.innerHTML = docLinkHtml;\n",
              "        element.appendChild(docLink);\n",
              "      }\n",
              "    </script>\n",
              "  </div>\n",
              "\n",
              "\n",
              "<div id=\"df-456875b5-8929-4bfe-9064-a0de979d2c82\">\n",
              "  <button class=\"colab-df-quickchart\" onclick=\"quickchart('df-456875b5-8929-4bfe-9064-a0de979d2c82')\"\n",
              "            title=\"Suggest charts\"\n",
              "            style=\"display:none;\">\n",
              "\n",
              "<svg xmlns=\"http://www.w3.org/2000/svg\" height=\"24px\"viewBox=\"0 0 24 24\"\n",
              "     width=\"24px\">\n",
              "    <g>\n",
              "        <path d=\"M19 3H5c-1.1 0-2 .9-2 2v14c0 1.1.9 2 2 2h14c1.1 0 2-.9 2-2V5c0-1.1-.9-2-2-2zM9 17H7v-7h2v7zm4 0h-2V7h2v10zm4 0h-2v-4h2v4z\"/>\n",
              "    </g>\n",
              "</svg>\n",
              "  </button>\n",
              "\n",
              "<style>\n",
              "  .colab-df-quickchart {\n",
              "      --bg-color: #E8F0FE;\n",
              "      --fill-color: #1967D2;\n",
              "      --hover-bg-color: #E2EBFA;\n",
              "      --hover-fill-color: #174EA6;\n",
              "      --disabled-fill-color: #AAA;\n",
              "      --disabled-bg-color: #DDD;\n",
              "  }\n",
              "\n",
              "  [theme=dark] .colab-df-quickchart {\n",
              "      --bg-color: #3B4455;\n",
              "      --fill-color: #D2E3FC;\n",
              "      --hover-bg-color: #434B5C;\n",
              "      --hover-fill-color: #FFFFFF;\n",
              "      --disabled-bg-color: #3B4455;\n",
              "      --disabled-fill-color: #666;\n",
              "  }\n",
              "\n",
              "  .colab-df-quickchart {\n",
              "    background-color: var(--bg-color);\n",
              "    border: none;\n",
              "    border-radius: 50%;\n",
              "    cursor: pointer;\n",
              "    display: none;\n",
              "    fill: var(--fill-color);\n",
              "    height: 32px;\n",
              "    padding: 0;\n",
              "    width: 32px;\n",
              "  }\n",
              "\n",
              "  .colab-df-quickchart:hover {\n",
              "    background-color: var(--hover-bg-color);\n",
              "    box-shadow: 0 1px 2px rgba(60, 64, 67, 0.3), 0 1px 3px 1px rgba(60, 64, 67, 0.15);\n",
              "    fill: var(--button-hover-fill-color);\n",
              "  }\n",
              "\n",
              "  .colab-df-quickchart-complete:disabled,\n",
              "  .colab-df-quickchart-complete:disabled:hover {\n",
              "    background-color: var(--disabled-bg-color);\n",
              "    fill: var(--disabled-fill-color);\n",
              "    box-shadow: none;\n",
              "  }\n",
              "\n",
              "  .colab-df-spinner {\n",
              "    border: 2px solid var(--fill-color);\n",
              "    border-color: transparent;\n",
              "    border-bottom-color: var(--fill-color);\n",
              "    animation:\n",
              "      spin 1s steps(1) infinite;\n",
              "  }\n",
              "\n",
              "  @keyframes spin {\n",
              "    0% {\n",
              "      border-color: transparent;\n",
              "      border-bottom-color: var(--fill-color);\n",
              "      border-left-color: var(--fill-color);\n",
              "    }\n",
              "    20% {\n",
              "      border-color: transparent;\n",
              "      border-left-color: var(--fill-color);\n",
              "      border-top-color: var(--fill-color);\n",
              "    }\n",
              "    30% {\n",
              "      border-color: transparent;\n",
              "      border-left-color: var(--fill-color);\n",
              "      border-top-color: var(--fill-color);\n",
              "      border-right-color: var(--fill-color);\n",
              "    }\n",
              "    40% {\n",
              "      border-color: transparent;\n",
              "      border-right-color: var(--fill-color);\n",
              "      border-top-color: var(--fill-color);\n",
              "    }\n",
              "    60% {\n",
              "      border-color: transparent;\n",
              "      border-right-color: var(--fill-color);\n",
              "    }\n",
              "    80% {\n",
              "      border-color: transparent;\n",
              "      border-right-color: var(--fill-color);\n",
              "      border-bottom-color: var(--fill-color);\n",
              "    }\n",
              "    90% {\n",
              "      border-color: transparent;\n",
              "      border-bottom-color: var(--fill-color);\n",
              "    }\n",
              "  }\n",
              "</style>\n",
              "\n",
              "  <script>\n",
              "    async function quickchart(key) {\n",
              "      const quickchartButtonEl =\n",
              "        document.querySelector('#' + key + ' button');\n",
              "      quickchartButtonEl.disabled = true;  // To prevent multiple clicks.\n",
              "      quickchartButtonEl.classList.add('colab-df-spinner');\n",
              "      try {\n",
              "        const charts = await google.colab.kernel.invokeFunction(\n",
              "            'suggestCharts', [key], {});\n",
              "      } catch (error) {\n",
              "        console.error('Error during call to suggestCharts:', error);\n",
              "      }\n",
              "      quickchartButtonEl.classList.remove('colab-df-spinner');\n",
              "      quickchartButtonEl.classList.add('colab-df-quickchart-complete');\n",
              "    }\n",
              "    (() => {\n",
              "      let quickchartButtonEl =\n",
              "        document.querySelector('#df-456875b5-8929-4bfe-9064-a0de979d2c82 button');\n",
              "      quickchartButtonEl.style.display =\n",
              "        google.colab.kernel.accessAllowed ? 'block' : 'none';\n",
              "    })();\n",
              "  </script>\n",
              "</div>\n",
              "\n",
              "    </div>\n",
              "  </div>\n"
            ],
            "application/vnd.google.colaboratory.intrinsic+json": {
              "type": "dataframe",
              "summary": "{\n  \"name\": \"data\",\n  \"rows\": 8,\n  \"fields\": [\n    {\n      \"column\": \"latitude\",\n      \"properties\": {\n        \"dtype\": \"number\",\n        \"std\": 61957.038467349514,\n        \"min\": 6.73,\n        \"max\": 175272.0,\n        \"num_unique_values\": 8,\n        \"samples\": [\n          34.899,\n          35.584,\n          175272.0\n        ],\n        \"semantic_type\": \"\",\n        \"description\": \"\"\n      }\n    },\n    {\n      \"column\": \"longitude\",\n      \"properties\": {\n        \"dtype\": \"number\",\n        \"std\": 61999.59741472853,\n        \"min\": -159.708,\n        \"max\": 175272.0,\n        \"num_unique_values\": 8,\n        \"samples\": [\n          -105.126,\n          -114.95,\n          175272.0\n        ],\n        \"semantic_type\": \"\",\n        \"description\": \"\"\n      }\n    },\n    {\n      \"column\": \"room_type\",\n      \"properties\": {\n        \"dtype\": \"number\",\n        \"std\": 61967.8212384905,\n        \"min\": 0.0,\n        \"max\": 175272.0,\n        \"num_unique_values\": 5,\n        \"samples\": [\n          0.262,\n          3.0,\n          0.473\n        ],\n        \"semantic_type\": \"\",\n        \"description\": \"\"\n      }\n    },\n    {\n      \"column\": \"price\",\n      \"properties\": {\n        \"dtype\": \"number\",\n        \"std\": 61898.9927422796,\n        \"min\": 5.0,\n        \"max\": 175272.0,\n        \"num_unique_values\": 8,\n        \"samples\": [\n          180.085,\n          149.0,\n          175272.0\n        ],\n        \"semantic_type\": \"\",\n        \"description\": \"\"\n      }\n    },\n    {\n      \"column\": \"minimum_nights\",\n      \"properties\": {\n        \"dtype\": \"number\",\n        \"std\": 61961.969042525605,\n        \"min\": 1.0,\n        \"max\": 175272.0,\n        \"num_unique_values\": 8,\n        \"samples\": [\n          11.467,\n          3.0,\n          175272.0\n        ],\n        \"semantic_type\": \"\",\n        \"description\": \"\"\n      }\n    },\n    {\n      \"column\": \"number_of_reviews\",\n      \"properties\": {\n        \"dtype\": \"number\",\n        \"std\": 61911.27013861064,\n        \"min\": 0.0,\n        \"max\": 175272.0,\n        \"num_unique_values\": 8,\n        \"samples\": [\n          41.398,\n          13.0,\n          175272.0\n        ],\n        \"semantic_type\": \"\",\n        \"description\": \"\"\n      }\n    },\n    {\n      \"column\": \"reviews_per_month\",\n      \"properties\": {\n        \"dtype\": \"number\",\n        \"std\": 61966.5169016763,\n        \"min\": 0.0,\n        \"max\": 175272.0,\n        \"num_unique_values\": 8,\n        \"samples\": [\n          1.213,\n          0.77,\n          175272.0\n        ],\n        \"semantic_type\": \"\",\n        \"description\": \"\"\n      }\n    },\n    {\n      \"column\": \"calculated_host_listings_count\",\n      \"properties\": {\n        \"dtype\": \"number\",\n        \"std\": 61963.53862359571,\n        \"min\": 1.0,\n        \"max\": 175272.0,\n        \"num_unique_values\": 7,\n        \"samples\": [\n          175272.0,\n          7.831,\n          8.0\n        ],\n        \"semantic_type\": \"\",\n        \"description\": \"\"\n      }\n    },\n    {\n      \"column\": \"availability_365\",\n      \"properties\": {\n        \"dtype\": \"number\",\n        \"std\": 61901.57590214736,\n        \"min\": 0.0,\n        \"max\": 175272.0,\n        \"num_unique_values\": 8,\n        \"samples\": [\n          206.094,\n          219.0,\n          175272.0\n        ],\n        \"semantic_type\": \"\",\n        \"description\": \"\"\n      }\n    },\n    {\n      \"column\": \"number_of_reviews_ltm\",\n      \"properties\": {\n        \"dtype\": \"number\",\n        \"std\": 61963.56762116368,\n        \"min\": 0.0,\n        \"max\": 175272.0,\n        \"num_unique_values\": 7,\n        \"samples\": [\n          175272.0,\n          9.818,\n          16.0\n        ],\n        \"semantic_type\": \"\",\n        \"description\": \"\"\n      }\n    }\n  ]\n}"
            }
          },
          "metadata": {},
          "execution_count": 6
        }
      ]
    },
    {
      "cell_type": "markdown",
      "source": [
        "## Add income_group"
      ],
      "metadata": {
        "id": "4xei_DlvISTu"
      }
    },
    {
      "cell_type": "markdown",
      "source": [
        "### 1. calculate income"
      ],
      "metadata": {
        "id": "xRJpR0weIWtN"
      }
    },
    {
      "cell_type": "code",
      "source": [
        "# create column income\n",
        "data['income'] = data['price'] * data['number_of_reviews']"
      ],
      "metadata": {
        "id": "IF6BK0rs8sF8"
      },
      "execution_count": 5,
      "outputs": []
    },
    {
      "cell_type": "code",
      "source": [
        "data['income'].hist()"
      ],
      "metadata": {
        "colab": {
          "base_uri": "https://localhost:8080/",
          "height": 448
        },
        "id": "MXRp5za-9DTz",
        "outputId": "9d5e9b92-f204-4858-de84-cc0b4083f96a"
      },
      "execution_count": null,
      "outputs": [
        {
          "output_type": "execute_result",
          "data": {
            "text/plain": [
              "<Axes: >"
            ]
          },
          "metadata": {},
          "execution_count": 6
        },
        {
          "output_type": "display_data",
          "data": {
            "text/plain": [
              "<Figure size 640x480 with 1 Axes>"
            ],
            "image/png": "[encoded data removed]"
          },
          "metadata": {}
        }
      ]
    },
    {
      "cell_type": "markdown",
      "source": [
        "### crop some outliners\n",
        "\n",
        "Seem like the data is still very skewed, we're gonna crop some outliners"
      ],
      "metadata": {
        "id": "bDkjLTLY9Xvp"
      }
    },
    {
      "cell_type": "code",
      "source": [
        "def remove_outliers_iqr(df, columns, th1=0.01, th3=0.90, multiplier=1.5):\n",
        "    for column in columns:\n",
        "        Q1 = df[column].quantile(th1)\n",
        "        Q3 = df[column].quantile(th3)\n",
        "        IQR = Q3 - Q1\n",
        "        lower_bound = Q1 - multiplier * IQR\n",
        "        upper_bound = Q3 + multiplier * IQR\n",
        "        print(f\"column: {column}, lower_bound: {lower_bound}, upper_bound: {upper_bound}\")\n",
        "        df = df[(df[column] >= lower_bound) & (df[column] <= upper_bound)]\n",
        "\n",
        "    return df\n",
        "\n",
        "data = remove_outliers_iqr(data, ['income'], th1=0.1, th3 = 0.75)"
      ],
      "metadata": {
        "colab": {
          "base_uri": "https://localhost:8080/"
        },
        "id": "3prAVuIz9nnI",
        "outputId": "75937cc7-9eb7-4cf1-add7-5c2bb8e6e5c4"
      },
      "execution_count": 6,
      "outputs": [
        {
          "output_type": "stream",
          "name": "stdout",
          "text": [
            "column: income, lower_bound: -11985.75, upper_bound: 19976.25\n"
          ]
        }
      ]
    },
    {
      "cell_type": "code",
      "source": [
        "data['income'].hist()\n",
        "data['income'].describe()"
      ],
      "metadata": {
        "colab": {
          "base_uri": "https://localhost:8080/",
          "height": 594
        },
        "id": "5bcwRdlq-9vJ",
        "outputId": "740e4d38-9c19-4c6a-9df4-e13f71606671"
      },
      "execution_count": 7,
      "outputs": [
        {
          "output_type": "execute_result",
          "data": {
            "text/plain": [
              "count    156964.000000\n",
              "mean       3499.610713\n",
              "std        4717.597682\n",
              "min           0.000000\n",
              "25%         150.000000\n",
              "50%        1254.000000\n",
              "75%        5130.000000\n",
              "max       19976.000000\n",
              "Name: income, dtype: float64"
            ]
          },
          "metadata": {},
          "execution_count": 7
        },
        {
          "output_type": "display_data",
          "data": {
            "text/plain": [
              "<Figure size 640x480 with 1 Axes>"
            ],
            "image/png": "[encoded data removed]"
          },
          "metadata": {}
        }
      ]
    },
    {
      "cell_type": "markdown",
      "source": [
        "### income_group\n",
        "\n",
        "It'd be good to divide the group based on the percentiles. This would allows the group proportion to be equal, and the values look quite reasonable"
      ],
      "metadata": {
        "id": "LMBarZey-IcK"
      }
    },
    {
      "cell_type": "code",
      "source": [
        "first_quartile = data['income'].quantile(0.25)\n",
        "second_quartile = data['income'].quantile(0.5)\n",
        "third_quartile = data['income'].quantile(0.75)\n",
        "fourth_quartile = data['income'].quantile(1)\n",
        "\n",
        "data['income_group'] = data['income'].apply(lambda x: 0 if x < first_quartile else 1 if x < second_quartile else 2 if x < third_quartile else 3)\n",
        "\n",
        "data['income_group'].value_counts()\n",
        "\n"
      ],
      "metadata": {
        "colab": {
          "base_uri": "https://localhost:8080/"
        },
        "id": "zYgsjNo7-A3S",
        "outputId": "ca83c655-a9f0-4111-8d8b-584bf4449c0e"
      },
      "execution_count": 8,
      "outputs": [
        {
          "output_type": "execute_result",
          "data": {
            "text/plain": [
              "income_group\n",
              "1    39513\n",
              "3    39264\n",
              "2    39240\n",
              "0    38947\n",
              "Name: count, dtype: int64"
            ]
          },
          "metadata": {},
          "execution_count": 8
        }
      ]
    },
    {
      "cell_type": "markdown",
      "source": [
        "## Data Prep"
      ],
      "metadata": {
        "id": "bxYxa3ASBTxZ"
      }
    },
    {
      "cell_type": "code",
      "source": [
        "from sklearn.model_selection import train_test_split\n",
        "from sklearn.metrics import classification_report, confusion_matrix\n",
        "from sklearn.preprocessing import StandardScaler, OneHotEncoder, MinMaxScaler"
      ],
      "metadata": {
        "id": "IlAyc9Oq-vN4"
      },
      "execution_count": 9,
      "outputs": []
    },
    {
      "cell_type": "code",
      "source": [
        "new_data = data.drop(columns=['income','number_of_reviews', 'reviews_per_month', 'number_of_reviews_ltm'])"
      ],
      "metadata": {
        "id": "5T8z43gxDhJT"
      },
      "execution_count": 10,
      "outputs": []
    },
    {
      "cell_type": "markdown",
      "source": [
        "### Scaling\n",
        "\n",
        "some features use StandardScaler, some use MinMaxscaler"
      ],
      "metadata": {
        "id": "Yp83WGgpJVzg"
      }
    },
    {
      "cell_type": "code",
      "source": [
        "# standardization\n",
        "standardized_cols = ['latitude', 'longitude']  # we use stardard scaler for these columns because there are negative values here\n",
        "\n",
        "standard_scaler = StandardScaler()\n",
        "\n",
        "new_data[standardized_cols] = standard_scaler.fit_transform(data[standardized_cols])\n",
        "\n",
        "# minmax normalization\n",
        "minmax_cols = ['room_type', 'price' ,'minimum_nights', \t'calculated_host_listings_count','availability_365']\n",
        "\n",
        "min_max_scaler = MinMaxScaler()\n",
        "\n",
        "new_data[minmax_cols] = min_max_scaler.fit_transform(data[minmax_cols])"
      ],
      "metadata": {
        "id": "AoI5yUcRB5M8"
      },
      "execution_count": 11,
      "outputs": []
    },
    {
      "cell_type": "code",
      "source": [
        "new_data.describe()"
      ],
      "metadata": {
        "colab": {
          "base_uri": "https://localhost:8080/",
          "height": 320
        },
        "id": "yH6TTtjZCfE4",
        "outputId": "bd94b3ad-4186-48e8-99c2-46eda2477820"
      },
      "execution_count": 12,
      "outputs": [
        {
          "output_type": "execute_result",
          "data": {
            "text/plain": [
              "           latitude     longitude      room_type          price  \\\n",
              "count  1.569640e+05  1.569640e+05  156964.000000  156964.000000   \n",
              "mean  -8.850776e-16 -5.707374e-16       0.094022       0.285556   \n",
              "std    1.000003e+00  1.000003e+00       0.161755       0.195841   \n",
              "min   -2.426895e+00 -2.277460e+00       0.000000       0.000000   \n",
              "25%   -3.498167e-01 -5.733926e-01       0.000000       0.143836   \n",
              "50%    9.045036e-02 -1.945224e-02       0.000000       0.231164   \n",
              "75%    8.496094e-01  1.007800e+00       0.333333       0.375000   \n",
              "max    1.912595e+00  1.387712e+00       1.000000       1.000000   \n",
              "\n",
              "       minimum_nights  calculated_host_listings_count  availability_365  \\\n",
              "count   156964.000000                   156964.000000     156964.000000   \n",
              "mean         0.191094                        0.127630          0.569357   \n",
              "std          0.231171                        0.214561          0.319585   \n",
              "min          0.000000                        0.000000          0.000000   \n",
              "25%          0.000000                        0.000000          0.263014   \n",
              "50%          0.034483                        0.035714          0.608219   \n",
              "75%          0.500000                        0.142857          0.871233   \n",
              "max          1.000000                        1.000000          1.000000   \n",
              "\n",
              "       income_group  \n",
              "count  156964.00000  \n",
              "mean        1.50216  \n",
              "std         1.11649  \n",
              "min         0.00000  \n",
              "25%         1.00000  \n",
              "50%         2.00000  \n",
              "75%         3.00000  \n",
              "max         3.00000  "
            ],
            "text/html": [
              "\n",
              "  <div id=\"df-55227292-b75d-4c94-9405-86ca20d5dfea\" class=\"colab-df-container\">\n",
              "    <div>\n",
              "<style scoped>\n",
              "    .dataframe tbody tr th:only-of-type {\n",
              "        vertical-align: middle;\n",
              "    }\n",
              "\n",
              "    .dataframe tbody tr th {\n",
              "        vertical-align: top;\n",
              "    }\n",
              "\n",
              "    .dataframe thead th {\n",
              "        text-align: right;\n",
              "    }\n",
              "</style>\n",
              "<table border=\"1\" class=\"dataframe\">\n",
              "  <thead>\n",
              "    <tr style=\"text-align: right;\">\n",
              "      <th></th>\n",
              "      <th>latitude</th>\n",
              "      <th>longitude</th>\n",
              "      <th>room_type</th>\n",
              "      <th>price</th>\n",
              "      <th>minimum_nights</th>\n",
              "      <th>calculated_host_listings_count</th>\n",
              "      <th>availability_365</th>\n",
              "      <th>income_group</th>\n",
              "    </tr>\n",
              "  </thead>\n",
              "  <tbody>\n",
              "    <tr>\n",
              "      <th>count</th>\n",
              "      <td>1.569640e+05</td>\n",
              "      <td>1.569640e+05</td>\n",
              "      <td>156964.000000</td>\n",
              "      <td>156964.000000</td>\n",
              "      <td>156964.000000</td>\n",
              "      <td>156964.000000</td>\n",
              "      <td>156964.000000</td>\n",
              "      <td>156964.00000</td>\n",
              "    </tr>\n",
              "    <tr>\n",
              "      <th>mean</th>\n",
              "      <td>-8.850776e-16</td>\n",
              "      <td>-5.707374e-16</td>\n",
              "      <td>0.094022</td>\n",
              "      <td>0.285556</td>\n",
              "      <td>0.191094</td>\n",
              "      <td>0.127630</td>\n",
              "      <td>0.569357</td>\n",
              "      <td>1.50216</td>\n",
              "    </tr>\n",
              "    <tr>\n",
              "      <th>std</th>\n",
              "      <td>1.000003e+00</td>\n",
              "      <td>1.000003e+00</td>\n",
              "      <td>0.161755</td>\n",
              "      <td>0.195841</td>\n",
              "      <td>0.231171</td>\n",
              "      <td>0.214561</td>\n",
              "      <td>0.319585</td>\n",
              "      <td>1.11649</td>\n",
              "    </tr>\n",
              "    <tr>\n",
              "      <th>min</th>\n",
              "      <td>-2.426895e+00</td>\n",
              "      <td>-2.277460e+00</td>\n",
              "      <td>0.000000</td>\n",
              "      <td>0.000000</td>\n",
              "      <td>0.000000</td>\n",
              "      <td>0.000000</td>\n",
              "      <td>0.000000</td>\n",
              "      <td>0.00000</td>\n",
              "    </tr>\n",
              "    <tr>\n",
              "      <th>25%</th>\n",
              "      <td>-3.498167e-01</td>\n",
              "      <td>-5.733926e-01</td>\n",
              "      <td>0.000000</td>\n",
              "      <td>0.143836</td>\n",
              "      <td>0.000000</td>\n",
              "      <td>0.000000</td>\n",
              "      <td>0.263014</td>\n",
              "      <td>1.00000</td>\n",
              "    </tr>\n",
              "    <tr>\n",
              "      <th>50%</th>\n",
              "      <td>9.045036e-02</td>\n",
              "      <td>-1.945224e-02</td>\n",
              "      <td>0.000000</td>\n",
              "      <td>0.231164</td>\n",
              "      <td>0.034483</td>\n",
              "      <td>0.035714</td>\n",
              "      <td>0.608219</td>\n",
              "      <td>2.00000</td>\n",
              "    </tr>\n",
              "    <tr>\n",
              "      <th>75%</th>\n",
              "      <td>8.496094e-01</td>\n",
              "      <td>1.007800e+00</td>\n",
              "      <td>0.333333</td>\n",
              "      <td>0.375000</td>\n",
              "      <td>0.500000</td>\n",
              "      <td>0.142857</td>\n",
              "      <td>0.871233</td>\n",
              "      <td>3.00000</td>\n",
              "    </tr>\n",
              "    <tr>\n",
              "      <th>max</th>\n",
              "      <td>1.912595e+00</td>\n",
              "      <td>1.387712e+00</td>\n",
              "      <td>1.000000</td>\n",
              "      <td>1.000000</td>\n",
              "      <td>1.000000</td>\n",
              "      <td>1.000000</td>\n",
              "      <td>1.000000</td>\n",
              "      <td>3.00000</td>\n",
              "    </tr>\n",
              "  </tbody>\n",
              "</table>\n",
              "</div>\n",
              "    <div class=\"colab-df-buttons\">\n",
              "\n",
              "  <div class=\"colab-df-container\">\n",
              "    <button class=\"colab-df-convert\" onclick=\"convertToInteractive('df-55227292-b75d-4c94-9405-86ca20d5dfea')\"\n",
              "            title=\"Convert this dataframe to an interactive table.\"\n",
              "            style=\"display:none;\">\n",
              "\n",
              "  <svg xmlns=\"http://www.w3.org/2000/svg\" height=\"24px\" viewBox=\"0 -960 960 960\">\n",
              "    <path d=\"M120-120v-720h720v720H120Zm60-500h600v-160H180v160Zm220 220h160v-160H400v160Zm0 220h160v-160H400v160ZM180-400h160v-160H180v160Zm440 0h160v-160H620v160ZM180-180h160v-160H180v160Zm440 0h160v-160H620v160Z\"/>\n",
              "  </svg>\n",
              "    </button>\n",
              "\n",
              "  <style>\n",
              "    .colab-df-container {\n",
              "      display:flex;\n",
              "      gap: 12px;\n",
              "    }\n",
              "\n",
              "    .colab-df-convert {\n",
              "      background-color: #E8F0FE;\n",
              "      border: none;\n",
              "      border-radius: 50%;\n",
              "      cursor: pointer;\n",
              "      display: none;\n",
              "      fill: #1967D2;\n",
              "      height: 32px;\n",
              "      padding: 0 0 0 0;\n",
              "      width: 32px;\n",
              "    }\n",
              "\n",
              "    .colab-df-convert:hover {\n",
              "      background-color: #E2EBFA;\n",
              "      box-shadow: 0px 1px 2px rgba(60, 64, 67, 0.3), 0px 1px 3px 1px rgba(60, 64, 67, 0.15);\n",
              "      fill: #174EA6;\n",
              "    }\n",
              "\n",
              "    .colab-df-buttons div {\n",
              "      margin-bottom: 4px;\n",
              "    }\n",
              "\n",
              "    [theme=dark] .colab-df-convert {\n",
              "      background-color: #3B4455;\n",
              "      fill: #D2E3FC;\n",
              "    }\n",
              "\n",
              "    [theme=dark] .colab-df-convert:hover {\n",
              "      background-color: #434B5C;\n",
              "      box-shadow: 0px 1px 3px 1px rgba(0, 0, 0, 0.15);\n",
              "      filter: drop-shadow(0px 1px 2px rgba(0, 0, 0, 0.3));\n",
              "      fill: #FFFFFF;\n",
              "    }\n",
              "  </style>\n",
              "\n",
              "    <script>\n",
              "      const buttonEl =\n",
              "        document.querySelector('#df-55227292-b75d-4c94-9405-86ca20d5dfea button.colab-df-convert');\n",
              "      buttonEl.style.display =\n",
              "        google.colab.kernel.accessAllowed ? 'block' : 'none';\n",
              "\n",
              "      async function convertToInteractive(key) {\n",
              "        const element = document.querySelector('#df-55227292-b75d-4c94-9405-86ca20d5dfea');\n",
              "        const dataTable =\n",
              "          await google.colab.kernel.invokeFunction('convertToInteractive',\n",
              "                                                    [key], {});\n",
              "        if (!dataTable) return;\n",
              "\n",
              "        const docLinkHtml = 'Like what you see? Visit the ' +\n",
              "          '<a target=\"_blank\" href=https://colab.research.google.com/notebooks/data_table.ipynb>data table notebook</a>'\n",
              "          + ' to learn more about interactive tables.';\n",
              "        element.innerHTML = '';\n",
              "        dataTable['output_type'] = 'display_data';\n",
              "        await google.colab.output.renderOutput(dataTable, element);\n",
              "        const docLink = document.createElement('div');\n",
              "        docLink.innerHTML = docLinkHtml;\n",
              "        element.appendChild(docLink);\n",
              "      }\n",
              "    </script>\n",
              "  </div>\n",
              "\n",
              "\n",
              "<div id=\"df-ce79632a-32df-407f-9340-737b73e59ef4\">\n",
              "  <button class=\"colab-df-quickchart\" onclick=\"quickchart('df-ce79632a-32df-407f-9340-737b73e59ef4')\"\n",
              "            title=\"Suggest charts\"\n",
              "            style=\"display:none;\">\n",
              "\n",
              "<svg xmlns=\"http://www.w3.org/2000/svg\" height=\"24px\"viewBox=\"0 0 24 24\"\n",
              "     width=\"24px\">\n",
              "    <g>\n",
              "        <path d=\"M19 3H5c-1.1 0-2 .9-2 2v14c0 1.1.9 2 2 2h14c1.1 0 2-.9 2-2V5c0-1.1-.9-2-2-2zM9 17H7v-7h2v7zm4 0h-2V7h2v10zm4 0h-2v-4h2v4z\"/>\n",
              "    </g>\n",
              "</svg>\n",
              "  </button>\n",
              "\n",
              "<style>\n",
              "  .colab-df-quickchart {\n",
              "      --bg-color: #E8F0FE;\n",
              "      --fill-color: #1967D2;\n",
              "      --hover-bg-color: #E2EBFA;\n",
              "      --hover-fill-color: #174EA6;\n",
              "      --disabled-fill-color: #AAA;\n",
              "      --disabled-bg-color: #DDD;\n",
              "  }\n",
              "\n",
              "  [theme=dark] .colab-df-quickchart {\n",
              "      --bg-color: #3B4455;\n",
              "      --fill-color: #D2E3FC;\n",
              "      --hover-bg-color: #434B5C;\n",
              "      --hover-fill-color: #FFFFFF;\n",
              "      --disabled-bg-color: #3B4455;\n",
              "      --disabled-fill-color: #666;\n",
              "  }\n",
              "\n",
              "  .colab-df-quickchart {\n",
              "    background-color: var(--bg-color);\n",
              "    border: none;\n",
              "    border-radius: 50%;\n",
              "    cursor: pointer;\n",
              "    display: none;\n",
              "    fill: var(--fill-color);\n",
              "    height: 32px;\n",
              "    padding: 0;\n",
              "    width: 32px;\n",
              "  }\n",
              "\n",
              "  .colab-df-quickchart:hover {\n",
              "    background-color: var(--hover-bg-color);\n",
              "    box-shadow: 0 1px 2px rgba(60, 64, 67, 0.3), 0 1px 3px 1px rgba(60, 64, 67, 0.15);\n",
              "    fill: var(--button-hover-fill-color);\n",
              "  }\n",
              "\n",
              "  .colab-df-quickchart-complete:disabled,\n",
              "  .colab-df-quickchart-complete:disabled:hover {\n",
              "    background-color: var(--disabled-bg-color);\n",
              "    fill: var(--disabled-fill-color);\n",
              "    box-shadow: none;\n",
              "  }\n",
              "\n",
              "  .colab-df-spinner {\n",
              "    border: 2px solid var(--fill-color);\n",
              "    border-color: transparent;\n",
              "    border-bottom-color: var(--fill-color);\n",
              "    animation:\n",
              "      spin 1s steps(1) infinite;\n",
              "  }\n",
              "\n",
              "  @keyframes spin {\n",
              "    0% {\n",
              "      border-color: transparent;\n",
              "      border-bottom-color: var(--fill-color);\n",
              "      border-left-color: var(--fill-color);\n",
              "    }\n",
              "    20% {\n",
              "      border-color: transparent;\n",
              "      border-left-color: var(--fill-color);\n",
              "      border-top-color: var(--fill-color);\n",
              "    }\n",
              "    30% {\n",
              "      border-color: transparent;\n",
              "      border-left-color: var(--fill-color);\n",
              "      border-top-color: var(--fill-color);\n",
              "      border-right-color: var(--fill-color);\n",
              "    }\n",
              "    40% {\n",
              "      border-color: transparent;\n",
              "      border-right-color: var(--fill-color);\n",
              "      border-top-color: var(--fill-color);\n",
              "    }\n",
              "    60% {\n",
              "      border-color: transparent;\n",
              "      border-right-color: var(--fill-color);\n",
              "    }\n",
              "    80% {\n",
              "      border-color: transparent;\n",
              "      border-right-color: var(--fill-color);\n",
              "      border-bottom-color: var(--fill-color);\n",
              "    }\n",
              "    90% {\n",
              "      border-color: transparent;\n",
              "      border-bottom-color: var(--fill-color);\n",
              "    }\n",
              "  }\n",
              "</style>\n",
              "\n",
              "  <script>\n",
              "    async function quickchart(key) {\n",
              "      const quickchartButtonEl =\n",
              "        document.querySelector('#' + key + ' button');\n",
              "      quickchartButtonEl.disabled = true;  // To prevent multiple clicks.\n",
              "      quickchartButtonEl.classList.add('colab-df-spinner');\n",
              "      try {\n",
              "        const charts = await google.colab.kernel.invokeFunction(\n",
              "            'suggestCharts', [key], {});\n",
              "      } catch (error) {\n",
              "        console.error('Error during call to suggestCharts:', error);\n",
              "      }\n",
              "      quickchartButtonEl.classList.remove('colab-df-spinner');\n",
              "      quickchartButtonEl.classList.add('colab-df-quickchart-complete');\n",
              "    }\n",
              "    (() => {\n",
              "      let quickchartButtonEl =\n",
              "        document.querySelector('#df-ce79632a-32df-407f-9340-737b73e59ef4 button');\n",
              "      quickchartButtonEl.style.display =\n",
              "        google.colab.kernel.accessAllowed ? 'block' : 'none';\n",
              "    })();\n",
              "  </script>\n",
              "</div>\n",
              "\n",
              "    </div>\n",
              "  </div>\n"
            ],
            "application/vnd.google.colaboratory.intrinsic+json": {
              "type": "dataframe",
              "summary": "{\n  \"name\": \"new_data\",\n  \"rows\": 8,\n  \"fields\": [\n    {\n      \"column\": \"latitude\",\n      \"properties\": {\n        \"dtype\": \"number\",\n        \"std\": 55495.10007200932,\n        \"min\": -2.426894629521322,\n        \"max\": 156964.0,\n        \"num_unique_values\": 8,\n        \"samples\": [\n          -8.850775699893911e-16,\n          0.09045035603971642,\n          156964.0\n        ],\n        \"semantic_type\": \"\",\n        \"description\": \"\"\n      }\n    },\n    {\n      \"column\": \"longitude\",\n      \"properties\": {\n        \"dtype\": \"number\",\n        \"std\": 55495.12788610674,\n        \"min\": -2.277459881263532,\n        \"max\": 156964.0,\n        \"num_unique_values\": 8,\n        \"samples\": [\n          -5.707374182910313e-16,\n          -0.019452242325454564,\n          156964.0\n        ],\n        \"semantic_type\": \"\",\n        \"description\": \"\"\n      }\n    },\n    {\n      \"column\": \"room_type\",\n      \"properties\": {\n        \"dtype\": \"number\",\n        \"std\": 55495.074139935736,\n        \"min\": 0.0,\n        \"max\": 156964.0,\n        \"num_unique_values\": 6,\n        \"samples\": [\n          156964.0,\n          0.09402155908361151,\n          1.0\n        ],\n        \"semantic_type\": \"\",\n        \"description\": \"\"\n      }\n    },\n    {\n      \"column\": \"price\",\n      \"properties\": {\n        \"dtype\": \"number\",\n        \"std\": 55495.041699343004,\n        \"min\": 0.0,\n        \"max\": 156964.0,\n        \"num_unique_values\": 8,\n        \"samples\": [\n          0.28555577092452566,\n          0.23116438356164382,\n          156964.0\n        ],\n        \"semantic_type\": \"\",\n        \"description\": \"\"\n      }\n    },\n    {\n      \"column\": \"minimum_nights\",\n      \"properties\": {\n        \"dtype\": \"number\",\n        \"std\": 55495.055571404104,\n        \"min\": 0.0,\n        \"max\": 156964.0,\n        \"num_unique_values\": 7,\n        \"samples\": [\n          156964.0,\n          0.19109389458070333,\n          0.5\n        ],\n        \"semantic_type\": \"\",\n        \"description\": \"\"\n      }\n    },\n    {\n      \"column\": \"calculated_host_listings_count\",\n      \"properties\": {\n        \"dtype\": \"number\",\n        \"std\": 55495.07759194044,\n        \"min\": 0.0,\n        \"max\": 156964.0,\n        \"num_unique_values\": 7,\n        \"samples\": [\n          156964.0,\n          0.12763049398042137,\n          0.14285714285714285\n        ],\n        \"semantic_type\": \"\",\n        \"description\": \"\"\n      }\n    },\n    {\n      \"column\": \"availability_365\",\n      \"properties\": {\n        \"dtype\": \"number\",\n        \"std\": 55494.97098825203,\n        \"min\": 0.0,\n        \"max\": 156964.0,\n        \"num_unique_values\": 8,\n        \"samples\": [\n          0.5693565717712779,\n          0.6082191780821918,\n          156964.0\n        ],\n        \"semantic_type\": \"\",\n        \"description\": \"\"\n      }\n    },\n    {\n      \"column\": \"income_group\",\n      \"properties\": {\n        \"dtype\": \"number\",\n        \"std\": 55494.567579936425,\n        \"min\": 0.0,\n        \"max\": 156964.0,\n        \"num_unique_values\": 7,\n        \"samples\": [\n          156964.0,\n          1.502159730893708,\n          2.0\n        ],\n        \"semantic_type\": \"\",\n        \"description\": \"\"\n      }\n    }\n  ]\n}"
            }
          },
          "metadata": {},
          "execution_count": 12
        }
      ]
    },
    {
      "cell_type": "code",
      "source": [
        "# income_group and room_type are orginilly categorical, then discrete data, just want to check if they're still are\n",
        "print(new_data['income_group'].value_counts())\n",
        "print(new_data['room_type'].value_counts())"
      ],
      "metadata": {
        "colab": {
          "base_uri": "https://localhost:8080/"
        },
        "id": "vwVp1R9aCiG0",
        "outputId": "1adf1028-cb9d-403f-a16f-d2c358e1ecb1"
      },
      "execution_count": 13,
      "outputs": [
        {
          "output_type": "stream",
          "name": "stdout",
          "text": [
            "income_group\n",
            "1    39513\n",
            "3    39264\n",
            "2    39240\n",
            "0    38947\n",
            "Name: count, dtype: int64\n",
            "room_type\n",
            "0.000000    114936\n",
            "0.333333     40124\n",
            "0.666667      1562\n",
            "1.000000       342\n",
            "Name: count, dtype: int64\n"
          ]
        }
      ]
    },
    {
      "cell_type": "markdown",
      "source": [
        "### Split data to train and test, one hot encode target"
      ],
      "metadata": {
        "id": "iT2rMM-SHj3_"
      }
    },
    {
      "cell_type": "code",
      "source": [
        "X = new_data.drop(columns=['income_group']).values\n",
        "y = new_data['income_group'].values\n",
        "\n",
        "#OHE\n",
        "encoder = OneHotEncoder(sparse=False)\n",
        "y_onehot = encoder.fit_transform(y.reshape(-1, 1))\n",
        "\n",
        "X_train, X_test, y_train, y_test = train_test_split(X, y_onehot, test_size=0.2, random_state=42)"
      ],
      "metadata": {
        "colab": {
          "base_uri": "https://localhost:8080/"
        },
        "id": "sJHWXEySFs6W",
        "outputId": "fe779af2-666e-4924-cbef-3b7f05e6b72b"
      },
      "execution_count": 14,
      "outputs": [
        {
          "output_type": "stream",
          "name": "stderr",
          "text": [
            "/usr/local/lib/python3.10/dist-packages/sklearn/preprocessing/_encoders.py:868: FutureWarning: `sparse` was renamed to `sparse_output` in version 1.2 and will be removed in 1.4. `sparse_output` is ignored unless you leave `sparse` to its default value.\n",
            "  warnings.warn(\n"
          ]
        }
      ]
    },
    {
      "cell_type": "markdown",
      "source": [
        "## Model"
      ],
      "metadata": {
        "id": "et0mE3PDJqoS"
      }
    },
    {
      "cell_type": "code",
      "source": [
        "import tensorflow as tf\n",
        "import keras\n",
        "from keras.models import Sequential\n",
        "from keras.layers import Dense, Dropout\n",
        "from keras.regularizers import L2"
      ],
      "metadata": {
        "id": "c9kMxanwGkqg"
      },
      "execution_count": 24,
      "outputs": []
    },
    {
      "cell_type": "markdown",
      "source": [
        "### Hyperparameters"
      ],
      "metadata": {
        "id": "F9aaqB1kJ7-D"
      }
    },
    {
      "cell_type": "code",
      "source": [
        "input_size = X_train.shape[1]\n",
        "num_classes = y_train.shape[1]\n",
        "batch_size = 50\n",
        "epochs = 100\n",
        "learning_rate = 0.001"
      ],
      "metadata": {
        "id": "Lu_APXPHJ9y-"
      },
      "execution_count": 22,
      "outputs": []
    },
    {
      "cell_type": "markdown",
      "source": [
        "### Model Init"
      ],
      "metadata": {
        "id": "MK-tUDVJKKZ3"
      }
    },
    {
      "cell_type": "code",
      "source": [
        "model = Sequential()\n",
        "model.add(Dense(128, activation='relu', kernel_regularizer=L2(0.01), input_shape=(input_size,)))\n",
        "model.add(Dropout(0.5))\n",
        "model.add(Dense(128, activation='relu',kernel_regularizer=L2(0.01)))\n",
        "model.add(Dropout(0.2))\n",
        "model.add(Dense(64, activation='relu',kernel_regularizer=L2(0.01)))\n",
        "model.add(Dense(num_classes, activation='softmax'))\n",
        "# model.compile(loss='categorical_crossentropy', optimizer=tf.keras.optimizers.Adam(learning_rate=learning_rate), metrics=['accuracy'])\n",
        "model.compile(loss='categorical_crossentropy', optimizer='sgd', metrics=['accuracy'])\n",
        "model.summary()"
      ],
      "metadata": {
        "colab": {
          "base_uri": "https://localhost:8080/"
        },
        "id": "gdH-r6mNJ5v3",
        "outputId": "c76e6ff0-18e2-429b-bdc6-aa27b939538d"
      },
      "execution_count": 27,
      "outputs": [
        {
          "output_type": "stream",
          "name": "stdout",
          "text": [
            "Model: \"sequential_4\"\n",
            "_________________________________________________________________\n",
            " Layer (type)                Output Shape              Param #   \n",
            "=================================================================\n",
            " dense_8 (Dense)             (None, 128)               1024      \n",
            "                                                                 \n",
            " dropout_3 (Dropout)         (None, 128)               0         \n",
            "                                                                 \n",
            " dense_9 (Dense)             (None, 128)               16512     \n",
            "                                                                 \n",
            " dropout_4 (Dropout)         (None, 128)               0         \n",
            "                                                                 \n",
            " dense_10 (Dense)            (None, 64)                8256      \n",
            "                                                                 \n",
            " dense_11 (Dense)            (None, 4)                 260       \n",
            "                                                                 \n",
            "=================================================================\n",
            "Total params: 26052 (101.77 KB)\n",
            "Trainable params: 26052 (101.77 KB)\n",
            "Non-trainable params: 0 (0.00 Byte)\n",
            "_________________________________________________________________\n"
          ]
        }
      ]
    },
    {
      "cell_type": "markdown",
      "source": [
        "## Train"
      ],
      "metadata": {
        "id": "cYdTZg1oKmWp"
      }
    },
    {
      "cell_type": "code",
      "source": [
        "callback = keras.callbacks.EarlyStopping(monitor='val_loss', patience=10)\n",
        "history = model.fit(X_train, y_train, batch_size=batch_size, epochs=epochs, validation_data=(X_test, y_test), callbacks=[callback], verbose=1)"
      ],
      "metadata": {
        "colab": {
          "base_uri": "https://localhost:8080/"
        },
        "id": "1HWKDgQiKlKf",
        "outputId": "17fce4ad-1e97-4390-9e32-c411c61362ee"
      },
      "execution_count": 29,
      "outputs": [
        {
          "output_type": "stream",
          "name": "stdout",
          "text": [
            "Epoch 1/100\n",
            "2512/2512 [==============================] - 10s 3ms/step - loss: 2.8003 - accuracy: 0.2904 - val_loss: 2.1970 - val_accuracy: 0.3191\n",
            "Epoch 2/100\n",
            "2512/2512 [==============================] - 10s 4ms/step - loss: 1.8922 - accuracy: 0.3321 - val_loss: 1.6656 - val_accuracy: 0.3539\n",
            "Epoch 3/100\n",
            "2512/2512 [==============================] - 7s 3ms/step - loss: 1.5546 - accuracy: 0.3441 - val_loss: 1.4679 - val_accuracy: 0.3520\n",
            "Epoch 4/100\n",
            "2512/2512 [==============================] - 10s 4ms/step - loss: 1.4310 - accuracy: 0.3497 - val_loss: 1.3961 - val_accuracy: 0.3574\n",
            "Epoch 5/100\n",
            "2512/2512 [==============================] - 9s 4ms/step - loss: 1.3839 - accuracy: 0.3507 - val_loss: 1.3705 - val_accuracy: 0.3578\n",
            "Epoch 6/100\n",
            "2512/2512 [==============================] - 8s 3ms/step - loss: 1.3669 - accuracy: 0.3504 - val_loss: 1.3591 - val_accuracy: 0.3549\n",
            "Epoch 7/100\n",
            "2512/2512 [==============================] - 11s 4ms/step - loss: 1.3591 - accuracy: 0.3509 - val_loss: 1.3536 - val_accuracy: 0.3592\n",
            "Epoch 8/100\n",
            "2512/2512 [==============================] - 9s 4ms/step - loss: 1.3560 - accuracy: 0.3513 - val_loss: 1.3505 - val_accuracy: 0.3578\n",
            "Epoch 9/100\n",
            "2512/2512 [==============================] - 9s 4ms/step - loss: 1.3540 - accuracy: 0.3520 - val_loss: 1.3508 - val_accuracy: 0.3565\n",
            "Epoch 10/100\n",
            "2512/2512 [==============================] - 11s 4ms/step - loss: 1.3531 - accuracy: 0.3510 - val_loss: 1.3483 - val_accuracy: 0.3593\n",
            "Epoch 11/100\n",
            "2512/2512 [==============================] - 8s 3ms/step - loss: 1.3522 - accuracy: 0.3511 - val_loss: 1.3477 - val_accuracy: 0.3550\n",
            "Epoch 12/100\n",
            "2512/2512 [==============================] - 9s 4ms/step - loss: 1.3512 - accuracy: 0.3533 - val_loss: 1.3468 - val_accuracy: 0.3594\n",
            "Epoch 13/100\n",
            "2512/2512 [==============================] - 9s 4ms/step - loss: 1.3508 - accuracy: 0.3523 - val_loss: 1.3484 - val_accuracy: 0.3520\n",
            "Epoch 14/100\n",
            "2512/2512 [==============================] - 8s 3ms/step - loss: 1.3498 - accuracy: 0.3520 - val_loss: 1.3458 - val_accuracy: 0.3572\n",
            "Epoch 15/100\n",
            "2512/2512 [==============================] - 9s 4ms/step - loss: 1.3492 - accuracy: 0.3521 - val_loss: 1.3459 - val_accuracy: 0.3614\n",
            "Epoch 16/100\n",
            "2512/2512 [==============================] - 8s 3ms/step - loss: 1.3489 - accuracy: 0.3518 - val_loss: 1.3455 - val_accuracy: 0.3581\n",
            "Epoch 17/100\n",
            "2512/2512 [==============================] - 10s 4ms/step - loss: 1.3486 - accuracy: 0.3531 - val_loss: 1.3472 - val_accuracy: 0.3544\n",
            "Epoch 18/100\n",
            "2512/2512 [==============================] - 9s 4ms/step - loss: 1.3479 - accuracy: 0.3519 - val_loss: 1.3438 - val_accuracy: 0.3596\n",
            "Epoch 19/100\n",
            "2512/2512 [==============================] - 8s 3ms/step - loss: 1.3478 - accuracy: 0.3510 - val_loss: 1.3464 - val_accuracy: 0.3566\n",
            "Epoch 20/100\n",
            "2512/2512 [==============================] - 9s 4ms/step - loss: 1.3470 - accuracy: 0.3516 - val_loss: 1.3430 - val_accuracy: 0.3607\n",
            "Epoch 21/100\n",
            "2512/2512 [==============================] - 7s 3ms/step - loss: 1.3466 - accuracy: 0.3519 - val_loss: 1.3434 - val_accuracy: 0.3537\n",
            "Epoch 22/100\n",
            "2512/2512 [==============================] - 9s 4ms/step - loss: 1.3463 - accuracy: 0.3526 - val_loss: 1.3426 - val_accuracy: 0.3591\n",
            "Epoch 23/100\n",
            "2512/2512 [==============================] - 8s 3ms/step - loss: 1.3461 - accuracy: 0.3532 - val_loss: 1.3433 - val_accuracy: 0.3557\n",
            "Epoch 24/100\n",
            "2512/2512 [==============================] - 9s 4ms/step - loss: 1.3460 - accuracy: 0.3527 - val_loss: 1.3423 - val_accuracy: 0.3589\n",
            "Epoch 25/100\n",
            "2512/2512 [==============================] - 10s 4ms/step - loss: 1.3461 - accuracy: 0.3520 - val_loss: 1.3429 - val_accuracy: 0.3584\n",
            "Epoch 26/100\n",
            "2512/2512 [==============================] - 8s 3ms/step - loss: 1.3456 - accuracy: 0.3540 - val_loss: 1.3458 - val_accuracy: 0.3538\n",
            "Epoch 27/100\n",
            "2512/2512 [==============================] - 9s 4ms/step - loss: 1.3453 - accuracy: 0.3528 - val_loss: 1.3437 - val_accuracy: 0.3564\n",
            "Epoch 28/100\n",
            "2512/2512 [==============================] - 7s 3ms/step - loss: 1.3451 - accuracy: 0.3535 - val_loss: 1.3405 - val_accuracy: 0.3594\n",
            "Epoch 29/100\n",
            "2512/2512 [==============================] - 10s 4ms/step - loss: 1.3449 - accuracy: 0.3528 - val_loss: 1.3408 - val_accuracy: 0.3607\n",
            "Epoch 30/100\n",
            "2512/2512 [==============================] - 10s 4ms/step - loss: 1.3448 - accuracy: 0.3525 - val_loss: 1.3422 - val_accuracy: 0.3561\n",
            "Epoch 31/100\n",
            "2512/2512 [==============================] - 8s 3ms/step - loss: 1.3444 - accuracy: 0.3526 - val_loss: 1.3411 - val_accuracy: 0.3567\n",
            "Epoch 32/100\n",
            "2512/2512 [==============================] - 9s 4ms/step - loss: 1.3441 - accuracy: 0.3528 - val_loss: 1.3395 - val_accuracy: 0.3582\n",
            "Epoch 33/100\n",
            "2512/2512 [==============================] - 8s 3ms/step - loss: 1.3439 - accuracy: 0.3530 - val_loss: 1.3408 - val_accuracy: 0.3576\n",
            "Epoch 34/100\n",
            "2512/2512 [==============================] - 9s 4ms/step - loss: 1.3438 - accuracy: 0.3526 - val_loss: 1.3416 - val_accuracy: 0.3575\n",
            "Epoch 35/100\n",
            "2512/2512 [==============================] - 10s 4ms/step - loss: 1.3436 - accuracy: 0.3523 - val_loss: 1.3399 - val_accuracy: 0.3593\n",
            "Epoch 36/100\n",
            "2512/2512 [==============================] - 8s 3ms/step - loss: 1.3436 - accuracy: 0.3526 - val_loss: 1.3395 - val_accuracy: 0.3571\n",
            "Epoch 37/100\n",
            "2512/2512 [==============================] - 10s 4ms/step - loss: 1.3435 - accuracy: 0.3520 - val_loss: 1.3423 - val_accuracy: 0.3562\n",
            "Epoch 38/100\n",
            "2512/2512 [==============================] - 8s 3ms/step - loss: 1.3431 - accuracy: 0.3534 - val_loss: 1.3438 - val_accuracy: 0.3568\n",
            "Epoch 39/100\n",
            "2512/2512 [==============================] - 9s 4ms/step - loss: 1.3433 - accuracy: 0.3531 - val_loss: 1.3402 - val_accuracy: 0.3550\n",
            "Epoch 40/100\n",
            "2512/2512 [==============================] - 10s 4ms/step - loss: 1.3432 - accuracy: 0.3515 - val_loss: 1.3391 - val_accuracy: 0.3588\n",
            "Epoch 41/100\n",
            "2512/2512 [==============================] - 8s 3ms/step - loss: 1.3430 - accuracy: 0.3533 - val_loss: 1.3383 - val_accuracy: 0.3603\n",
            "Epoch 42/100\n",
            "2512/2512 [==============================] - 10s 4ms/step - loss: 1.3432 - accuracy: 0.3520 - val_loss: 1.3408 - val_accuracy: 0.3568\n",
            "Epoch 43/100\n",
            "2512/2512 [==============================] - 7s 3ms/step - loss: 1.3423 - accuracy: 0.3525 - val_loss: 1.3384 - val_accuracy: 0.3573\n",
            "Epoch 44/100\n",
            "2512/2512 [==============================] - 9s 4ms/step - loss: 1.3432 - accuracy: 0.3515 - val_loss: 1.3392 - val_accuracy: 0.3586\n",
            "Epoch 45/100\n",
            "2512/2512 [==============================] - 8s 3ms/step - loss: 1.3427 - accuracy: 0.3537 - val_loss: 1.3379 - val_accuracy: 0.3595\n",
            "Epoch 46/100\n",
            "2512/2512 [==============================] - 9s 4ms/step - loss: 1.3427 - accuracy: 0.3519 - val_loss: 1.3415 - val_accuracy: 0.3564\n",
            "Epoch 47/100\n",
            "2512/2512 [==============================] - 9s 3ms/step - loss: 1.3423 - accuracy: 0.3517 - val_loss: 1.3383 - val_accuracy: 0.3591\n",
            "Epoch 48/100\n",
            "2512/2512 [==============================] - 8s 3ms/step - loss: 1.3421 - accuracy: 0.3521 - val_loss: 1.3386 - val_accuracy: 0.3551\n",
            "Epoch 49/100\n",
            "2512/2512 [==============================] - 9s 4ms/step - loss: 1.3423 - accuracy: 0.3530 - val_loss: 1.3385 - val_accuracy: 0.3581\n",
            "Epoch 50/100\n",
            "2512/2512 [==============================] - 8s 3ms/step - loss: 1.3423 - accuracy: 0.3525 - val_loss: 1.3429 - val_accuracy: 0.3548\n",
            "Epoch 51/100\n",
            "2512/2512 [==============================] - 10s 4ms/step - loss: 1.3421 - accuracy: 0.3522 - val_loss: 1.3376 - val_accuracy: 0.3605\n",
            "Epoch 52/100\n",
            "2512/2512 [==============================] - 7s 3ms/step - loss: 1.3419 - accuracy: 0.3518 - val_loss: 1.3391 - val_accuracy: 0.3562\n",
            "Epoch 53/100\n",
            "2512/2512 [==============================] - 9s 4ms/step - loss: 1.3420 - accuracy: 0.3519 - val_loss: 1.3426 - val_accuracy: 0.3551\n",
            "Epoch 54/100\n",
            "2512/2512 [==============================] - 8s 3ms/step - loss: 1.3418 - accuracy: 0.3530 - val_loss: 1.3389 - val_accuracy: 0.3567\n",
            "Epoch 55/100\n",
            "2512/2512 [==============================] - 9s 3ms/step - loss: 1.3417 - accuracy: 0.3524 - val_loss: 1.3415 - val_accuracy: 0.3557\n",
            "Epoch 56/100\n",
            "2512/2512 [==============================] - 9s 4ms/step - loss: 1.3416 - accuracy: 0.3529 - val_loss: 1.3387 - val_accuracy: 0.3571\n",
            "Epoch 57/100\n",
            "2512/2512 [==============================] - 7s 3ms/step - loss: 1.3415 - accuracy: 0.3520 - val_loss: 1.3368 - val_accuracy: 0.3600\n",
            "Epoch 58/100\n",
            "2512/2512 [==============================] - 9s 4ms/step - loss: 1.3416 - accuracy: 0.3522 - val_loss: 1.3368 - val_accuracy: 0.3588\n",
            "Epoch 59/100\n",
            "2512/2512 [==============================] - 8s 3ms/step - loss: 1.3413 - accuracy: 0.3518 - val_loss: 1.3381 - val_accuracy: 0.3576\n",
            "Epoch 60/100\n",
            "2512/2512 [==============================] - 9s 4ms/step - loss: 1.3411 - accuracy: 0.3526 - val_loss: 1.3441 - val_accuracy: 0.3545\n",
            "Epoch 61/100\n",
            "2512/2512 [==============================] - 9s 4ms/step - loss: 1.3415 - accuracy: 0.3513 - val_loss: 1.3379 - val_accuracy: 0.3582\n",
            "Epoch 62/100\n",
            "2512/2512 [==============================] - 8s 3ms/step - loss: 1.3409 - accuracy: 0.3519 - val_loss: 1.3376 - val_accuracy: 0.3600\n",
            "Epoch 63/100\n",
            "2512/2512 [==============================] - 9s 4ms/step - loss: 1.3409 - accuracy: 0.3526 - val_loss: 1.3369 - val_accuracy: 0.3584\n",
            "Epoch 64/100\n",
            "2512/2512 [==============================] - 7s 3ms/step - loss: 1.3413 - accuracy: 0.3525 - val_loss: 1.3398 - val_accuracy: 0.3551\n",
            "Epoch 65/100\n",
            "2512/2512 [==============================] - 10s 4ms/step - loss: 1.3409 - accuracy: 0.3533 - val_loss: 1.3369 - val_accuracy: 0.3586\n",
            "Epoch 66/100\n",
            "2512/2512 [==============================] - 8s 3ms/step - loss: 1.3411 - accuracy: 0.3511 - val_loss: 1.3365 - val_accuracy: 0.3577\n",
            "Epoch 67/100\n",
            "2512/2512 [==============================] - 9s 4ms/step - loss: 1.3407 - accuracy: 0.3521 - val_loss: 1.3384 - val_accuracy: 0.3535\n",
            "Epoch 68/100\n",
            "2512/2512 [==============================] - 10s 4ms/step - loss: 1.3407 - accuracy: 0.3526 - val_loss: 1.3367 - val_accuracy: 0.3561\n",
            "Epoch 69/100\n",
            "2512/2512 [==============================] - 7s 3ms/step - loss: 1.3411 - accuracy: 0.3513 - val_loss: 1.3466 - val_accuracy: 0.3528\n",
            "Epoch 70/100\n",
            "2512/2512 [==============================] - 10s 4ms/step - loss: 1.3406 - accuracy: 0.3521 - val_loss: 1.3388 - val_accuracy: 0.3565\n",
            "Epoch 71/100\n",
            "2512/2512 [==============================] - 8s 3ms/step - loss: 1.3407 - accuracy: 0.3527 - val_loss: 1.3410 - val_accuracy: 0.3546\n",
            "Epoch 72/100\n",
            "2512/2512 [==============================] - 9s 4ms/step - loss: 1.3407 - accuracy: 0.3517 - val_loss: 1.3389 - val_accuracy: 0.3565\n",
            "Epoch 73/100\n",
            "2512/2512 [==============================] - 9s 4ms/step - loss: 1.3406 - accuracy: 0.3518 - val_loss: 1.3360 - val_accuracy: 0.3573\n",
            "Epoch 74/100\n",
            "2512/2512 [==============================] - 8s 3ms/step - loss: 1.3403 - accuracy: 0.3527 - val_loss: 1.3375 - val_accuracy: 0.3583\n",
            "Epoch 75/100\n",
            "2512/2512 [==============================] - 9s 4ms/step - loss: 1.3404 - accuracy: 0.3521 - val_loss: 1.3353 - val_accuracy: 0.3573\n",
            "Epoch 76/100\n",
            "2512/2512 [==============================] - 8s 3ms/step - loss: 1.3408 - accuracy: 0.3523 - val_loss: 1.3357 - val_accuracy: 0.3587\n",
            "Epoch 77/100\n",
            "2512/2512 [==============================] - 10s 4ms/step - loss: 1.3404 - accuracy: 0.3523 - val_loss: 1.3350 - val_accuracy: 0.3587\n",
            "Epoch 78/100\n",
            "2512/2512 [==============================] - 10s 4ms/step - loss: 1.3405 - accuracy: 0.3519 - val_loss: 1.3374 - val_accuracy: 0.3578\n",
            "Epoch 79/100\n",
            "2512/2512 [==============================] - 7s 3ms/step - loss: 1.3400 - accuracy: 0.3525 - val_loss: 1.3368 - val_accuracy: 0.3595\n",
            "Epoch 80/100\n",
            "2512/2512 [==============================] - 9s 4ms/step - loss: 1.3403 - accuracy: 0.3515 - val_loss: 1.3362 - val_accuracy: 0.3568\n",
            "Epoch 81/100\n",
            "2512/2512 [==============================] - 8s 3ms/step - loss: 1.3403 - accuracy: 0.3520 - val_loss: 1.3355 - val_accuracy: 0.3588\n",
            "Epoch 82/100\n",
            "2512/2512 [==============================] - 9s 4ms/step - loss: 1.3400 - accuracy: 0.3518 - val_loss: 1.3392 - val_accuracy: 0.3557\n",
            "Epoch 83/100\n",
            "2512/2512 [==============================] - 10s 4ms/step - loss: 1.3402 - accuracy: 0.3523 - val_loss: 1.3383 - val_accuracy: 0.3570\n",
            "Epoch 84/100\n",
            "2512/2512 [==============================] - 8s 3ms/step - loss: 1.3399 - accuracy: 0.3525 - val_loss: 1.3506 - val_accuracy: 0.3491\n",
            "Epoch 85/100\n",
            "2512/2512 [==============================] - 10s 4ms/step - loss: 1.3400 - accuracy: 0.3520 - val_loss: 1.3356 - val_accuracy: 0.3579\n",
            "Epoch 86/100\n",
            "2512/2512 [==============================] - 8s 3ms/step - loss: 1.3404 - accuracy: 0.3536 - val_loss: 1.3349 - val_accuracy: 0.3602\n",
            "Epoch 87/100\n",
            "2512/2512 [==============================] - 10s 4ms/step - loss: 1.3397 - accuracy: 0.3521 - val_loss: 1.3390 - val_accuracy: 0.3588\n",
            "Epoch 88/100\n",
            "2512/2512 [==============================] - 8s 3ms/step - loss: 1.3397 - accuracy: 0.3516 - val_loss: 1.3370 - val_accuracy: 0.3542\n",
            "Epoch 89/100\n",
            "2512/2512 [==============================] - 10s 4ms/step - loss: 1.3403 - accuracy: 0.3519 - val_loss: 1.3358 - val_accuracy: 0.3593\n",
            "Epoch 90/100\n",
            "2512/2512 [==============================] - 11s 4ms/step - loss: 1.3398 - accuracy: 0.3513 - val_loss: 1.3436 - val_accuracy: 0.3520\n",
            "Epoch 91/100\n",
            "2512/2512 [==============================] - 7s 3ms/step - loss: 1.3398 - accuracy: 0.3528 - val_loss: 1.3360 - val_accuracy: 0.3587\n",
            "Epoch 92/100\n",
            "2512/2512 [==============================] - 10s 4ms/step - loss: 1.3398 - accuracy: 0.3525 - val_loss: 1.3367 - val_accuracy: 0.3554\n",
            "Epoch 93/100\n",
            "2512/2512 [==============================] - 8s 3ms/step - loss: 1.3399 - accuracy: 0.3517 - val_loss: 1.3350 - val_accuracy: 0.3577\n",
            "Epoch 94/100\n",
            "2512/2512 [==============================] - 9s 3ms/step - loss: 1.3397 - accuracy: 0.3526 - val_loss: 1.3352 - val_accuracy: 0.3559\n",
            "Epoch 95/100\n",
            "2512/2512 [==============================] - 9s 4ms/step - loss: 1.3395 - accuracy: 0.3520 - val_loss: 1.3480 - val_accuracy: 0.3489\n",
            "Epoch 96/100\n",
            "2512/2512 [==============================] - 8s 3ms/step - loss: 1.3396 - accuracy: 0.3515 - val_loss: 1.3356 - val_accuracy: 0.3578\n"
          ]
        }
      ]
    },
    {
      "cell_type": "code",
      "source": [
        "plt.plot(history.history['accuracy'])\n",
        "plt.plot(history.history['val_accuracy'])\n",
        "plt.title('model accuracy')\n",
        "plt.ylabel('accuracy')\n",
        "plt.xlabel('epoch')\n",
        "plt.legend(['train', 'test'], loc='upper left')\n",
        "plt.show()\n",
        "\n",
        "plt.plot(history.history['loss'])\n",
        "plt.plot(history.history['val_loss'])\n",
        "plt.title('model loss')\n",
        "plt.ylabel('loss')\n",
        "plt.xlabel('epoch')\n",
        "plt.legend(['train', 'test'], loc='upper left')\n",
        "plt.show()"
      ],
      "metadata": {
        "colab": {
          "base_uri": "https://localhost:8080/",
          "height": 927
        },
        "id": "jztwey1QLoSh",
        "outputId": "26795ccd-b6cc-4d9b-da7d-2a80bcede7f6"
      },
      "execution_count": 30,
      "outputs": [
        {
          "output_type": "display_data",
          "data": {
            "text/plain": [
              "<Figure size 640x480 with 1 Axes>"
            ],
            "image/png": "[encoded data removed]"
          },
          "metadata": {}
        },
        {
          "output_type": "display_data",
          "data": {
            "text/plain": [
              "<Figure size 640x480 with 1 Axes>"
            ],
            "image/png": "[encoded data removed]"
          },
          "metadata": {}
        }
      ]
    },
    {
      "cell_type": "code",
      "source": [
        "yhat_test = model.predict(X_test[50:52])\n",
        "yhat_test_idx = np.argmax(yhat_test, axis=1)\n",
        "y_labels = y_test[50:52]\n",
        "y_labels_idx = np.argmax(y_labels, axis=1)\n",
        "print(yhat_test, y_labels, yhat_test_idx, y_labels_idx)"
      ],
      "metadata": {
        "colab": {
          "base_uri": "https://localhost:8080/"
        },
        "id": "tIXuX1mhL-hh",
        "outputId": "cee7fa06-1e94-4acb-b0da-92ffe6c7f171"
      },
      "execution_count": 32,
      "outputs": [
        {
          "output_type": "stream",
          "name": "stdout",
          "text": [
            "1/1 [==============================] - 0s 119ms/step\n",
            "[[0.36226487 0.30876246 0.20163943 0.12733322]\n",
            " [0.21256852 0.25206175 0.2735626  0.26180708]] [[0. 0. 1. 0.]\n",
            " [0. 1. 0. 0.]] [0 2] [2 1]\n"
          ]
        }
      ]
    },
    {
      "cell_type": "markdown",
      "source": [
        "## Save Model"
      ],
      "metadata": {
        "id": "VNL__FowLsgD"
      }
    },
    {
      "cell_type": "code",
      "source": [
        "model.save('c_model.keras')"
      ],
      "metadata": {
        "id": "d-iAjVYILrQ5"
      },
      "execution_count": 34,
      "outputs": []
    },
    {
      "cell_type": "code",
      "source": [
        "!ls"
      ],
      "metadata": {
        "colab": {
          "base_uri": "https://localhost:8080/"
        },
        "id": "JKbjoPOzQGrA",
        "outputId": "baa958d5-45e4-4732-ec78-ad686f316744"
      },
      "execution_count": 35,
      "outputs": [
        {
          "output_type": "stream",
          "name": "stdout",
          "text": [
            "all_data.csv  classification_model.ipynb  cleaned_data.csv  c_model.keras\n"
          ]
        }
      ]
    },
    {
      "cell_type": "markdown",
      "source": [
        "## Cross-validation (probably not necessary, since our accuracy is pretty high)"
      ],
      "metadata": {
        "id": "pa8IktpGOdml"
      }
    },
    {
      "cell_type": "markdown",
      "source": [
        "# Suggesting Model\n",
        "\n",
        "### TODO:\n",
        "  1. Write script that asks for user input\n",
        "  2. redo StardardScaler and MinMaxScaler, we need to record the meand and std of each column, so we can stardardize and normalize user input manually\n",
        "  3. Feed user input to Price Predicting model, get price range\n",
        "  4. For each price, feed user input + price to this classification model\n",
        "  5. Report the likelyhood of monthly income, suggest ideal price of the listing"
      ],
      "metadata": {
        "id": "mV17zO_MOl_J"
      }
    },
    {
      "cell_type": "markdown",
      "source": [],
      "metadata": {
        "id": "K0vEJqIkLPCJ"
      }
    }
  ]
}