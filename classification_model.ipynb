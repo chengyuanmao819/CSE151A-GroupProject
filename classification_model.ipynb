{
  "cells": [
    {
      "cell_type": "code",
      "execution_count": 2,
      "metadata": {
        "colab": {
          "base_uri": "https://localhost:8080/"
        },
        "id": "W8AzhVc97CPT",
        "outputId": "6408c890-0201-4bd7-8229-47ee8b8c5bdc"
      },
      "outputs": [],
      "source": [
        "# prompt: mount to drive, cd to summer 2024/group project\n",
        "\n",
        "# from google.colab import drive\n",
        "# drive.mount('/content/drive')"
      ]
    },
    {
      "cell_type": "code",
      "execution_count": 3,
      "metadata": {
        "colab": {
          "base_uri": "https://localhost:8080/"
        },
        "id": "Sq0UOsYB7tmP",
        "outputId": "052ded50-e27c-4333-8ab9-64f3c56f2090"
      },
      "outputs": [],
      "source": [
        "# %cd /content/drive/MyDrive/summer2024/group\\ project"
      ]
    },
    {
      "cell_type": "markdown",
      "metadata": {
        "id": "tXfrknbXIHBz"
      },
      "source": [
        "## Load and Review Data"
      ]
    },
    {
      "cell_type": "code",
      "execution_count": 1,
      "metadata": {
        "id": "DaksChaG7xIl"
      },
      "outputs": [],
      "source": [
        "import pandas as pd\n",
        "import numpy as np\n",
        "import matplotlib.pyplot as plt\n",
        "import seaborn as sns"
      ]
    },
    {
      "cell_type": "code",
      "execution_count": 37,
      "metadata": {
        "colab": {
          "base_uri": "https://localhost:8080/"
        },
        "id": "goZ6aAjP7z-2",
        "outputId": "4ac41b97-8da6-40e5-866a-465fab0608aa"
      },
      "outputs": [
        {
          "name": "stdout",
          "output_type": "stream",
          "text": [
            "Index(['id', 'name', 'host_id', 'host_name', 'neighbourhood_group',\n",
            "       'neighbourhood', 'latitude', 'longitude', 'room_type', 'price',\n",
            "       'minimum_nights', 'number_of_reviews', 'last_review',\n",
            "       'reviews_per_month', 'calculated_host_listings_count',\n",
            "       'availability_365', 'number_of_reviews_ltm', 'license'],\n",
            "      dtype='object')\n"
          ]
        }
      ],
      "source": [
        "# data = pd.read_csv('cleaned_data.csv')\n",
        "data = pd.read_csv('sandiego_listings.csv')\n",
        "data.head()\n",
        "print(data.columns)"
      ]
    },
    {
      "cell_type": "code",
      "execution_count": 38,
      "metadata": {},
      "outputs": [],
      "source": [
        "data = data.drop(columns=['neighbourhood_group', 'neighbourhood', 'license', 'name', 'id', 'name', 'host_id', 'host_name', 'last_review'])"
      ]
    },
    {
      "cell_type": "code",
      "execution_count": 39,
      "metadata": {},
      "outputs": [
        {
          "data": {
            "text/plain": [
              "room_type\n",
              "Entire home/apt    9846\n",
              "Private room       1573\n",
              "Shared room          68\n",
              "Hotel room            9\n",
              "Name: count, dtype: int64"
            ]
          },
          "execution_count": 39,
          "metadata": {},
          "output_type": "execute_result"
        }
      ],
      "source": [
        "data['room_type'].value_counts()"
      ]
    },
    {
      "cell_type": "code",
      "execution_count": 40,
      "metadata": {},
      "outputs": [
        {
          "name": "stderr",
          "output_type": "stream",
          "text": [
            "C:\\Users\\sangd\\AppData\\Local\\Temp\\ipykernel_12020\\2477849265.py:2: FutureWarning: Downcasting behavior in `replace` is deprecated and will be removed in a future version. To retain the old behavior, explicitly call `result.infer_objects(copy=False)`. To opt-in to the future behavior, set `pd.set_option('future.no_silent_downcasting', True)`\n",
            "  data['room_type'] = data['room_type'].replace(room_type_dict)\n"
          ]
        },
        {
          "data": {
            "text/plain": [
              "room_type\n",
              "0    9846\n",
              "1    1573\n",
              "2      68\n",
              "3       9\n",
              "Name: count, dtype: int64"
            ]
          },
          "execution_count": 40,
          "metadata": {},
          "output_type": "execute_result"
        }
      ],
      "source": [
        "room_type_dict = {'Entire home/apt':0, 'Private room':1, 'Shared room': 2, 'Hotel room':3}\n",
        "data['room_type'] = data['room_type'].replace(room_type_dict)\n",
        "data['room_type'].value_counts()"
      ]
    },
    {
      "cell_type": "code",
      "execution_count": 41,
      "metadata": {
        "colab": {
          "base_uri": "https://localhost:8080/",
          "height": 320
        },
        "id": "sq2Kjlux8ojB",
        "outputId": "34dc16cc-d835-4ad8-e410-e9e01f55efb7"
      },
      "outputs": [
        {
          "data": {
            "text/html": [
              "<div>\n",
              "<style scoped>\n",
              "    .dataframe tbody tr th:only-of-type {\n",
              "        vertical-align: middle;\n",
              "    }\n",
              "\n",
              "    .dataframe tbody tr th {\n",
              "        vertical-align: top;\n",
              "    }\n",
              "\n",
              "    .dataframe thead th {\n",
              "        text-align: right;\n",
              "    }\n",
              "</style>\n",
              "<table border=\"1\" class=\"dataframe\">\n",
              "  <thead>\n",
              "    <tr style=\"text-align: right;\">\n",
              "      <th></th>\n",
              "      <th>latitude</th>\n",
              "      <th>longitude</th>\n",
              "      <th>room_type</th>\n",
              "      <th>price</th>\n",
              "      <th>minimum_nights</th>\n",
              "      <th>number_of_reviews</th>\n",
              "      <th>reviews_per_month</th>\n",
              "      <th>calculated_host_listings_count</th>\n",
              "      <th>availability_365</th>\n",
              "      <th>number_of_reviews_ltm</th>\n",
              "    </tr>\n",
              "  </thead>\n",
              "  <tbody>\n",
              "    <tr>\n",
              "      <th>count</th>\n",
              "      <td>11496.000</td>\n",
              "      <td>11496.000</td>\n",
              "      <td>11496.000</td>\n",
              "      <td>11230.000</td>\n",
              "      <td>11496.000</td>\n",
              "      <td>11496.000</td>\n",
              "      <td>9824.000</td>\n",
              "      <td>11496.000</td>\n",
              "      <td>11496.000</td>\n",
              "      <td>11496.000</td>\n",
              "    </tr>\n",
              "    <tr>\n",
              "      <th>mean</th>\n",
              "      <td>32.770</td>\n",
              "      <td>-117.185</td>\n",
              "      <td>0.151</td>\n",
              "      <td>301.299</td>\n",
              "      <td>11.159</td>\n",
              "      <td>65.289</td>\n",
              "      <td>1.949</td>\n",
              "      <td>14.126</td>\n",
              "      <td>204.360</td>\n",
              "      <td>16.025</td>\n",
              "    </tr>\n",
              "    <tr>\n",
              "      <th>std</th>\n",
              "      <td>0.064</td>\n",
              "      <td>0.066</td>\n",
              "      <td>0.380</td>\n",
              "      <td>461.832</td>\n",
              "      <td>20.261</td>\n",
              "      <td>105.390</td>\n",
              "      <td>1.991</td>\n",
              "      <td>25.893</td>\n",
              "      <td>112.309</td>\n",
              "      <td>22.571</td>\n",
              "    </tr>\n",
              "    <tr>\n",
              "      <th>min</th>\n",
              "      <td>32.541</td>\n",
              "      <td>-117.282</td>\n",
              "      <td>0.000</td>\n",
              "      <td>10.000</td>\n",
              "      <td>1.000</td>\n",
              "      <td>0.000</td>\n",
              "      <td>0.010</td>\n",
              "      <td>1.000</td>\n",
              "      <td>0.000</td>\n",
              "      <td>0.000</td>\n",
              "    </tr>\n",
              "    <tr>\n",
              "      <th>25%</th>\n",
              "      <td>32.729</td>\n",
              "      <td>-117.250</td>\n",
              "      <td>0.000</td>\n",
              "      <td>120.000</td>\n",
              "      <td>2.000</td>\n",
              "      <td>3.000</td>\n",
              "      <td>0.530</td>\n",
              "      <td>1.000</td>\n",
              "      <td>98.000</td>\n",
              "      <td>1.000</td>\n",
              "    </tr>\n",
              "    <tr>\n",
              "      <th>50%</th>\n",
              "      <td>32.762</td>\n",
              "      <td>-117.179</td>\n",
              "      <td>0.000</td>\n",
              "      <td>189.000</td>\n",
              "      <td>3.000</td>\n",
              "      <td>22.000</td>\n",
              "      <td>1.470</td>\n",
              "      <td>3.000</td>\n",
              "      <td>217.000</td>\n",
              "      <td>8.000</td>\n",
              "    </tr>\n",
              "    <tr>\n",
              "      <th>75%</th>\n",
              "      <td>32.798</td>\n",
              "      <td>-117.142</td>\n",
              "      <td>0.000</td>\n",
              "      <td>335.000</td>\n",
              "      <td>30.000</td>\n",
              "      <td>81.000</td>\n",
              "      <td>2.890</td>\n",
              "      <td>14.000</td>\n",
              "      <td>306.000</td>\n",
              "      <td>26.000</td>\n",
              "    </tr>\n",
              "    <tr>\n",
              "      <th>max</th>\n",
              "      <td>33.102</td>\n",
              "      <td>-116.937</td>\n",
              "      <td>3.000</td>\n",
              "      <td>10000.000</td>\n",
              "      <td>1000.000</td>\n",
              "      <td>1049.000</td>\n",
              "      <td>55.330</td>\n",
              "      <td>156.000</td>\n",
              "      <td>365.000</td>\n",
              "      <td>687.000</td>\n",
              "    </tr>\n",
              "  </tbody>\n",
              "</table>\n",
              "</div>"
            ],
            "text/plain": [
              "        latitude  longitude  room_type      price  minimum_nights  \\\n",
              "count  11496.000  11496.000  11496.000  11230.000       11496.000   \n",
              "mean      32.770   -117.185      0.151    301.299          11.159   \n",
              "std        0.064      0.066      0.380    461.832          20.261   \n",
              "min       32.541   -117.282      0.000     10.000           1.000   \n",
              "25%       32.729   -117.250      0.000    120.000           2.000   \n",
              "50%       32.762   -117.179      0.000    189.000           3.000   \n",
              "75%       32.798   -117.142      0.000    335.000          30.000   \n",
              "max       33.102   -116.937      3.000  10000.000        1000.000   \n",
              "\n",
              "       number_of_reviews  reviews_per_month  calculated_host_listings_count  \\\n",
              "count          11496.000           9824.000                       11496.000   \n",
              "mean              65.289              1.949                          14.126   \n",
              "std              105.390              1.991                          25.893   \n",
              "min                0.000              0.010                           1.000   \n",
              "25%                3.000              0.530                           1.000   \n",
              "50%               22.000              1.470                           3.000   \n",
              "75%               81.000              2.890                          14.000   \n",
              "max             1049.000             55.330                         156.000   \n",
              "\n",
              "       availability_365  number_of_reviews_ltm  \n",
              "count         11496.000              11496.000  \n",
              "mean            204.360                 16.025  \n",
              "std             112.309                 22.571  \n",
              "min               0.000                  0.000  \n",
              "25%              98.000                  1.000  \n",
              "50%             217.000                  8.000  \n",
              "75%             306.000                 26.000  \n",
              "max             365.000                687.000  "
            ]
          },
          "execution_count": 41,
          "metadata": {},
          "output_type": "execute_result"
        }
      ],
      "source": [
        "data.describe().round(3)"
      ]
    },
    {
      "cell_type": "markdown",
      "metadata": {
        "id": "4xei_DlvISTu"
      },
      "source": [
        "## Add income_group"
      ]
    },
    {
      "cell_type": "markdown",
      "metadata": {
        "id": "xRJpR0weIWtN"
      },
      "source": [
        "### 1. calculate income"
      ]
    },
    {
      "cell_type": "code",
      "execution_count": 42,
      "metadata": {
        "id": "IF6BK0rs8sF8"
      },
      "outputs": [],
      "source": [
        "# create column income\n",
        "data['income'] = data['price'] * data['reviews_per_month']"
      ]
    },
    {
      "cell_type": "code",
      "execution_count": 43,
      "metadata": {
        "colab": {
          "base_uri": "https://localhost:8080/",
          "height": 448
        },
        "id": "MXRp5za-9DTz",
        "outputId": "9d5e9b92-f204-4858-de84-cc0b4083f96a"
      },
      "outputs": [
        {
          "data": {
            "text/plain": [
              "<Axes: >"
            ]
          },
          "execution_count": 43,
          "metadata": {},
          "output_type": "execute_result"
        },
        {
          "data": {
            "image/png": "[encoded data removed]",
            "text/plain": [
              "<Figure size 640x480 with 1 Axes>"
            ]
          },
          "metadata": {},
          "output_type": "display_data"
        }
      ],
      "source": [
        "data['income'].hist()"
      ]
    },
    {
      "cell_type": "markdown",
      "metadata": {
        "id": "bDkjLTLY9Xvp"
      },
      "source": [
        "### crop some outliners\n",
        "\n",
        "Seem like the data is still very skewed, we're gonna crop some outliners"
      ]
    },
    {
      "cell_type": "code",
      "execution_count": 44,
      "metadata": {
        "colab": {
          "base_uri": "https://localhost:8080/"
        },
        "id": "3prAVuIz9nnI",
        "outputId": "75937cc7-9eb7-4cf1-add7-5c2bb8e6e5c4"
      },
      "outputs": [
        {
          "name": "stdout",
          "output_type": "stream",
          "text": [
            "column: income, lower_bound: -978.3420000000002, upper_bound: 1718.8900000000003\n"
          ]
        }
      ],
      "source": [
        "def remove_outliers_iqr(df, columns, th1=0.01, th3=0.90, multiplier=1.5):\n",
        "    for column in columns:\n",
        "        Q1 = df[column].quantile(th1)\n",
        "        Q3 = df[column].quantile(th3)\n",
        "        IQR = Q3 - Q1\n",
        "        lower_bound = Q1 - multiplier * IQR\n",
        "        upper_bound = Q3 + multiplier * IQR\n",
        "        print(f\"column: {column}, lower_bound: {lower_bound}, upper_bound: {upper_bound}\")\n",
        "        df = df[(df[column] >= lower_bound) & (df[column] <= upper_bound)]\n",
        "\n",
        "    return df\n",
        "\n",
        "data = remove_outliers_iqr(data, ['income'], th1=0.1, th3 = 0.80)"
      ]
    },
    {
      "cell_type": "code",
      "execution_count": 45,
      "metadata": {
        "colab": {
          "base_uri": "https://localhost:8080/",
          "height": 594
        },
        "id": "5bcwRdlq-9vJ",
        "outputId": "740e4d38-9c19-4c6a-9df4-e13f71606671"
      },
      "outputs": [
        {
          "data": {
            "text/plain": [
              "count    9360.000000\n",
              "mean      394.060899\n",
              "std       363.680012\n",
              "min         0.620000\n",
              "25%       104.000000\n",
              "50%       289.120000\n",
              "75%       573.450000\n",
              "max      1716.900000\n",
              "Name: income, dtype: float64"
            ]
          },
          "execution_count": 45,
          "metadata": {},
          "output_type": "execute_result"
        },
        {
          "data": {
            "image/png": "[encoded data removed]",
            "text/plain": [
              "<Figure size 640x480 with 1 Axes>"
            ]
          },
          "metadata": {},
          "output_type": "display_data"
        }
      ],
      "source": [
        "data['income'].hist()\n",
        "data['income'].describe()"
      ]
    },
    {
      "cell_type": "markdown",
      "metadata": {
        "id": "LMBarZey-IcK"
      },
      "source": [
        "### income_group\n",
        "\n",
        "It'd be good to divide the group based on the percentiles. This would allows the group proportion to be equal, and the values look quite reasonable"
      ]
    },
    {
      "cell_type": "code",
      "execution_count": 46,
      "metadata": {
        "colab": {
          "base_uri": "https://localhost:8080/"
        },
        "id": "zYgsjNo7-A3S",
        "outputId": "ca83c655-a9f0-4111-8d8b-584bf4449c0e"
      },
      "outputs": [
        {
          "data": {
            "text/plain": [
              "income_group\n",
              "1    2343\n",
              "2    2340\n",
              "3    2340\n",
              "0    2337\n",
              "Name: count, dtype: int64"
            ]
          },
          "execution_count": 46,
          "metadata": {},
          "output_type": "execute_result"
        }
      ],
      "source": [
        "first_quartile = data['income'].quantile(0.25)\n",
        "second_quartile = data['income'].quantile(0.5)\n",
        "third_quartile = data['income'].quantile(0.75)\n",
        "fourth_quartile = data['income'].quantile(1)\n",
        "\n",
        "data['income_group'] = data['income'].apply(lambda x: 0 if x < first_quartile else 1 if x < second_quartile else 2 if x < third_quartile else 3)\n",
        "\n",
        "# data['income_group'] = data['income'].apply(lambda x: 0 if x < 750 else 1 if x < 1500 else 2 if x < 2250 else 3)\n",
        "\n",
        "data['income_group'].value_counts()\n",
        "\n"
      ]
    },
    {
      "cell_type": "markdown",
      "metadata": {
        "id": "bxYxa3ASBTxZ"
      },
      "source": [
        "## Data Prep"
      ]
    },
    {
      "cell_type": "code",
      "execution_count": 47,
      "metadata": {
        "id": "IlAyc9Oq-vN4"
      },
      "outputs": [],
      "source": [
        "from sklearn.model_selection import train_test_split\n",
        "from sklearn.metrics import classification_report, confusion_matrix\n",
        "from sklearn.preprocessing import StandardScaler, OneHotEncoder, MinMaxScaler"
      ]
    },
    {
      "cell_type": "code",
      "execution_count": 59,
      "metadata": {
        "id": "5T8z43gxDhJT"
      },
      "outputs": [],
      "source": [
        "new_data = data.drop(columns=['income', 'reviews_per_month','number_of_reviews','number_of_reviews_ltm'])"
      ]
    },
    {
      "cell_type": "markdown",
      "metadata": {
        "id": "Yp83WGgpJVzg"
      },
      "source": [
        "### Scaling\n",
        "\n",
        "some features use StandardScaler, some use MinMaxscaler"
      ]
    },
    {
      "cell_type": "code",
      "execution_count": 60,
      "metadata": {
        "id": "AoI5yUcRB5M8"
      },
      "outputs": [],
      "source": [
        "# standardization\n",
        "# standardized_cols = ['latitude', 'longitude']  # we use stardard scaler for these columns because there are negative values here\n",
        "\n",
        "# standard_scaler = StandardScaler()\n",
        "\n",
        "# new_data[standardized_cols] = standard_scaler.fit_transform(data[standardized_cols])\n",
        "\n",
        "# minmax normalization\n",
        "minmax_cols = ['room_type', 'price' ,'minimum_nights', \t'calculated_host_listings_count','availability_365','latitude', 'longitude', 'income_group']\n",
        "\n",
        "min_max_scaler = MinMaxScaler()\n",
        "\n",
        "new_data[minmax_cols] = min_max_scaler.fit_transform(data[minmax_cols])"
      ]
    },
    {
      "cell_type": "code",
      "execution_count": 61,
      "metadata": {
        "colab": {
          "base_uri": "https://localhost:8080/",
          "height": 320
        },
        "id": "yH6TTtjZCfE4",
        "outputId": "bd94b3ad-4186-48e8-99c2-46eda2477820"
      },
      "outputs": [
        {
          "data": {
            "text/html": [
              "<div>\n",
              "<style scoped>\n",
              "    .dataframe tbody tr th:only-of-type {\n",
              "        vertical-align: middle;\n",
              "    }\n",
              "\n",
              "    .dataframe tbody tr th {\n",
              "        vertical-align: top;\n",
              "    }\n",
              "\n",
              "    .dataframe thead th {\n",
              "        text-align: right;\n",
              "    }\n",
              "</style>\n",
              "<table border=\"1\" class=\"dataframe\">\n",
              "  <thead>\n",
              "    <tr style=\"text-align: right;\">\n",
              "      <th></th>\n",
              "      <th>latitude</th>\n",
              "      <th>longitude</th>\n",
              "      <th>room_type</th>\n",
              "      <th>price</th>\n",
              "      <th>minimum_nights</th>\n",
              "      <th>calculated_host_listings_count</th>\n",
              "      <th>availability_365</th>\n",
              "      <th>income_group</th>\n",
              "    </tr>\n",
              "  </thead>\n",
              "  <tbody>\n",
              "    <tr>\n",
              "      <th>count</th>\n",
              "      <td>9360.000000</td>\n",
              "      <td>9360.000000</td>\n",
              "      <td>9360.000000</td>\n",
              "      <td>9360.000000</td>\n",
              "      <td>9360.000000</td>\n",
              "      <td>9360.000000</td>\n",
              "      <td>9360.000000</td>\n",
              "      <td>9360.000000</td>\n",
              "    </tr>\n",
              "    <tr>\n",
              "      <th>mean</th>\n",
              "      <td>0.408026</td>\n",
              "      <td>0.278230</td>\n",
              "      <td>0.046546</td>\n",
              "      <td>0.026015</td>\n",
              "      <td>0.021992</td>\n",
              "      <td>0.084325</td>\n",
              "      <td>0.556635</td>\n",
              "      <td>0.500107</td>\n",
              "    </tr>\n",
              "    <tr>\n",
              "      <th>std</th>\n",
              "      <td>0.112644</td>\n",
              "      <td>0.192466</td>\n",
              "      <td>0.121552</td>\n",
              "      <td>0.034479</td>\n",
              "      <td>0.039853</td>\n",
              "      <td>0.168073</td>\n",
              "      <td>0.303255</td>\n",
              "      <td>0.372602</td>\n",
              "    </tr>\n",
              "    <tr>\n",
              "      <th>min</th>\n",
              "      <td>0.000000</td>\n",
              "      <td>0.000000</td>\n",
              "      <td>0.000000</td>\n",
              "      <td>0.000000</td>\n",
              "      <td>0.000000</td>\n",
              "      <td>0.000000</td>\n",
              "      <td>0.000000</td>\n",
              "      <td>0.000000</td>\n",
              "    </tr>\n",
              "    <tr>\n",
              "      <th>25%</th>\n",
              "      <td>0.339496</td>\n",
              "      <td>0.090950</td>\n",
              "      <td>0.000000</td>\n",
              "      <td>0.010911</td>\n",
              "      <td>0.002747</td>\n",
              "      <td>0.000000</td>\n",
              "      <td>0.271233</td>\n",
              "      <td>0.333333</td>\n",
              "    </tr>\n",
              "    <tr>\n",
              "      <th>50%</th>\n",
              "      <td>0.393241</td>\n",
              "      <td>0.284953</td>\n",
              "      <td>0.000000</td>\n",
              "      <td>0.017317</td>\n",
              "      <td>0.002747</td>\n",
              "      <td>0.012903</td>\n",
              "      <td>0.582192</td>\n",
              "      <td>0.500000</td>\n",
              "    </tr>\n",
              "    <tr>\n",
              "      <th>75%</th>\n",
              "      <td>0.458870</td>\n",
              "      <td>0.407282</td>\n",
              "      <td>0.000000</td>\n",
              "      <td>0.030130</td>\n",
              "      <td>0.013736</td>\n",
              "      <td>0.077419</td>\n",
              "      <td>0.835616</td>\n",
              "      <td>0.750000</td>\n",
              "    </tr>\n",
              "    <tr>\n",
              "      <th>max</th>\n",
              "      <td>1.000000</td>\n",
              "      <td>1.000000</td>\n",
              "      <td>1.000000</td>\n",
              "      <td>1.000000</td>\n",
              "      <td>1.000000</td>\n",
              "      <td>1.000000</td>\n",
              "      <td>1.000000</td>\n",
              "      <td>1.000000</td>\n",
              "    </tr>\n",
              "  </tbody>\n",
              "</table>\n",
              "</div>"
            ],
            "text/plain": [
              "          latitude    longitude    room_type        price  minimum_nights  \\\n",
              "count  9360.000000  9360.000000  9360.000000  9360.000000     9360.000000   \n",
              "mean      0.408026     0.278230     0.046546     0.026015        0.021992   \n",
              "std       0.112644     0.192466     0.121552     0.034479        0.039853   \n",
              "min       0.000000     0.000000     0.000000     0.000000        0.000000   \n",
              "25%       0.339496     0.090950     0.000000     0.010911        0.002747   \n",
              "50%       0.393241     0.284953     0.000000     0.017317        0.002747   \n",
              "75%       0.458870     0.407282     0.000000     0.030130        0.013736   \n",
              "max       1.000000     1.000000     1.000000     1.000000        1.000000   \n",
              "\n",
              "       calculated_host_listings_count  availability_365  income_group  \n",
              "count                     9360.000000       9360.000000   9360.000000  \n",
              "mean                         0.084325          0.556635      0.500107  \n",
              "std                          0.168073          0.303255      0.372602  \n",
              "min                          0.000000          0.000000      0.000000  \n",
              "25%                          0.000000          0.271233      0.333333  \n",
              "50%                          0.012903          0.582192      0.500000  \n",
              "75%                          0.077419          0.835616      0.750000  \n",
              "max                          1.000000          1.000000      1.000000  "
            ]
          },
          "execution_count": 61,
          "metadata": {},
          "output_type": "execute_result"
        }
      ],
      "source": [
        "new_data.describe()"
      ]
    },
    {
      "cell_type": "code",
      "execution_count": 62,
      "metadata": {
        "colab": {
          "base_uri": "https://localhost:8080/"
        },
        "id": "vwVp1R9aCiG0",
        "outputId": "1adf1028-cb9d-403f-a16f-d2c358e1ecb1"
      },
      "outputs": [
        {
          "name": "stdout",
          "output_type": "stream",
          "text": [
            "income_group\n",
            "0.333333    2343\n",
            "0.666667    2340\n",
            "1.000000    2340\n",
            "0.000000    2337\n",
            "Name: count, dtype: int64\n",
            "room_type\n",
            "0.000000    8111\n",
            "0.333333    1193\n",
            "0.666667      54\n",
            "1.000000       2\n",
            "Name: count, dtype: int64\n"
          ]
        }
      ],
      "source": [
        "# income_group and room_type are orginilly categorical, then discrete data, just want to check if they're still are\n",
        "print(new_data['income_group'].value_counts())\n",
        "print(new_data['room_type'].value_counts())"
      ]
    },
    {
      "cell_type": "markdown",
      "metadata": {
        "id": "iT2rMM-SHj3_"
      },
      "source": [
        "### Split data to train and test, one hot encode target"
      ]
    },
    {
      "cell_type": "code",
      "execution_count": 63,
      "metadata": {
        "colab": {
          "base_uri": "https://localhost:8080/"
        },
        "id": "sJHWXEySFs6W",
        "outputId": "fe779af2-666e-4924-cbef-3b7f05e6b72b"
      },
      "outputs": [],
      "source": [
        "X = new_data.drop(columns=['income_group']).values\n",
        "y = new_data['income_group'].values\n",
        "\n",
        "#OHE\n",
        "encoder = OneHotEncoder(handle_unknown='ignore', sparse_output=False) #\n",
        "y_onehot = encoder.fit_transform(y.reshape(-1, 1))\n",
        "\n",
        "X_train, X_test, y_train, y_test = train_test_split(X, y_onehot, test_size=0.2, random_state=42)"
      ]
    },
    {
      "cell_type": "markdown",
      "metadata": {
        "id": "et0mE3PDJqoS"
      },
      "source": [
        "## Model"
      ]
    },
    {
      "cell_type": "code",
      "execution_count": 30,
      "metadata": {
        "id": "c9kMxanwGkqg"
      },
      "outputs": [],
      "source": [
        "import tensorflow as tf\n",
        "import keras\n",
        "from keras.models import Sequential\n",
        "from keras.layers import Dense, Dropout\n",
        "from keras.regularizers import L2"
      ]
    },
    {
      "cell_type": "markdown",
      "metadata": {
        "id": "F9aaqB1kJ7-D"
      },
      "source": [
        "### Hyperparameters"
      ]
    },
    {
      "cell_type": "code",
      "execution_count": 125,
      "metadata": {
        "id": "Lu_APXPHJ9y-"
      },
      "outputs": [],
      "source": [
        "input_size = X_train.shape[1]\n",
        "num_classes = y_train.shape[1]\n",
        "batch_size = 100\n",
        "epochs = 200\n",
        "learning_rate = 0.001"
      ]
    },
    {
      "cell_type": "markdown",
      "metadata": {
        "id": "MK-tUDVJKKZ3"
      },
      "source": [
        "### Model Init"
      ]
    },
    {
      "cell_type": "code",
      "execution_count": 136,
      "metadata": {
        "colab": {
          "base_uri": "https://localhost:8080/"
        },
        "id": "gdH-r6mNJ5v3",
        "outputId": "c76e6ff0-18e2-429b-bdc6-aa27b939538d"
      },
      "outputs": [
        {
          "name": "stdout",
          "output_type": "stream",
          "text": [
            "Model: \"sequential_15\"\n",
            "_________________________________________________________________\n",
            " Layer (type)                Output Shape              Param #   \n",
            "=================================================================\n",
            " dense_72 (Dense)            (None, 256)               2048      \n",
            "                                                                 \n",
            " dense_73 (Dense)            (None, 256)               65792     \n",
            "                                                                 \n",
            " dense_74 (Dense)            (None, 256)               65792     \n",
            "                                                                 \n",
            " dense_75 (Dense)            (None, 256)               65792     \n",
            "                                                                 \n",
            " dense_76 (Dense)            (None, 4)                 1028      \n",
            "                                                                 \n",
            "=================================================================\n",
            "Total params: 200,452\n",
            "Trainable params: 200,452\n",
            "Non-trainable params: 0\n",
            "_________________________________________________________________\n"
          ]
        }
      ],
      "source": [
        "model = Sequential()\n",
        "model.add(Dense(256, activation='relu', input_shape=(input_size,))) #, kernel_regularizer=L2(0.01)\n",
        "# model.add(Dropout(0.5))\n",
        "model.add(Dense(256, activation='relu')) #,kernel_regularizer=L2(0.01)\n",
        "# model.add(Dropout(0.1))\n",
        "model.add(Dense(256, activation='relu')) #,kernel_regularizer=L2(0.01)\n",
        "# model.add(Dropout(0.1))\n",
        "model.add(Dense(256, activation='relu'))\n",
        "model.add(Dense(num_classes, activation='softmax'))\n",
        "model.compile(loss='categorical_crossentropy', optimizer=tf.keras.optimizers.Adam(learning_rate=learning_rate), metrics=['accuracy'])\n",
        "# model.compile(loss='categorical_crossentropy', optimizer='sgd', metrics=['accuracy'])\n",
        "model.summary()"
      ]
    },
    {
      "cell_type": "markdown",
      "metadata": {
        "id": "cYdTZg1oKmWp"
      },
      "source": [
        "## Train"
      ]
    },
    {
      "cell_type": "code",
      "execution_count": 137,
      "metadata": {
        "colab": {
          "base_uri": "https://localhost:8080/"
        },
        "id": "1HWKDgQiKlKf",
        "outputId": "17fce4ad-1e97-4390-9e32-c411c61362ee"
      },
      "outputs": [
        {
          "name": "stdout",
          "output_type": "stream",
          "text": [
            "Epoch 1/200\n",
            "75/75 [==============================] - 1s 4ms/step - loss: 1.2920 - accuracy: 0.3663 - val_loss: 1.1703 - val_accuracy: 0.4423\n",
            "Epoch 2/200\n",
            "75/75 [==============================] - 0s 2ms/step - loss: 1.1707 - accuracy: 0.4518 - val_loss: 1.1500 - val_accuracy: 0.4610\n",
            "Epoch 3/200\n",
            "75/75 [==============================] - 0s 2ms/step - loss: 1.1584 - accuracy: 0.4650 - val_loss: 1.1544 - val_accuracy: 0.4647\n",
            "Epoch 4/200\n",
            "75/75 [==============================] - 0s 3ms/step - loss: 1.1516 - accuracy: 0.4720 - val_loss: 1.1946 - val_accuracy: 0.4412\n",
            "Epoch 5/200\n",
            "75/75 [==============================] - 0s 2ms/step - loss: 1.1482 - accuracy: 0.4777 - val_loss: 1.1508 - val_accuracy: 0.4701\n",
            "Epoch 6/200\n",
            "75/75 [==============================] - 0s 2ms/step - loss: 1.1448 - accuracy: 0.4756 - val_loss: 1.1388 - val_accuracy: 0.4824\n",
            "Epoch 7/200\n",
            "75/75 [==============================] - 0s 2ms/step - loss: 1.1411 - accuracy: 0.4790 - val_loss: 1.1227 - val_accuracy: 0.4840\n",
            "Epoch 8/200\n",
            "75/75 [==============================] - 0s 2ms/step - loss: 1.1314 - accuracy: 0.4856 - val_loss: 1.1354 - val_accuracy: 0.4813\n",
            "Epoch 9/200\n",
            "75/75 [==============================] - 0s 3ms/step - loss: 1.1366 - accuracy: 0.4824 - val_loss: 1.1600 - val_accuracy: 0.4599\n",
            "Epoch 10/200\n",
            "75/75 [==============================] - 0s 3ms/step - loss: 1.1289 - accuracy: 0.4905 - val_loss: 1.1645 - val_accuracy: 0.4722\n",
            "Epoch 11/200\n",
            "75/75 [==============================] - 0s 2ms/step - loss: 1.1255 - accuracy: 0.4900 - val_loss: 1.1177 - val_accuracy: 0.4888\n",
            "Epoch 12/200\n",
            "75/75 [==============================] - 0s 2ms/step - loss: 1.1204 - accuracy: 0.4919 - val_loss: 1.1034 - val_accuracy: 0.5053\n",
            "Epoch 13/200\n",
            "75/75 [==============================] - 0s 2ms/step - loss: 1.1290 - accuracy: 0.4825 - val_loss: 1.1185 - val_accuracy: 0.4845\n",
            "Epoch 14/200\n",
            "75/75 [==============================] - 0s 3ms/step - loss: 1.1140 - accuracy: 0.4929 - val_loss: 1.1098 - val_accuracy: 0.4829\n",
            "Epoch 15/200\n",
            "75/75 [==============================] - 0s 3ms/step - loss: 1.1205 - accuracy: 0.4909 - val_loss: 1.1160 - val_accuracy: 0.4877\n",
            "Epoch 16/200\n",
            "75/75 [==============================] - 0s 3ms/step - loss: 1.1165 - accuracy: 0.4908 - val_loss: 1.1811 - val_accuracy: 0.4460\n",
            "Epoch 17/200\n",
            "75/75 [==============================] - 0s 3ms/step - loss: 1.1165 - accuracy: 0.4881 - val_loss: 1.1073 - val_accuracy: 0.5075\n",
            "Epoch 18/200\n",
            "75/75 [==============================] - 0s 3ms/step - loss: 1.1086 - accuracy: 0.4971 - val_loss: 1.1118 - val_accuracy: 0.5021\n",
            "Epoch 19/200\n",
            "75/75 [==============================] - 0s 2ms/step - loss: 1.1003 - accuracy: 0.4992 - val_loss: 1.0986 - val_accuracy: 0.5128\n",
            "Epoch 20/200\n",
            "75/75 [==============================] - 0s 2ms/step - loss: 1.0950 - accuracy: 0.5101 - val_loss: 1.0980 - val_accuracy: 0.5150\n",
            "Epoch 21/200\n",
            "75/75 [==============================] - 0s 2ms/step - loss: 1.0930 - accuracy: 0.5069 - val_loss: 1.1102 - val_accuracy: 0.5053\n",
            "Epoch 22/200\n",
            "75/75 [==============================] - 0s 2ms/step - loss: 1.0964 - accuracy: 0.5052 - val_loss: 1.1038 - val_accuracy: 0.5005\n",
            "Epoch 23/200\n",
            "75/75 [==============================] - 0s 2ms/step - loss: 1.0969 - accuracy: 0.5087 - val_loss: 1.0987 - val_accuracy: 0.5032\n",
            "Epoch 24/200\n",
            "75/75 [==============================] - 0s 3ms/step - loss: 1.0919 - accuracy: 0.5085 - val_loss: 1.0893 - val_accuracy: 0.5272\n",
            "Epoch 25/200\n",
            "75/75 [==============================] - 0s 2ms/step - loss: 1.0848 - accuracy: 0.5099 - val_loss: 1.1113 - val_accuracy: 0.4952\n",
            "Epoch 26/200\n",
            "75/75 [==============================] - 0s 2ms/step - loss: 1.0969 - accuracy: 0.5081 - val_loss: 1.1018 - val_accuracy: 0.4995\n",
            "Epoch 27/200\n",
            "75/75 [==============================] - 0s 2ms/step - loss: 1.0780 - accuracy: 0.5210 - val_loss: 1.0975 - val_accuracy: 0.5118\n",
            "Epoch 28/200\n",
            "75/75 [==============================] - 0s 2ms/step - loss: 1.0835 - accuracy: 0.5179 - val_loss: 1.1081 - val_accuracy: 0.5037\n",
            "Epoch 29/200\n",
            "75/75 [==============================] - 0s 3ms/step - loss: 1.0798 - accuracy: 0.5188 - val_loss: 1.0890 - val_accuracy: 0.5240\n",
            "Epoch 30/200\n",
            "75/75 [==============================] - 0s 2ms/step - loss: 1.0761 - accuracy: 0.5210 - val_loss: 1.0944 - val_accuracy: 0.5112\n",
            "Epoch 31/200\n",
            "75/75 [==============================] - 0s 2ms/step - loss: 1.0702 - accuracy: 0.5210 - val_loss: 1.0971 - val_accuracy: 0.5171\n",
            "Epoch 32/200\n",
            "75/75 [==============================] - 0s 2ms/step - loss: 1.0712 - accuracy: 0.5254 - val_loss: 1.0820 - val_accuracy: 0.5085\n",
            "Epoch 33/200\n",
            "75/75 [==============================] - 0s 2ms/step - loss: 1.0730 - accuracy: 0.5223 - val_loss: 1.0998 - val_accuracy: 0.5053\n",
            "Epoch 34/200\n",
            "75/75 [==============================] - 0s 3ms/step - loss: 1.0642 - accuracy: 0.5272 - val_loss: 1.0881 - val_accuracy: 0.5134\n",
            "Epoch 35/200\n",
            "75/75 [==============================] - 0s 2ms/step - loss: 1.0609 - accuracy: 0.5250 - val_loss: 1.0920 - val_accuracy: 0.5096\n",
            "Epoch 36/200\n",
            "75/75 [==============================] - 0s 2ms/step - loss: 1.0624 - accuracy: 0.5351 - val_loss: 1.1088 - val_accuracy: 0.5043\n",
            "Epoch 37/200\n",
            "75/75 [==============================] - 0s 2ms/step - loss: 1.0565 - accuracy: 0.5311 - val_loss: 1.0870 - val_accuracy: 0.5112\n",
            "Epoch 38/200\n",
            "75/75 [==============================] - 0s 2ms/step - loss: 1.0601 - accuracy: 0.5315 - val_loss: 1.0841 - val_accuracy: 0.5182\n",
            "Epoch 39/200\n",
            "75/75 [==============================] - 0s 2ms/step - loss: 1.0581 - accuracy: 0.5247 - val_loss: 1.0956 - val_accuracy: 0.5118\n",
            "Epoch 40/200\n",
            "75/75 [==============================] - 0s 3ms/step - loss: 1.0524 - accuracy: 0.5369 - val_loss: 1.0937 - val_accuracy: 0.5208\n",
            "Epoch 41/200\n",
            "75/75 [==============================] - 0s 3ms/step - loss: 1.0516 - accuracy: 0.5331 - val_loss: 1.0799 - val_accuracy: 0.5203\n",
            "Epoch 42/200\n",
            "75/75 [==============================] - 0s 2ms/step - loss: 1.0504 - accuracy: 0.5329 - val_loss: 1.0866 - val_accuracy: 0.5160\n",
            "Epoch 43/200\n",
            "75/75 [==============================] - 0s 2ms/step - loss: 1.0452 - accuracy: 0.5395 - val_loss: 1.0878 - val_accuracy: 0.5187\n",
            "Epoch 44/200\n",
            "75/75 [==============================] - 0s 2ms/step - loss: 1.0482 - accuracy: 0.5287 - val_loss: 1.0910 - val_accuracy: 0.5182\n",
            "Epoch 45/200\n",
            "75/75 [==============================] - 0s 2ms/step - loss: 1.0525 - accuracy: 0.5325 - val_loss: 1.0884 - val_accuracy: 0.5123\n",
            "Epoch 46/200\n",
            "75/75 [==============================] - 0s 3ms/step - loss: 1.0348 - accuracy: 0.5423 - val_loss: 1.1245 - val_accuracy: 0.5069\n",
            "Epoch 47/200\n",
            "75/75 [==============================] - 0s 3ms/step - loss: 1.0401 - accuracy: 0.5374 - val_loss: 1.0800 - val_accuracy: 0.5219\n",
            "Epoch 48/200\n",
            "75/75 [==============================] - 0s 2ms/step - loss: 1.0315 - accuracy: 0.5430 - val_loss: 1.0805 - val_accuracy: 0.5171\n",
            "Epoch 49/200\n",
            "75/75 [==============================] - 0s 2ms/step - loss: 1.0274 - accuracy: 0.5498 - val_loss: 1.0979 - val_accuracy: 0.5144\n",
            "Epoch 50/200\n",
            "75/75 [==============================] - 0s 2ms/step - loss: 1.0293 - accuracy: 0.5454 - val_loss: 1.0872 - val_accuracy: 0.5112\n",
            "Epoch 51/200\n",
            "75/75 [==============================] - 0s 3ms/step - loss: 1.0240 - accuracy: 0.5474 - val_loss: 1.1132 - val_accuracy: 0.5069\n"
          ]
        }
      ],
      "source": [
        "callback = keras.callbacks.EarlyStopping(monitor='val_loss', patience=10)\n",
        "history = model.fit(X_train, y_train, batch_size=batch_size, epochs=epochs, validation_data=(X_test, y_test), verbose=1, callbacks=[callback]) #"
      ]
    },
    {
      "cell_type": "code",
      "execution_count": 138,
      "metadata": {
        "colab": {
          "base_uri": "https://localhost:8080/",
          "height": 927
        },
        "id": "jztwey1QLoSh",
        "outputId": "26795ccd-b6cc-4d9b-da7d-2a80bcede7f6"
      },
      "outputs": [
        {
          "data": {
            "image/png": "[encoded data removed]",
            "text/plain": [
              "<Figure size 640x480 with 1 Axes>"
            ]
          },
          "metadata": {},
          "output_type": "display_data"
        },
        {
          "data": {
            "image/png": "[encoded data removed]",
            "text/plain": [
              "<Figure size 640x480 with 1 Axes>"
            ]
          },
          "metadata": {},
          "output_type": "display_data"
        }
      ],
      "source": [
        "plt.plot(history.history['accuracy'])\n",
        "plt.plot(history.history['val_accuracy'])\n",
        "plt.title('model accuracy')\n",
        "plt.ylabel('accuracy')\n",
        "plt.xlabel('epoch')\n",
        "plt.legend(['train', 'test'], loc='upper left')\n",
        "plt.show()\n",
        "\n",
        "plt.plot(history.history['loss'])\n",
        "plt.plot(history.history['val_loss'])\n",
        "plt.title('model loss')\n",
        "plt.ylabel('loss')\n",
        "plt.xlabel('epoch')\n",
        "plt.legend(['train', 'test'], loc='upper left')\n",
        "plt.show()"
      ]
    },
    {
      "cell_type": "code",
      "execution_count": 139,
      "metadata": {
        "colab": {
          "base_uri": "https://localhost:8080/"
        },
        "id": "tIXuX1mhL-hh",
        "outputId": "cee7fa06-1e94-4acb-b0da-92ffe6c7f171"
      },
      "outputs": [
        {
          "name": "stdout",
          "output_type": "stream",
          "text": [
            "59/59 [==============================] - 0s 708us/step\n"
          ]
        }
      ],
      "source": [
        "yhat_test = model.predict(X_test).round(3)\n",
        "yhat_test_idx = np.argmax(yhat_test, axis=1)\n",
        "y_labels = y_test\n",
        "y_labels_idx = np.argmax(y_labels, axis=1)\n",
        "# print(yhat_test*100)\n",
        "# for i in zip(yhat_test_idx, y_labels_idx):\n",
        "#     print(i)"
      ]
    },
    {
      "cell_type": "code",
      "execution_count": 145,
      "metadata": {},
      "outputs": [
        {
          "name": "stdout",
          "output_type": "stream",
          "text": [
            "1/1 [==============================] - 0s 18ms/step\n",
            "predict%: [ 3.1      33.8      59.100002  4.      ] = 2 | actual: 1\n",
            "predict%: [ 3.3      31.900002 35.7      29.199999] = 2 | actual: 1\n",
            "predict%: [11.8      54.8      28.600002  4.8     ] = 1 | actual: 1\n",
            "predict%: [16.2      23.199999 47.1      13.500001] = 2 | actual: 2\n",
            "predict%: [ 0.9  3.5 20.4 75.3] = 3 | actual: 3\n"
          ]
        }
      ],
      "source": [
        "def predict(idx, r):\n",
        "    yhat_test = model.predict(X_test[idx:idx+r]).round(3)\n",
        "    yhat_test_idx = np.argmax(yhat_test, axis=1)\n",
        "    y_labels = y_test[idx:idx+r]\n",
        "    y_labels_idx = np.argmax(y_labels, axis=1)\n",
        "    # print(yhat_test*100)\n",
        "    for i in zip(yhat_test*100, yhat_test_idx, y_labels_idx):\n",
        "        print(f\"predict%: {i[0]} = {i[1]} | actual: {i[2]}\")\n",
        "predict(565, 5)"
      ]
    },
    {
      "cell_type": "code",
      "execution_count": 109,
      "metadata": {},
      "outputs": [
        {
          "data": {
            "text/plain": [
              "<Axes: >"
            ]
          },
          "execution_count": 109,
          "metadata": {},
          "output_type": "execute_result"
        },
        {
          "data": {
            "image/png": "[encoded data removed]",
            "text/plain": [
              "<Figure size 640x480 with 2 Axes>"
            ]
          },
          "metadata": {},
          "output_type": "display_data"
        }
      ],
      "source": [
        "cm = confusion_matrix(y_labels_idx, yhat_test_idx)\n",
        "sns.heatmap(cm, annot=True, fmt='d')"
      ]
    },
    {
      "cell_type": "code",
      "execution_count": 111,
      "metadata": {},
      "outputs": [
        {
          "name": "stdout",
          "output_type": "stream",
          "text": [
            "              precision    recall  f1-score   support\n",
            "\n",
            "           0       0.68      0.67      0.68       467\n",
            "           1       0.40      0.29      0.34       470\n",
            "           2       0.40      0.43      0.41       475\n",
            "           3       0.53      0.64      0.58       460\n",
            "\n",
            "    accuracy                           0.51      1872\n",
            "   macro avg       0.50      0.51      0.50      1872\n",
            "weighted avg       0.50      0.51      0.50      1872\n",
            "\n"
          ]
        }
      ],
      "source": [
        "print(classification_report(y_labels_idx, yhat_test_idx))"
      ]
    },
    {
      "cell_type": "markdown",
      "metadata": {
        "id": "VNL__FowLsgD"
      },
      "source": [
        "## Save Model"
      ]
    },
    {
      "cell_type": "code",
      "execution_count": 27,
      "metadata": {
        "id": "d-iAjVYILrQ5"
      },
      "outputs": [],
      "source": [
        "model.save('c_model.keras')"
      ]
    },
    {
      "cell_type": "code",
      "execution_count": 28,
      "metadata": {
        "colab": {
          "base_uri": "https://localhost:8080/"
        },
        "id": "JKbjoPOzQGrA",
        "outputId": "baa958d5-45e4-4732-ec78-ad686f316744"
      },
      "outputs": [
        {
          "name": "stderr",
          "output_type": "stream",
          "text": [
            "'ls' is not recognized as an internal or external command,\n",
            "operable program or batch file.\n"
          ]
        }
      ],
      "source": [
        "!ls"
      ]
    },
    {
      "cell_type": "markdown",
      "metadata": {
        "id": "pa8IktpGOdml"
      },
      "source": [
        "## Cross-validation (probably not necessary, since our accuracy is pretty high)"
      ]
    },
    {
      "cell_type": "markdown",
      "metadata": {
        "id": "mV17zO_MOl_J"
      },
      "source": [
        "# Suggesting Model\n",
        "\n",
        "### TODO:\n",
        "  1. Write script that asks for user input\n",
        "  2. redo StardardScaler and MinMaxScaler, we need to record the meand and std of each column, so we can stardardize and normalize user input manually\n",
        "  3. Feed user input to Price Predicting model, get price range\n",
        "  4. For each price, feed user input + price to this classification model\n",
        "  5. Report the likelyhood of monthly income, suggest ideal price of the listing"
      ]
    },
    {
      "cell_type": "markdown",
      "metadata": {
        "id": "K0vEJqIkLPCJ"
      },
      "source": []
    }
  ],
  "metadata": {
    "colab": {
      "provenance": []
    },
    "kernelspec": {
      "display_name": "Python 3",
      "name": "python3"
    },
    "language_info": {
      "codemirror_mode": {
        "name": "ipython",
        "version": 3
      },
      "file_extension": ".py",
      "mimetype": "text/x-python",
      "name": "python",
      "nbconvert_exporter": "python",
      "pygments_lexer": "ipython3",
      "version": "3.10.9"
    }
  },
  "nbformat": 4,
  "nbformat_minor": 0
}
