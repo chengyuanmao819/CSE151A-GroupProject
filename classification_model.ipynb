{
  "cells": [
    {
      "cell_type": "code",
      "execution_count": null,
      "metadata": {
        "id": "W8AzhVc97CPT"
      },
      "outputs": [],
      "source": [
        "# prompt: mount to drive, cd to summer 2024/group project\n",
        "\n",
        "from google.colab import drive\n",
        "drive.mount('/content/drive')"
      ]
    },
    {
      "cell_type": "code",
      "execution_count": 2,
      "metadata": {
        "colab": {
          "base_uri": "https://localhost:8080/"
        },
        "id": "Sq0UOsYB7tmP",
        "outputId": "2444bf67-15e2-431a-b395-44b6942e02a1"
      },
      "outputs": [
        {
          "name": "stdout",
          "output_type": "stream",
          "text": [
            "/content/drive/MyDrive/summer2024/group project\n"
          ]
        }
      ],
      "source": [
        "%cd /content/drive/MyDrive/summer2024/group\\ project"
      ]
    },
    {
      "cell_type": "markdown",
      "metadata": {
        "id": "tXfrknbXIHBz"
      },
      "source": [
        "## Load and Review Data"
      ]
    },
    {
      "cell_type": "code",
      "execution_count": null,
      "metadata": {
        "id": "DaksChaG7xIl"
      },
      "outputs": [],
      "source": [
        "import pandas as pd\n",
        "import numpy as np\n",
        "import matplotlib.pyplot as plt\n",
        "import seaborn as sns"
      ]
    },
    {
      "cell_type": "code",
      "execution_count": 46,
      "metadata": {
        "colab": {
          "base_uri": "https://localhost:8080/"
        },
        "id": "goZ6aAjP7z-2",
        "outputId": "d7a1aa7d-e945-41c6-dde1-95cbcfe245bb"
      },
      "outputs": [
        {
          "name": "stdout",
          "output_type": "stream",
          "text": [
            "Index(['latitude', 'longitude', 'room_type', 'price', 'minimum_nights',\n",
            "       'number_of_reviews', 'reviews_per_month',\n",
            "       'calculated_host_listings_count', 'availability_365',\n",
            "       'number_of_reviews_ltm'],\n",
            "      dtype='object')\n"
          ]
        }
      ],
      "source": [
        "data = pd.read_csv('cleaned_data.csv')\n",
        "data.head()\n",
        "print(data.columns)"
      ]
    },
    {
      "cell_type": "code",
      "execution_count": 6,
      "metadata": {
        "colab": {
          "base_uri": "https://localhost:8080/",
          "height": 320
        },
        "id": "sq2Kjlux8ojB",
        "outputId": "34dc16cc-d835-4ad8-e410-e9e01f55efb7"
      },
      "outputs": [
        {
          "data": {
            "application/vnd.google.colaboratory.intrinsic+json": {
              "summary": "{\n  \"name\": \"data\",\n  \"rows\": 8,\n  \"fields\": [\n    {\n      \"column\": \"latitude\",\n      \"properties\": {\n        \"dtype\": \"number\",\n        \"std\": 61957.038467349514,\n        \"min\": 6.73,\n        \"max\": 175272.0,\n        \"num_unique_values\": 8,\n        \"samples\": [\n          34.899,\n          35.584,\n          175272.0\n        ],\n        \"semantic_type\": \"\",\n        \"description\": \"\"\n      }\n    },\n    {\n      \"column\": \"longitude\",\n      \"properties\": {\n        \"dtype\": \"number\",\n        \"std\": 61999.59741472853,\n        \"min\": -159.708,\n        \"max\": 175272.0,\n        \"num_unique_values\": 8,\n        \"samples\": [\n          -105.126,\n          -114.95,\n          175272.0\n        ],\n        \"semantic_type\": \"\",\n        \"description\": \"\"\n      }\n    },\n    {\n      \"column\": \"room_type\",\n      \"properties\": {\n        \"dtype\": \"number\",\n        \"std\": 61967.8212384905,\n        \"min\": 0.0,\n        \"max\": 175272.0,\n        \"num_unique_values\": 5,\n        \"samples\": [\n          0.262,\n          3.0,\n          0.473\n        ],\n        \"semantic_type\": \"\",\n        \"description\": \"\"\n      }\n    },\n    {\n      \"column\": \"price\",\n      \"properties\": {\n        \"dtype\": \"number\",\n        \"std\": 61898.9927422796,\n        \"min\": 5.0,\n        \"max\": 175272.0,\n        \"num_unique_values\": 8,\n        \"samples\": [\n          180.085,\n          149.0,\n          175272.0\n        ],\n        \"semantic_type\": \"\",\n        \"description\": \"\"\n      }\n    },\n    {\n      \"column\": \"minimum_nights\",\n      \"properties\": {\n        \"dtype\": \"number\",\n        \"std\": 61961.969042525605,\n        \"min\": 1.0,\n        \"max\": 175272.0,\n        \"num_unique_values\": 8,\n        \"samples\": [\n          11.467,\n          3.0,\n          175272.0\n        ],\n        \"semantic_type\": \"\",\n        \"description\": \"\"\n      }\n    },\n    {\n      \"column\": \"number_of_reviews\",\n      \"properties\": {\n        \"dtype\": \"number\",\n        \"std\": 61911.27013861064,\n        \"min\": 0.0,\n        \"max\": 175272.0,\n        \"num_unique_values\": 8,\n        \"samples\": [\n          41.398,\n          13.0,\n          175272.0\n        ],\n        \"semantic_type\": \"\",\n        \"description\": \"\"\n      }\n    },\n    {\n      \"column\": \"reviews_per_month\",\n      \"properties\": {\n        \"dtype\": \"number\",\n        \"std\": 61966.5169016763,\n        \"min\": 0.0,\n        \"max\": 175272.0,\n        \"num_unique_values\": 8,\n        \"samples\": [\n          1.213,\n          0.77,\n          175272.0\n        ],\n        \"semantic_type\": \"\",\n        \"description\": \"\"\n      }\n    },\n    {\n      \"column\": \"calculated_host_listings_count\",\n      \"properties\": {\n        \"dtype\": \"number\",\n        \"std\": 61963.53862359571,\n        \"min\": 1.0,\n        \"max\": 175272.0,\n        \"num_unique_values\": 7,\n        \"samples\": [\n          175272.0,\n          7.831,\n          8.0\n        ],\n        \"semantic_type\": \"\",\n        \"description\": \"\"\n      }\n    },\n    {\n      \"column\": \"availability_365\",\n      \"properties\": {\n        \"dtype\": \"number\",\n        \"std\": 61901.57590214736,\n        \"min\": 0.0,\n        \"max\": 175272.0,\n        \"num_unique_values\": 8,\n        \"samples\": [\n          206.094,\n          219.0,\n          175272.0\n        ],\n        \"semantic_type\": \"\",\n        \"description\": \"\"\n      }\n    },\n    {\n      \"column\": \"number_of_reviews_ltm\",\n      \"properties\": {\n        \"dtype\": \"number\",\n        \"std\": 61963.56762116368,\n        \"min\": 0.0,\n        \"max\": 175272.0,\n        \"num_unique_values\": 7,\n        \"samples\": [\n          175272.0,\n          9.818,\n          16.0\n        ],\n        \"semantic_type\": \"\",\n        \"description\": \"\"\n      }\n    }\n  ]\n}",
              "type": "dataframe"
            },
            "text/html": [
              "\n",
              "  <div id=\"df-c44e1dd9-567a-4239-b994-3c19bd5a8b61\" class=\"colab-df-container\">\n",
              "    <div>\n",
              "<style scoped>\n",
              "    .dataframe tbody tr th:only-of-type {\n",
              "        vertical-align: middle;\n",
              "    }\n",
              "\n",
              "    .dataframe tbody tr th {\n",
              "        vertical-align: top;\n",
              "    }\n",
              "\n",
              "    .dataframe thead th {\n",
              "        text-align: right;\n",
              "    }\n",
              "</style>\n",
              "<table border=\"1\" class=\"dataframe\">\n",
              "  <thead>\n",
              "    <tr style=\"text-align: right;\">\n",
              "      <th></th>\n",
              "      <th>latitude</th>\n",
              "      <th>longitude</th>\n",
              "      <th>room_type</th>\n",
              "      <th>price</th>\n",
              "      <th>minimum_nights</th>\n",
              "      <th>number_of_reviews</th>\n",
              "      <th>reviews_per_month</th>\n",
              "      <th>calculated_host_listings_count</th>\n",
              "      <th>availability_365</th>\n",
              "      <th>number_of_reviews_ltm</th>\n",
              "    </tr>\n",
              "  </thead>\n",
              "  <tbody>\n",
              "    <tr>\n",
              "      <th>count</th>\n",
              "      <td>175272.000</td>\n",
              "      <td>175272.000</td>\n",
              "      <td>175272.000</td>\n",
              "      <td>175272.000</td>\n",
              "      <td>175272.000</td>\n",
              "      <td>175272.000</td>\n",
              "      <td>175272.000</td>\n",
              "      <td>175272.000</td>\n",
              "      <td>175272.000</td>\n",
              "      <td>175272.000</td>\n",
              "    </tr>\n",
              "    <tr>\n",
              "      <th>mean</th>\n",
              "      <td>34.899</td>\n",
              "      <td>-105.126</td>\n",
              "      <td>0.262</td>\n",
              "      <td>180.085</td>\n",
              "      <td>11.467</td>\n",
              "      <td>41.398</td>\n",
              "      <td>1.213</td>\n",
              "      <td>7.831</td>\n",
              "      <td>206.094</td>\n",
              "      <td>9.818</td>\n",
              "    </tr>\n",
              "    <tr>\n",
              "      <th>std</th>\n",
              "      <td>6.730</td>\n",
              "      <td>24.547</td>\n",
              "      <td>0.473</td>\n",
              "      <td>118.222</td>\n",
              "      <td>13.196</td>\n",
              "      <td>69.269</td>\n",
              "      <td>1.317</td>\n",
              "      <td>11.750</td>\n",
              "      <td>116.463</td>\n",
              "      <td>12.169</td>\n",
              "    </tr>\n",
              "    <tr>\n",
              "      <th>min</th>\n",
              "      <td>18.930</td>\n",
              "      <td>-159.708</td>\n",
              "      <td>0.000</td>\n",
              "      <td>5.000</td>\n",
              "      <td>1.000</td>\n",
              "      <td>0.000</td>\n",
              "      <td>0.000</td>\n",
              "      <td>1.000</td>\n",
              "      <td>0.000</td>\n",
              "      <td>0.000</td>\n",
              "    </tr>\n",
              "    <tr>\n",
              "      <th>25%</th>\n",
              "      <td>32.700</td>\n",
              "      <td>-118.468</td>\n",
              "      <td>0.000</td>\n",
              "      <td>93.000</td>\n",
              "      <td>2.000</td>\n",
              "      <td>2.000</td>\n",
              "      <td>0.150</td>\n",
              "      <td>1.000</td>\n",
              "      <td>96.000</td>\n",
              "      <td>0.000</td>\n",
              "    </tr>\n",
              "    <tr>\n",
              "      <th>50%</th>\n",
              "      <td>35.584</td>\n",
              "      <td>-114.950</td>\n",
              "      <td>0.000</td>\n",
              "      <td>149.000</td>\n",
              "      <td>3.000</td>\n",
              "      <td>13.000</td>\n",
              "      <td>0.770</td>\n",
              "      <td>2.000</td>\n",
              "      <td>219.000</td>\n",
              "      <td>4.000</td>\n",
              "    </tr>\n",
              "    <tr>\n",
              "      <th>75%</th>\n",
              "      <td>40.672</td>\n",
              "      <td>-80.237</td>\n",
              "      <td>0.000</td>\n",
              "      <td>237.000</td>\n",
              "      <td>30.000</td>\n",
              "      <td>49.000</td>\n",
              "      <td>1.990</td>\n",
              "      <td>8.000</td>\n",
              "      <td>315.000</td>\n",
              "      <td>16.000</td>\n",
              "    </tr>\n",
              "    <tr>\n",
              "      <th>max</th>\n",
              "      <td>47.734</td>\n",
              "      <td>-71.001</td>\n",
              "      <td>3.000</td>\n",
              "      <td>589.000</td>\n",
              "      <td>59.000</td>\n",
              "      <td>966.000</td>\n",
              "      <td>24.130</td>\n",
              "      <td>57.000</td>\n",
              "      <td>365.000</td>\n",
              "      <td>46.000</td>\n",
              "    </tr>\n",
              "  </tbody>\n",
              "</table>\n",
              "</div>\n",
              "    <div class=\"colab-df-buttons\">\n",
              "\n",
              "  <div class=\"colab-df-container\">\n",
              "    <button class=\"colab-df-convert\" onclick=\"convertToInteractive('df-c44e1dd9-567a-4239-b994-3c19bd5a8b61')\"\n",
              "            title=\"Convert this dataframe to an interactive table.\"\n",
              "            style=\"display:none;\">\n",
              "\n",
              "  <svg xmlns=\"http://www.w3.org/2000/svg\" height=\"24px\" viewBox=\"0 -960 960 960\">\n",
              "    <path d=\"M120-120v-720h720v720H120Zm60-500h600v-160H180v160Zm220 220h160v-160H400v160Zm0 220h160v-160H400v160ZM180-400h160v-160H180v160Zm440 0h160v-160H620v160ZM180-180h160v-160H180v160Zm440 0h160v-160H620v160Z\"/>\n",
              "  </svg>\n",
              "    </button>\n",
              "\n",
              "  <style>\n",
              "    .colab-df-container {\n",
              "      display:flex;\n",
              "      gap: 12px;\n",
              "    }\n",
              "\n",
              "    .colab-df-convert {\n",
              "      background-color: #E8F0FE;\n",
              "      border: none;\n",
              "      border-radius: 50%;\n",
              "      cursor: pointer;\n",
              "      display: none;\n",
              "      fill: #1967D2;\n",
              "      height: 32px;\n",
              "      padding: 0 0 0 0;\n",
              "      width: 32px;\n",
              "    }\n",
              "\n",
              "    .colab-df-convert:hover {\n",
              "      background-color: #E2EBFA;\n",
              "      box-shadow: 0px 1px 2px rgba(60, 64, 67, 0.3), 0px 1px 3px 1px rgba(60, 64, 67, 0.15);\n",
              "      fill: #174EA6;\n",
              "    }\n",
              "\n",
              "    .colab-df-buttons div {\n",
              "      margin-bottom: 4px;\n",
              "    }\n",
              "\n",
              "    [theme=dark] .colab-df-convert {\n",
              "      background-color: #3B4455;\n",
              "      fill: #D2E3FC;\n",
              "    }\n",
              "\n",
              "    [theme=dark] .colab-df-convert:hover {\n",
              "      background-color: #434B5C;\n",
              "      box-shadow: 0px 1px 3px 1px rgba(0, 0, 0, 0.15);\n",
              "      filter: drop-shadow(0px 1px 2px rgba(0, 0, 0, 0.3));\n",
              "      fill: #FFFFFF;\n",
              "    }\n",
              "  </style>\n",
              "\n",
              "    <script>\n",
              "      const buttonEl =\n",
              "        document.querySelector('#df-c44e1dd9-567a-4239-b994-3c19bd5a8b61 button.colab-df-convert');\n",
              "      buttonEl.style.display =\n",
              "        google.colab.kernel.accessAllowed ? 'block' : 'none';\n",
              "\n",
              "      async function convertToInteractive(key) {\n",
              "        const element = document.querySelector('#df-c44e1dd9-567a-4239-b994-3c19bd5a8b61');\n",
              "        const dataTable =\n",
              "          await google.colab.kernel.invokeFunction('convertToInteractive',\n",
              "                                                    [key], {});\n",
              "        if (!dataTable) return;\n",
              "\n",
              "        const docLinkHtml = 'Like what you see? Visit the ' +\n",
              "          '<a target=\"_blank\" href=https://colab.research.google.com/notebooks/data_table.ipynb>data table notebook</a>'\n",
              "          + ' to learn more about interactive tables.';\n",
              "        element.innerHTML = '';\n",
              "        dataTable['output_type'] = 'display_data';\n",
              "        await google.colab.output.renderOutput(dataTable, element);\n",
              "        const docLink = document.createElement('div');\n",
              "        docLink.innerHTML = docLinkHtml;\n",
              "        element.appendChild(docLink);\n",
              "      }\n",
              "    </script>\n",
              "  </div>\n",
              "\n",
              "\n",
              "<div id=\"df-456875b5-8929-4bfe-9064-a0de979d2c82\">\n",
              "  <button class=\"colab-df-quickchart\" onclick=\"quickchart('df-456875b5-8929-4bfe-9064-a0de979d2c82')\"\n",
              "            title=\"Suggest charts\"\n",
              "            style=\"display:none;\">\n",
              "\n",
              "<svg xmlns=\"http://www.w3.org/2000/svg\" height=\"24px\"viewBox=\"0 0 24 24\"\n",
              "     width=\"24px\">\n",
              "    <g>\n",
              "        <path d=\"M19 3H5c-1.1 0-2 .9-2 2v14c0 1.1.9 2 2 2h14c1.1 0 2-.9 2-2V5c0-1.1-.9-2-2-2zM9 17H7v-7h2v7zm4 0h-2V7h2v10zm4 0h-2v-4h2v4z\"/>\n",
              "    </g>\n",
              "</svg>\n",
              "  </button>\n",
              "\n",
              "<style>\n",
              "  .colab-df-quickchart {\n",
              "      --bg-color: #E8F0FE;\n",
              "      --fill-color: #1967D2;\n",
              "      --hover-bg-color: #E2EBFA;\n",
              "      --hover-fill-color: #174EA6;\n",
              "      --disabled-fill-color: #AAA;\n",
              "      --disabled-bg-color: #DDD;\n",
              "  }\n",
              "\n",
              "  [theme=dark] .colab-df-quickchart {\n",
              "      --bg-color: #3B4455;\n",
              "      --fill-color: #D2E3FC;\n",
              "      --hover-bg-color: #434B5C;\n",
              "      --hover-fill-color: #FFFFFF;\n",
              "      --disabled-bg-color: #3B4455;\n",
              "      --disabled-fill-color: #666;\n",
              "  }\n",
              "\n",
              "  .colab-df-quickchart {\n",
              "    background-color: var(--bg-color);\n",
              "    border: none;\n",
              "    border-radius: 50%;\n",
              "    cursor: pointer;\n",
              "    display: none;\n",
              "    fill: var(--fill-color);\n",
              "    height: 32px;\n",
              "    padding: 0;\n",
              "    width: 32px;\n",
              "  }\n",
              "\n",
              "  .colab-df-quickchart:hover {\n",
              "    background-color: var(--hover-bg-color);\n",
              "    box-shadow: 0 1px 2px rgba(60, 64, 67, 0.3), 0 1px 3px 1px rgba(60, 64, 67, 0.15);\n",
              "    fill: var(--button-hover-fill-color);\n",
              "  }\n",
              "\n",
              "  .colab-df-quickchart-complete:disabled,\n",
              "  .colab-df-quickchart-complete:disabled:hover {\n",
              "    background-color: var(--disabled-bg-color);\n",
              "    fill: var(--disabled-fill-color);\n",
              "    box-shadow: none;\n",
              "  }\n",
              "\n",
              "  .colab-df-spinner {\n",
              "    border: 2px solid var(--fill-color);\n",
              "    border-color: transparent;\n",
              "    border-bottom-color: var(--fill-color);\n",
              "    animation:\n",
              "      spin 1s steps(1) infinite;\n",
              "  }\n",
              "\n",
              "  @keyframes spin {\n",
              "    0% {\n",
              "      border-color: transparent;\n",
              "      border-bottom-color: var(--fill-color);\n",
              "      border-left-color: var(--fill-color);\n",
              "    }\n",
              "    20% {\n",
              "      border-color: transparent;\n",
              "      border-left-color: var(--fill-color);\n",
              "      border-top-color: var(--fill-color);\n",
              "    }\n",
              "    30% {\n",
              "      border-color: transparent;\n",
              "      border-left-color: var(--fill-color);\n",
              "      border-top-color: var(--fill-color);\n",
              "      border-right-color: var(--fill-color);\n",
              "    }\n",
              "    40% {\n",
              "      border-color: transparent;\n",
              "      border-right-color: var(--fill-color);\n",
              "      border-top-color: var(--fill-color);\n",
              "    }\n",
              "    60% {\n",
              "      border-color: transparent;\n",
              "      border-right-color: var(--fill-color);\n",
              "    }\n",
              "    80% {\n",
              "      border-color: transparent;\n",
              "      border-right-color: var(--fill-color);\n",
              "      border-bottom-color: var(--fill-color);\n",
              "    }\n",
              "    90% {\n",
              "      border-color: transparent;\n",
              "      border-bottom-color: var(--fill-color);\n",
              "    }\n",
              "  }\n",
              "</style>\n",
              "\n",
              "  <script>\n",
              "    async function quickchart(key) {\n",
              "      const quickchartButtonEl =\n",
              "        document.querySelector('#' + key + ' button');\n",
              "      quickchartButtonEl.disabled = true;  // To prevent multiple clicks.\n",
              "      quickchartButtonEl.classList.add('colab-df-spinner');\n",
              "      try {\n",
              "        const charts = await google.colab.kernel.invokeFunction(\n",
              "            'suggestCharts', [key], {});\n",
              "      } catch (error) {\n",
              "        console.error('Error during call to suggestCharts:', error);\n",
              "      }\n",
              "      quickchartButtonEl.classList.remove('colab-df-spinner');\n",
              "      quickchartButtonEl.classList.add('colab-df-quickchart-complete');\n",
              "    }\n",
              "    (() => {\n",
              "      let quickchartButtonEl =\n",
              "        document.querySelector('#df-456875b5-8929-4bfe-9064-a0de979d2c82 button');\n",
              "      quickchartButtonEl.style.display =\n",
              "        google.colab.kernel.accessAllowed ? 'block' : 'none';\n",
              "    })();\n",
              "  </script>\n",
              "</div>\n",
              "\n",
              "    </div>\n",
              "  </div>\n"
            ],
            "text/plain": [
              "         latitude   longitude   room_type       price  minimum_nights  \\\n",
              "count  175272.000  175272.000  175272.000  175272.000      175272.000   \n",
              "mean       34.899    -105.126       0.262     180.085          11.467   \n",
              "std         6.730      24.547       0.473     118.222          13.196   \n",
              "min        18.930    -159.708       0.000       5.000           1.000   \n",
              "25%        32.700    -118.468       0.000      93.000           2.000   \n",
              "50%        35.584    -114.950       0.000     149.000           3.000   \n",
              "75%        40.672     -80.237       0.000     237.000          30.000   \n",
              "max        47.734     -71.001       3.000     589.000          59.000   \n",
              "\n",
              "       number_of_reviews  reviews_per_month  calculated_host_listings_count  \\\n",
              "count         175272.000         175272.000                      175272.000   \n",
              "mean              41.398              1.213                           7.831   \n",
              "std               69.269              1.317                          11.750   \n",
              "min                0.000              0.000                           1.000   \n",
              "25%                2.000              0.150                           1.000   \n",
              "50%               13.000              0.770                           2.000   \n",
              "75%               49.000              1.990                           8.000   \n",
              "max              966.000             24.130                          57.000   \n",
              "\n",
              "       availability_365  number_of_reviews_ltm  \n",
              "count        175272.000             175272.000  \n",
              "mean            206.094                  9.818  \n",
              "std             116.463                 12.169  \n",
              "min               0.000                  0.000  \n",
              "25%              96.000                  0.000  \n",
              "50%             219.000                  4.000  \n",
              "75%             315.000                 16.000  \n",
              "max             365.000                 46.000  "
            ]
          },
          "execution_count": 6,
          "metadata": {},
          "output_type": "execute_result"
        }
      ],
      "source": [
        "data.describe().round(3)"
      ]
    },
    {
      "cell_type": "markdown",
      "metadata": {
        "id": "4xei_DlvISTu"
      },
      "source": [
        "## Add income_group"
      ]
    },
    {
      "cell_type": "markdown",
      "metadata": {
        "id": "xRJpR0weIWtN"
      },
      "source": [
        "### 1. calculate income"
      ]
    },
    {
      "cell_type": "code",
      "execution_count": 47,
      "metadata": {
        "id": "IF6BK0rs8sF8"
      },
      "outputs": [],
      "source": [
        "# create column income\n",
        "data['income'] = data['price'] * data['number_of_reviews']"
      ]
    },
    {
      "cell_type": "code",
      "execution_count": 32,
      "metadata": {
        "colab": {
          "base_uri": "https://localhost:8080/",
          "height": 448
        },
        "id": "MXRp5za-9DTz",
        "outputId": "445cb569-b36b-4a69-d0e6-adc6f1dde1a5"
      },
      "outputs": [
        {
          "data": {
            "text/plain": [
              "<Axes: >"
            ]
          },
          "execution_count": 32,
          "metadata": {},
          "output_type": "execute_result"
        },
        {
          "data": {
            "image/png": "[encoded data removed]",
            "text/plain": [
              "<Figure size 640x480 with 1 Axes>"
            ]
          },
          "metadata": {},
          "output_type": "display_data"
        }
      ],
      "source": [
        "data['income'].hist()"
      ]
    },
    {
      "cell_type": "markdown",
      "metadata": {
        "id": "bDkjLTLY9Xvp"
      },
      "source": [
        "### crop some outliners\n",
        "\n",
        "Seem like the data is still very skewed, we're gonna crop some outliners"
      ]
    },
    {
      "cell_type": "code",
      "execution_count": 48,
      "metadata": {
        "colab": {
          "base_uri": "https://localhost:8080/"
        },
        "id": "3prAVuIz9nnI",
        "outputId": "0a4c85ca-0972-419a-b0d0-ead8f0b712c2"
      },
      "outputs": [
        {
          "name": "stdout",
          "output_type": "stream",
          "text": [
            "column: income, lower_bound: -11985.75, upper_bound: 19976.25\n"
          ]
        }
      ],
      "source": [
        "def remove_outliers_iqr(df, columns, th1=0.01, th3=0.90, multiplier=1.5):\n",
        "    for column in columns:\n",
        "        Q1 = df[column].quantile(th1)\n",
        "        Q3 = df[column].quantile(th3)\n",
        "        IQR = Q3 - Q1\n",
        "        lower_bound = Q1 - multiplier * IQR\n",
        "        upper_bound = Q3 + multiplier * IQR\n",
        "        print(f\"column: {column}, lower_bound: {lower_bound}, upper_bound: {upper_bound}\")\n",
        "        df = df[(df[column] >= lower_bound) & (df[column] <= upper_bound)]\n",
        "\n",
        "    return df\n",
        "\n",
        "data = remove_outliers_iqr(data, ['income'], th1=0.1, th3 = 0.75)"
      ]
    },
    {
      "cell_type": "code",
      "execution_count": 49,
      "metadata": {
        "colab": {
          "base_uri": "https://localhost:8080/",
          "height": 594
        },
        "id": "5bcwRdlq-9vJ",
        "outputId": "2ac04b6d-08fd-48c3-9869-1f7320c4f708"
      },
      "outputs": [
        {
          "data": {
            "text/plain": [
              "count    156964.000000\n",
              "mean       3499.610713\n",
              "std        4717.597682\n",
              "min           0.000000\n",
              "25%         150.000000\n",
              "50%        1254.000000\n",
              "75%        5130.000000\n",
              "max       19976.000000\n",
              "Name: income, dtype: float64"
            ]
          },
          "execution_count": 49,
          "metadata": {},
          "output_type": "execute_result"
        },
        {
          "data": {
            "image/png": "[encoded data removed]",
            "text/plain": [
              "<Figure size 640x480 with 1 Axes>"
            ]
          },
          "metadata": {},
          "output_type": "display_data"
        }
      ],
      "source": [
        "data['income'].hist()\n",
        "data['income'].describe()"
      ]
    },
    {
      "cell_type": "markdown",
      "metadata": {
        "id": "LMBarZey-IcK"
      },
      "source": [
        "### income_group\n",
        "\n",
        "It'd be good to divide the group based on the percentiles. This would allows the group proportion to be equal, and the values look quite reasonable"
      ]
    },
    {
      "cell_type": "code",
      "execution_count": 56,
      "metadata": {
        "colab": {
          "base_uri": "https://localhost:8080/"
        },
        "id": "zYgsjNo7-A3S",
        "outputId": "f74f93f7-d04b-4a67-a43c-321cb1f308a9"
      },
      "outputs": [
        {
          "data": {
            "text/plain": [
              "income_group\n",
              "1    39513\n",
              "3    39264\n",
              "2    39240\n",
              "0    38947\n",
              "Name: count, dtype: int64"
            ]
          },
          "execution_count": 56,
          "metadata": {},
          "output_type": "execute_result"
        }
      ],
      "source": [
        "first_quartile = data['income'].quantile(0.25)\n",
        "second_quartile = data['income'].quantile(0.5)\n",
        "third_quartile = data['income'].quantile(0.75)\n",
        "fourth_quartile = data['income'].quantile(1)\n",
        "\n",
        "data['income_group'] = data['income'].apply(lambda x: 0 if x < first_quartile else 1 if x < second_quartile else 2 if x < third_quartile else 3)\n",
        "\n",
        "data['income_group'].value_counts()\n",
        "\n"
      ]
    },
    {
      "cell_type": "markdown",
      "metadata": {
        "id": "bxYxa3ASBTxZ"
      },
      "source": [
        "## Data Prep"
      ]
    },
    {
      "cell_type": "code",
      "execution_count": 40,
      "metadata": {
        "id": "IlAyc9Oq-vN4"
      },
      "outputs": [],
      "source": [
        "from sklearn.model_selection import train_test_split\n",
        "from sklearn.metrics import classification_report, confusion_matrix\n",
        "from sklearn.preprocessing import StandardScaler, OneHotEncoder, MinMaxScaler"
      ]
    },
    {
      "cell_type": "code",
      "execution_count": 67,
      "metadata": {
        "id": "5T8z43gxDhJT"
      },
      "outputs": [],
      "source": [
        "new_data = data.drop(columns=['income'])"
      ]
    },
    {
      "cell_type": "markdown",
      "metadata": {
        "id": "Yp83WGgpJVzg"
      },
      "source": [
        "### Scaling\n",
        "\n",
        "some features use StandardScaler, some use MinMaxscaler"
      ]
    },
    {
      "cell_type": "code",
      "execution_count": 68,
      "metadata": {
        "id": "AoI5yUcRB5M8"
      },
      "outputs": [],
      "source": [
        "# Select numerical columns for normalization\n",
        "standardized_cols = ['latitude', 'longitude']  # we use stardard scaler for these columns because there are negative values here\n",
        "\n",
        "standard_scaler = StandardScaler()\n",
        "\n",
        "new_data[standardized_cols] = standard_scaler.fit_transform(data[standardized_cols])\n",
        "\n",
        "# minmax normalization\n",
        "minmax_cols = ['room_type', 'price' ,'minimum_nights', 'number_of_reviews', 'reviews_per_month',\t'calculated_host_listings_count',\t'availability_365', 'number_of_reviews_ltm']\n",
        "\n",
        "min_max_scaler = MinMaxScaler()\n",
        "\n",
        "new_data[minmax_cols] = min_max_scaler.fit_transform(data[minmax_cols])"
      ]
    },
    {
      "cell_type": "code",
      "execution_count": 69,
      "metadata": {
        "colab": {
          "base_uri": "https://localhost:8080/",
          "height": 320
        },
        "id": "yH6TTtjZCfE4",
        "outputId": "6ce0961e-d20b-4bbb-8303-34927c3387b1"
      },
      "outputs": [
        {
          "data": {
            "application/vnd.google.colaboratory.intrinsic+json": {
              "summary": "{\n  \"name\": \"new_data\",\n  \"rows\": 8,\n  \"fields\": [\n    {\n      \"column\": \"latitude\",\n      \"properties\": {\n        \"dtype\": \"number\",\n        \"std\": 55495.10007200932,\n        \"min\": -2.426894629521322,\n        \"max\": 156964.0,\n        \"num_unique_values\": 8,\n        \"samples\": [\n          -8.850775699893911e-16,\n          0.09045035603971642,\n          156964.0\n        ],\n        \"semantic_type\": \"\",\n        \"description\": \"\"\n      }\n    },\n    {\n      \"column\": \"longitude\",\n      \"properties\": {\n        \"dtype\": \"number\",\n        \"std\": 55495.12788610674,\n        \"min\": -2.277459881263532,\n        \"max\": 156964.0,\n        \"num_unique_values\": 8,\n        \"samples\": [\n          -5.707374182910313e-16,\n          -0.019452242325454564,\n          156964.0\n        ],\n        \"semantic_type\": \"\",\n        \"description\": \"\"\n      }\n    },\n    {\n      \"column\": \"room_type\",\n      \"properties\": {\n        \"dtype\": \"number\",\n        \"std\": 55495.074139935736,\n        \"min\": 0.0,\n        \"max\": 156964.0,\n        \"num_unique_values\": 6,\n        \"samples\": [\n          156964.0,\n          0.09402155908361151,\n          1.0\n        ],\n        \"semantic_type\": \"\",\n        \"description\": \"\"\n      }\n    },\n    {\n      \"column\": \"price\",\n      \"properties\": {\n        \"dtype\": \"number\",\n        \"std\": 55495.041699343004,\n        \"min\": 0.0,\n        \"max\": 156964.0,\n        \"num_unique_values\": 8,\n        \"samples\": [\n          0.28555577092452566,\n          0.23116438356164382,\n          156964.0\n        ],\n        \"semantic_type\": \"\",\n        \"description\": \"\"\n      }\n    },\n    {\n      \"column\": \"minimum_nights\",\n      \"properties\": {\n        \"dtype\": \"number\",\n        \"std\": 55495.055571404104,\n        \"min\": 0.0,\n        \"max\": 156964.0,\n        \"num_unique_values\": 7,\n        \"samples\": [\n          156964.0,\n          0.19109389458070333,\n          0.5\n        ],\n        \"semantic_type\": \"\",\n        \"description\": \"\"\n      }\n    },\n    {\n      \"column\": \"number_of_reviews\",\n      \"properties\": {\n        \"dtype\": \"number\",\n        \"std\": 55495.093248147925,\n        \"min\": 0.0,\n        \"max\": 156964.0,\n        \"num_unique_values\": 8,\n        \"samples\": [\n          0.04960397144160344,\n          0.017892644135188866,\n          156964.0\n        ],\n        \"semantic_type\": \"\",\n        \"description\": \"\"\n      }\n    },\n    {\n      \"column\": \"reviews_per_month\",\n      \"properties\": {\n        \"dtype\": \"number\",\n        \"std\": 55495.094157566404,\n        \"min\": 0.0,\n        \"max\": 156964.0,\n        \"num_unique_values\": 8,\n        \"samples\": [\n          0.04362322573948843,\n          0.024450891007045172,\n          156964.0\n        ],\n        \"semantic_type\": \"\",\n        \"description\": \"\"\n      }\n    },\n    {\n      \"column\": \"calculated_host_listings_count\",\n      \"properties\": {\n        \"dtype\": \"number\",\n        \"std\": 55495.07759194044,\n        \"min\": 0.0,\n        \"max\": 156964.0,\n        \"num_unique_values\": 7,\n        \"samples\": [\n          156964.0,\n          0.12763049398042137,\n          0.14285714285714285\n        ],\n        \"semantic_type\": \"\",\n        \"description\": \"\"\n      }\n    },\n    {\n      \"column\": \"availability_365\",\n      \"properties\": {\n        \"dtype\": \"number\",\n        \"std\": 55494.97098825203,\n        \"min\": 0.0,\n        \"max\": 156964.0,\n        \"num_unique_values\": 8,\n        \"samples\": [\n          0.5693565717712779,\n          0.6082191780821918,\n          156964.0\n        ],\n        \"semantic_type\": \"\",\n        \"description\": \"\"\n      }\n    },\n    {\n      \"column\": \"number_of_reviews_ltm\",\n      \"properties\": {\n        \"dtype\": \"number\",\n        \"std\": 55495.065260283896,\n        \"min\": 0.0,\n        \"max\": 156964.0,\n        \"num_unique_values\": 7,\n        \"samples\": [\n          156964.0,\n          0.17824220009462155,\n          0.2826086956521739\n        ],\n        \"semantic_type\": \"\",\n        \"description\": \"\"\n      }\n    },\n    {\n      \"column\": \"income_group\",\n      \"properties\": {\n        \"dtype\": \"number\",\n        \"std\": 55494.567579936425,\n        \"min\": 0.0,\n        \"max\": 156964.0,\n        \"num_unique_values\": 7,\n        \"samples\": [\n          156964.0,\n          1.502159730893708,\n          2.0\n        ],\n        \"semantic_type\": \"\",\n        \"description\": \"\"\n      }\n    }\n  ]\n}",
              "type": "dataframe"
            },
            "text/html": [
              "\n",
              "  <div id=\"df-57305c82-394a-4a19-b930-86adbc6dcfa6\" class=\"colab-df-container\">\n",
              "    <div>\n",
              "<style scoped>\n",
              "    .dataframe tbody tr th:only-of-type {\n",
              "        vertical-align: middle;\n",
              "    }\n",
              "\n",
              "    .dataframe tbody tr th {\n",
              "        vertical-align: top;\n",
              "    }\n",
              "\n",
              "    .dataframe thead th {\n",
              "        text-align: right;\n",
              "    }\n",
              "</style>\n",
              "<table border=\"1\" class=\"dataframe\">\n",
              "  <thead>\n",
              "    <tr style=\"text-align: right;\">\n",
              "      <th></th>\n",
              "      <th>latitude</th>\n",
              "      <th>longitude</th>\n",
              "      <th>room_type</th>\n",
              "      <th>price</th>\n",
              "      <th>minimum_nights</th>\n",
              "      <th>number_of_reviews</th>\n",
              "      <th>reviews_per_month</th>\n",
              "      <th>calculated_host_listings_count</th>\n",
              "      <th>availability_365</th>\n",
              "      <th>number_of_reviews_ltm</th>\n",
              "      <th>income_group</th>\n",
              "    </tr>\n",
              "  </thead>\n",
              "  <tbody>\n",
              "    <tr>\n",
              "      <th>count</th>\n",
              "      <td>1.569640e+05</td>\n",
              "      <td>1.569640e+05</td>\n",
              "      <td>156964.000000</td>\n",
              "      <td>156964.000000</td>\n",
              "      <td>156964.000000</td>\n",
              "      <td>156964.000000</td>\n",
              "      <td>156964.000000</td>\n",
              "      <td>156964.000000</td>\n",
              "      <td>156964.000000</td>\n",
              "      <td>156964.000000</td>\n",
              "      <td>156964.00000</td>\n",
              "    </tr>\n",
              "    <tr>\n",
              "      <th>mean</th>\n",
              "      <td>-8.850776e-16</td>\n",
              "      <td>-5.707374e-16</td>\n",
              "      <td>0.094022</td>\n",
              "      <td>0.285556</td>\n",
              "      <td>0.191094</td>\n",
              "      <td>0.049604</td>\n",
              "      <td>0.043623</td>\n",
              "      <td>0.127630</td>\n",
              "      <td>0.569357</td>\n",
              "      <td>0.178242</td>\n",
              "      <td>1.50216</td>\n",
              "    </tr>\n",
              "    <tr>\n",
              "      <th>std</th>\n",
              "      <td>1.000003e+00</td>\n",
              "      <td>1.000003e+00</td>\n",
              "      <td>0.161755</td>\n",
              "      <td>0.195841</td>\n",
              "      <td>0.231171</td>\n",
              "      <td>0.075696</td>\n",
              "      <td>0.051355</td>\n",
              "      <td>0.214561</td>\n",
              "      <td>0.319585</td>\n",
              "      <td>0.238848</td>\n",
              "      <td>1.11649</td>\n",
              "    </tr>\n",
              "    <tr>\n",
              "      <th>min</th>\n",
              "      <td>-2.426895e+00</td>\n",
              "      <td>-2.277460e+00</td>\n",
              "      <td>0.000000</td>\n",
              "      <td>0.000000</td>\n",
              "      <td>0.000000</td>\n",
              "      <td>0.000000</td>\n",
              "      <td>0.000000</td>\n",
              "      <td>0.000000</td>\n",
              "      <td>0.000000</td>\n",
              "      <td>0.000000</td>\n",
              "      <td>0.00000</td>\n",
              "    </tr>\n",
              "    <tr>\n",
              "      <th>25%</th>\n",
              "      <td>-3.498167e-01</td>\n",
              "      <td>-5.733926e-01</td>\n",
              "      <td>0.000000</td>\n",
              "      <td>0.143836</td>\n",
              "      <td>0.000000</td>\n",
              "      <td>0.001988</td>\n",
              "      <td>0.004559</td>\n",
              "      <td>0.000000</td>\n",
              "      <td>0.263014</td>\n",
              "      <td>0.000000</td>\n",
              "      <td>1.00000</td>\n",
              "    </tr>\n",
              "    <tr>\n",
              "      <th>50%</th>\n",
              "      <td>9.045036e-02</td>\n",
              "      <td>-1.945224e-02</td>\n",
              "      <td>0.000000</td>\n",
              "      <td>0.231164</td>\n",
              "      <td>0.034483</td>\n",
              "      <td>0.017893</td>\n",
              "      <td>0.024451</td>\n",
              "      <td>0.035714</td>\n",
              "      <td>0.608219</td>\n",
              "      <td>0.065217</td>\n",
              "      <td>2.00000</td>\n",
              "    </tr>\n",
              "    <tr>\n",
              "      <th>75%</th>\n",
              "      <td>8.496094e-01</td>\n",
              "      <td>1.007800e+00</td>\n",
              "      <td>0.333333</td>\n",
              "      <td>0.375000</td>\n",
              "      <td>0.500000</td>\n",
              "      <td>0.065606</td>\n",
              "      <td>0.068794</td>\n",
              "      <td>0.142857</td>\n",
              "      <td>0.871233</td>\n",
              "      <td>0.282609</td>\n",
              "      <td>3.00000</td>\n",
              "    </tr>\n",
              "    <tr>\n",
              "      <th>max</th>\n",
              "      <td>1.912595e+00</td>\n",
              "      <td>1.387712e+00</td>\n",
              "      <td>1.000000</td>\n",
              "      <td>1.000000</td>\n",
              "      <td>1.000000</td>\n",
              "      <td>1.000000</td>\n",
              "      <td>1.000000</td>\n",
              "      <td>1.000000</td>\n",
              "      <td>1.000000</td>\n",
              "      <td>1.000000</td>\n",
              "      <td>3.00000</td>\n",
              "    </tr>\n",
              "  </tbody>\n",
              "</table>\n",
              "</div>\n",
              "    <div class=\"colab-df-buttons\">\n",
              "\n",
              "  <div class=\"colab-df-container\">\n",
              "    <button class=\"colab-df-convert\" onclick=\"convertToInteractive('df-57305c82-394a-4a19-b930-86adbc6dcfa6')\"\n",
              "            title=\"Convert this dataframe to an interactive table.\"\n",
              "            style=\"display:none;\">\n",
              "\n",
              "  <svg xmlns=\"http://www.w3.org/2000/svg\" height=\"24px\" viewBox=\"0 -960 960 960\">\n",
              "    <path d=\"M120-120v-720h720v720H120Zm60-500h600v-160H180v160Zm220 220h160v-160H400v160Zm0 220h160v-160H400v160ZM180-400h160v-160H180v160Zm440 0h160v-160H620v160ZM180-180h160v-160H180v160Zm440 0h160v-160H620v160Z\"/>\n",
              "  </svg>\n",
              "    </button>\n",
              "\n",
              "  <style>\n",
              "    .colab-df-container {\n",
              "      display:flex;\n",
              "      gap: 12px;\n",
              "    }\n",
              "\n",
              "    .colab-df-convert {\n",
              "      background-color: #E8F0FE;\n",
              "      border: none;\n",
              "      border-radius: 50%;\n",
              "      cursor: pointer;\n",
              "      display: none;\n",
              "      fill: #1967D2;\n",
              "      height: 32px;\n",
              "      padding: 0 0 0 0;\n",
              "      width: 32px;\n",
              "    }\n",
              "\n",
              "    .colab-df-convert:hover {\n",
              "      background-color: #E2EBFA;\n",
              "      box-shadow: 0px 1px 2px rgba(60, 64, 67, 0.3), 0px 1px 3px 1px rgba(60, 64, 67, 0.15);\n",
              "      fill: #174EA6;\n",
              "    }\n",
              "\n",
              "    .colab-df-buttons div {\n",
              "      margin-bottom: 4px;\n",
              "    }\n",
              "\n",
              "    [theme=dark] .colab-df-convert {\n",
              "      background-color: #3B4455;\n",
              "      fill: #D2E3FC;\n",
              "    }\n",
              "\n",
              "    [theme=dark] .colab-df-convert:hover {\n",
              "      background-color: #434B5C;\n",
              "      box-shadow: 0px 1px 3px 1px rgba(0, 0, 0, 0.15);\n",
              "      filter: drop-shadow(0px 1px 2px rgba(0, 0, 0, 0.3));\n",
              "      fill: #FFFFFF;\n",
              "    }\n",
              "  </style>\n",
              "\n",
              "    <script>\n",
              "      const buttonEl =\n",
              "        document.querySelector('#df-57305c82-394a-4a19-b930-86adbc6dcfa6 button.colab-df-convert');\n",
              "      buttonEl.style.display =\n",
              "        google.colab.kernel.accessAllowed ? 'block' : 'none';\n",
              "\n",
              "      async function convertToInteractive(key) {\n",
              "        const element = document.querySelector('#df-57305c82-394a-4a19-b930-86adbc6dcfa6');\n",
              "        const dataTable =\n",
              "          await google.colab.kernel.invokeFunction('convertToInteractive',\n",
              "                                                    [key], {});\n",
              "        if (!dataTable) return;\n",
              "\n",
              "        const docLinkHtml = 'Like what you see? Visit the ' +\n",
              "          '<a target=\"_blank\" href=https://colab.research.google.com/notebooks/data_table.ipynb>data table notebook</a>'\n",
              "          + ' to learn more about interactive tables.';\n",
              "        element.innerHTML = '';\n",
              "        dataTable['output_type'] = 'display_data';\n",
              "        await google.colab.output.renderOutput(dataTable, element);\n",
              "        const docLink = document.createElement('div');\n",
              "        docLink.innerHTML = docLinkHtml;\n",
              "        element.appendChild(docLink);\n",
              "      }\n",
              "    </script>\n",
              "  </div>\n",
              "\n",
              "\n",
              "<div id=\"df-6807df86-1e49-493c-a23c-1a28d75ad2cc\">\n",
              "  <button class=\"colab-df-quickchart\" onclick=\"quickchart('df-6807df86-1e49-493c-a23c-1a28d75ad2cc')\"\n",
              "            title=\"Suggest charts\"\n",
              "            style=\"display:none;\">\n",
              "\n",
              "<svg xmlns=\"http://www.w3.org/2000/svg\" height=\"24px\"viewBox=\"0 0 24 24\"\n",
              "     width=\"24px\">\n",
              "    <g>\n",
              "        <path d=\"M19 3H5c-1.1 0-2 .9-2 2v14c0 1.1.9 2 2 2h14c1.1 0 2-.9 2-2V5c0-1.1-.9-2-2-2zM9 17H7v-7h2v7zm4 0h-2V7h2v10zm4 0h-2v-4h2v4z\"/>\n",
              "    </g>\n",
              "</svg>\n",
              "  </button>\n",
              "\n",
              "<style>\n",
              "  .colab-df-quickchart {\n",
              "      --bg-color: #E8F0FE;\n",
              "      --fill-color: #1967D2;\n",
              "      --hover-bg-color: #E2EBFA;\n",
              "      --hover-fill-color: #174EA6;\n",
              "      --disabled-fill-color: #AAA;\n",
              "      --disabled-bg-color: #DDD;\n",
              "  }\n",
              "\n",
              "  [theme=dark] .colab-df-quickchart {\n",
              "      --bg-color: #3B4455;\n",
              "      --fill-color: #D2E3FC;\n",
              "      --hover-bg-color: #434B5C;\n",
              "      --hover-fill-color: #FFFFFF;\n",
              "      --disabled-bg-color: #3B4455;\n",
              "      --disabled-fill-color: #666;\n",
              "  }\n",
              "\n",
              "  .colab-df-quickchart {\n",
              "    background-color: var(--bg-color);\n",
              "    border: none;\n",
              "    border-radius: 50%;\n",
              "    cursor: pointer;\n",
              "    display: none;\n",
              "    fill: var(--fill-color);\n",
              "    height: 32px;\n",
              "    padding: 0;\n",
              "    width: 32px;\n",
              "  }\n",
              "\n",
              "  .colab-df-quickchart:hover {\n",
              "    background-color: var(--hover-bg-color);\n",
              "    box-shadow: 0 1px 2px rgba(60, 64, 67, 0.3), 0 1px 3px 1px rgba(60, 64, 67, 0.15);\n",
              "    fill: var(--button-hover-fill-color);\n",
              "  }\n",
              "\n",
              "  .colab-df-quickchart-complete:disabled,\n",
              "  .colab-df-quickchart-complete:disabled:hover {\n",
              "    background-color: var(--disabled-bg-color);\n",
              "    fill: var(--disabled-fill-color);\n",
              "    box-shadow: none;\n",
              "  }\n",
              "\n",
              "  .colab-df-spinner {\n",
              "    border: 2px solid var(--fill-color);\n",
              "    border-color: transparent;\n",
              "    border-bottom-color: var(--fill-color);\n",
              "    animation:\n",
              "      spin 1s steps(1) infinite;\n",
              "  }\n",
              "\n",
              "  @keyframes spin {\n",
              "    0% {\n",
              "      border-color: transparent;\n",
              "      border-bottom-color: var(--fill-color);\n",
              "      border-left-color: var(--fill-color);\n",
              "    }\n",
              "    20% {\n",
              "      border-color: transparent;\n",
              "      border-left-color: var(--fill-color);\n",
              "      border-top-color: var(--fill-color);\n",
              "    }\n",
              "    30% {\n",
              "      border-color: transparent;\n",
              "      border-left-color: var(--fill-color);\n",
              "      border-top-color: var(--fill-color);\n",
              "      border-right-color: var(--fill-color);\n",
              "    }\n",
              "    40% {\n",
              "      border-color: transparent;\n",
              "      border-right-color: var(--fill-color);\n",
              "      border-top-color: var(--fill-color);\n",
              "    }\n",
              "    60% {\n",
              "      border-color: transparent;\n",
              "      border-right-color: var(--fill-color);\n",
              "    }\n",
              "    80% {\n",
              "      border-color: transparent;\n",
              "      border-right-color: var(--fill-color);\n",
              "      border-bottom-color: var(--fill-color);\n",
              "    }\n",
              "    90% {\n",
              "      border-color: transparent;\n",
              "      border-bottom-color: var(--fill-color);\n",
              "    }\n",
              "  }\n",
              "</style>\n",
              "\n",
              "  <script>\n",
              "    async function quickchart(key) {\n",
              "      const quickchartButtonEl =\n",
              "        document.querySelector('#' + key + ' button');\n",
              "      quickchartButtonEl.disabled = true;  // To prevent multiple clicks.\n",
              "      quickchartButtonEl.classList.add('colab-df-spinner');\n",
              "      try {\n",
              "        const charts = await google.colab.kernel.invokeFunction(\n",
              "            'suggestCharts', [key], {});\n",
              "      } catch (error) {\n",
              "        console.error('Error during call to suggestCharts:', error);\n",
              "      }\n",
              "      quickchartButtonEl.classList.remove('colab-df-spinner');\n",
              "      quickchartButtonEl.classList.add('colab-df-quickchart-complete');\n",
              "    }\n",
              "    (() => {\n",
              "      let quickchartButtonEl =\n",
              "        document.querySelector('#df-6807df86-1e49-493c-a23c-1a28d75ad2cc button');\n",
              "      quickchartButtonEl.style.display =\n",
              "        google.colab.kernel.accessAllowed ? 'block' : 'none';\n",
              "    })();\n",
              "  </script>\n",
              "</div>\n",
              "\n",
              "    </div>\n",
              "  </div>\n"
            ],
            "text/plain": [
              "           latitude     longitude      room_type          price  \\\n",
              "count  1.569640e+05  1.569640e+05  156964.000000  156964.000000   \n",
              "mean  -8.850776e-16 -5.707374e-16       0.094022       0.285556   \n",
              "std    1.000003e+00  1.000003e+00       0.161755       0.195841   \n",
              "min   -2.426895e+00 -2.277460e+00       0.000000       0.000000   \n",
              "25%   -3.498167e-01 -5.733926e-01       0.000000       0.143836   \n",
              "50%    9.045036e-02 -1.945224e-02       0.000000       0.231164   \n",
              "75%    8.496094e-01  1.007800e+00       0.333333       0.375000   \n",
              "max    1.912595e+00  1.387712e+00       1.000000       1.000000   \n",
              "\n",
              "       minimum_nights  number_of_reviews  reviews_per_month  \\\n",
              "count   156964.000000      156964.000000      156964.000000   \n",
              "mean         0.191094           0.049604           0.043623   \n",
              "std          0.231171           0.075696           0.051355   \n",
              "min          0.000000           0.000000           0.000000   \n",
              "25%          0.000000           0.001988           0.004559   \n",
              "50%          0.034483           0.017893           0.024451   \n",
              "75%          0.500000           0.065606           0.068794   \n",
              "max          1.000000           1.000000           1.000000   \n",
              "\n",
              "       calculated_host_listings_count  availability_365  \\\n",
              "count                   156964.000000     156964.000000   \n",
              "mean                         0.127630          0.569357   \n",
              "std                          0.214561          0.319585   \n",
              "min                          0.000000          0.000000   \n",
              "25%                          0.000000          0.263014   \n",
              "50%                          0.035714          0.608219   \n",
              "75%                          0.142857          0.871233   \n",
              "max                          1.000000          1.000000   \n",
              "\n",
              "       number_of_reviews_ltm  income_group  \n",
              "count          156964.000000  156964.00000  \n",
              "mean                0.178242       1.50216  \n",
              "std                 0.238848       1.11649  \n",
              "min                 0.000000       0.00000  \n",
              "25%                 0.000000       1.00000  \n",
              "50%                 0.065217       2.00000  \n",
              "75%                 0.282609       3.00000  \n",
              "max                 1.000000       3.00000  "
            ]
          },
          "execution_count": 69,
          "metadata": {},
          "output_type": "execute_result"
        }
      ],
      "source": [
        "new_data.describe()"
      ]
    },
    {
      "cell_type": "code",
      "execution_count": 70,
      "metadata": {
        "colab": {
          "base_uri": "https://localhost:8080/"
        },
        "id": "vwVp1R9aCiG0",
        "outputId": "c1adfe95-1567-4f21-f650-8b7b60bdeb6b"
      },
      "outputs": [
        {
          "name": "stdout",
          "output_type": "stream",
          "text": [
            "income_group\n",
            "1    39513\n",
            "3    39264\n",
            "2    39240\n",
            "0    38947\n",
            "Name: count, dtype: int64\n",
            "room_type\n",
            "0.000000    114936\n",
            "0.333333     40124\n",
            "0.666667      1562\n",
            "1.000000       342\n",
            "Name: count, dtype: int64\n"
          ]
        }
      ],
      "source": [
        "# income_group and room_type are orginilly categorical, then discrete data, just want to check if they're still are\n",
        "print(new_data['income_group'].value_counts())\n",
        "print(new_data['room_type'].value_counts())"
      ]
    },
    {
      "cell_type": "markdown",
      "metadata": {
        "id": "iT2rMM-SHj3_"
      },
      "source": [
        "### Split data to train and test, one hot encode target"
      ]
    },
    {
      "cell_type": "code",
      "execution_count": 71,
      "metadata": {
        "colab": {
          "base_uri": "https://localhost:8080/"
        },
        "id": "sJHWXEySFs6W",
        "outputId": "3c9648b3-1447-41e7-eb07-6eb4a838700e"
      },
      "outputs": [
        {
          "name": "stderr",
          "output_type": "stream",
          "text": [
            "/usr/local/lib/python3.10/dist-packages/sklearn/preprocessing/_encoders.py:868: FutureWarning: `sparse` was renamed to `sparse_output` in version 1.2 and will be removed in 1.4. `sparse_output` is ignored unless you leave `sparse` to its default value.\n",
            "  warnings.warn(\n"
          ]
        }
      ],
      "source": [
        "X = new_data.drop(columns=['income_group']).values\n",
        "y = new_data['income_group'].values\n",
        "\n",
        "#OHE\n",
        "encoder = OneHotEncoder(sparse=False)\n",
        "y = encoder.fit_transform(y.reshape(-1, 1))\n",
        "\n",
        "X_train, X_test, y_train, y_test = train_test_split(X, y, test_size=0.2, random_state=42)"
      ]
    },
    {
      "cell_type": "markdown",
      "metadata": {
        "id": "et0mE3PDJqoS"
      },
      "source": [
        "## Model"
      ]
    },
    {
      "cell_type": "code",
      "execution_count": 74,
      "metadata": {
        "id": "c9kMxanwGkqg"
      },
      "outputs": [],
      "source": [
        "import tensorflow as tf\n",
        "import keras\n",
        "from keras.models import Sequential\n",
        "from keras.layers import Dense, Dropout"
      ]
    },
    {
      "cell_type": "markdown",
      "metadata": {
        "id": "F9aaqB1kJ7-D"
      },
      "source": [
        "### Hyperparameters"
      ]
    },
    {
      "cell_type": "code",
      "execution_count": 79,
      "metadata": {
        "id": "Lu_APXPHJ9y-"
      },
      "outputs": [],
      "source": [
        "input_size = X_train.shape[1]\n",
        "num_classes = y_train.shape[1]\n",
        "batch_size = 1000\n",
        "epochs = 100\n",
        "learning_rate = 0.001"
      ]
    },
    {
      "cell_type": "markdown",
      "metadata": {
        "id": "MK-tUDVJKKZ3"
      },
      "source": [
        "### Model Init"
      ]
    },
    {
      "cell_type": "code",
      "execution_count": 78,
      "metadata": {
        "colab": {
          "base_uri": "https://localhost:8080/"
        },
        "id": "gdH-r6mNJ5v3",
        "outputId": "05f85d11-f59c-4194-e905-5fc0d6669090"
      },
      "outputs": [
        {
          "name": "stdout",
          "output_type": "stream",
          "text": [
            "Model: \"sequential_1\"\n",
            "_________________________________________________________________\n",
            " Layer (type)                Output Shape              Param #   \n",
            "=================================================================\n",
            " dense (Dense)               (None, 128)               1408      \n",
            "                                                                 \n",
            " dropout (Dropout)           (None, 128)               0         \n",
            "                                                                 \n",
            " dense_1 (Dense)             (None, 128)               16512     \n",
            "                                                                 \n",
            " dropout_1 (Dropout)         (None, 128)               0         \n",
            "                                                                 \n",
            " dense_2 (Dense)             (None, 64)                8256      \n",
            "                                                                 \n",
            " dense_3 (Dense)             (None, 4)                 260       \n",
            "                                                                 \n",
            "=================================================================\n",
            "Total params: 26436 (103.27 KB)\n",
            "Trainable params: 26436 (103.27 KB)\n",
            "Non-trainable params: 0 (0.00 Byte)\n",
            "_________________________________________________________________\n"
          ]
        }
      ],
      "source": [
        "model = Sequential()\n",
        "model.add(Dense(128, activation='relu', input_shape=(input_size,)))\n",
        "model.add(Dropout(0.5))\n",
        "model.add(Dense(128, activation='relu'))\n",
        "model.add(Dropout(0.2))\n",
        "model.add(Dense(64, activation='relu'))\n",
        "model.add(Dense(num_classes, activation='softmax'))\n",
        "model.compile(loss='categorical_crossentropy', optimizer=tf.keras.optimizers.Adam(learning_rate=learning_rate), metrics=['accuracy'])\n",
        "model.summary()"
      ]
    },
    {
      "cell_type": "markdown",
      "metadata": {
        "id": "cYdTZg1oKmWp"
      },
      "source": [
        "## Train"
      ]
    },
    {
      "cell_type": "code",
      "execution_count": 80,
      "metadata": {
        "colab": {
          "base_uri": "https://localhost:8080/"
        },
        "id": "1HWKDgQiKlKf",
        "outputId": "ea7633db-fa6b-4f63-8b2a-9ddeea4aac56"
      },
      "outputs": [
        {
          "name": "stdout",
          "output_type": "stream",
          "text": [
            "Epoch 1/100\n",
            "126/126 [==============================] - 5s 25ms/step - loss: 1.1289 - accuracy: 0.4596 - val_loss: 0.8371 - val_accuracy: 0.6301\n",
            "Epoch 2/100\n",
            "126/126 [==============================] - 1s 11ms/step - loss: 0.7628 - accuracy: 0.6592 - val_loss: 0.4915 - val_accuracy: 0.8039\n",
            "Epoch 3/100\n",
            "126/126 [==============================] - 1s 12ms/step - loss: 0.5061 - accuracy: 0.7847 - val_loss: 0.3327 - val_accuracy: 0.8759\n",
            "Epoch 4/100\n",
            "126/126 [==============================] - 1s 11ms/step - loss: 0.3799 - accuracy: 0.8450 - val_loss: 0.2408 - val_accuracy: 0.9165\n",
            "Epoch 5/100\n",
            "126/126 [==============================] - 1s 11ms/step - loss: 0.3024 - accuracy: 0.8783 - val_loss: 0.1857 - val_accuracy: 0.9368\n",
            "Epoch 6/100\n",
            "126/126 [==============================] - 1s 11ms/step - loss: 0.2570 - accuracy: 0.8971 - val_loss: 0.1531 - val_accuracy: 0.9522\n",
            "Epoch 7/100\n",
            "126/126 [==============================] - 1s 11ms/step - loss: 0.2261 - accuracy: 0.9092 - val_loss: 0.1316 - val_accuracy: 0.9594\n",
            "Epoch 8/100\n",
            "126/126 [==============================] - 2s 15ms/step - loss: 0.2078 - accuracy: 0.9166 - val_loss: 0.1217 - val_accuracy: 0.9664\n",
            "Epoch 9/100\n",
            "126/126 [==============================] - 2s 19ms/step - loss: 0.1948 - accuracy: 0.9217 - val_loss: 0.1050 - val_accuracy: 0.9686\n",
            "Epoch 10/100\n",
            "126/126 [==============================] - 2s 16ms/step - loss: 0.1785 - accuracy: 0.9288 - val_loss: 0.1088 - val_accuracy: 0.9691\n",
            "Epoch 11/100\n",
            "126/126 [==============================] - 1s 11ms/step - loss: 0.1687 - accuracy: 0.9313 - val_loss: 0.0888 - val_accuracy: 0.9759\n",
            "Epoch 12/100\n",
            "126/126 [==============================] - 1s 11ms/step - loss: 0.1592 - accuracy: 0.9358 - val_loss: 0.0957 - val_accuracy: 0.9683\n",
            "Epoch 13/100\n",
            "126/126 [==============================] - 1s 12ms/step - loss: 0.1564 - accuracy: 0.9363 - val_loss: 0.0918 - val_accuracy: 0.9720\n",
            "Epoch 14/100\n",
            "126/126 [==============================] - 2s 18ms/step - loss: 0.1491 - accuracy: 0.9394 - val_loss: 0.0776 - val_accuracy: 0.9773\n",
            "Epoch 15/100\n",
            "126/126 [==============================] - 2s 19ms/step - loss: 0.1413 - accuracy: 0.9428 - val_loss: 0.0921 - val_accuracy: 0.9655\n",
            "Epoch 16/100\n",
            "126/126 [==============================] - 2s 16ms/step - loss: 0.1362 - accuracy: 0.9449 - val_loss: 0.0878 - val_accuracy: 0.9674\n",
            "Epoch 17/100\n",
            "126/126 [==============================] - 2s 19ms/step - loss: 0.1362 - accuracy: 0.9452 - val_loss: 0.0700 - val_accuracy: 0.9799\n",
            "Epoch 18/100\n",
            "126/126 [==============================] - 2s 13ms/step - loss: 0.1305 - accuracy: 0.9482 - val_loss: 0.0621 - val_accuracy: 0.9846\n",
            "Epoch 19/100\n",
            "126/126 [==============================] - 1s 11ms/step - loss: 0.1268 - accuracy: 0.9493 - val_loss: 0.0695 - val_accuracy: 0.9783\n",
            "Epoch 20/100\n",
            "126/126 [==============================] - 1s 11ms/step - loss: 0.1289 - accuracy: 0.9484 - val_loss: 0.0788 - val_accuracy: 0.9721\n",
            "Epoch 21/100\n",
            "126/126 [==============================] - 1s 11ms/step - loss: 0.1255 - accuracy: 0.9501 - val_loss: 0.0614 - val_accuracy: 0.9830\n",
            "Epoch 22/100\n",
            "126/126 [==============================] - 1s 11ms/step - loss: 0.1173 - accuracy: 0.9531 - val_loss: 0.0617 - val_accuracy: 0.9821\n",
            "Epoch 23/100\n",
            "126/126 [==============================] - 1s 11ms/step - loss: 0.1162 - accuracy: 0.9534 - val_loss: 0.0629 - val_accuracy: 0.9812\n",
            "Epoch 24/100\n",
            "126/126 [==============================] - 1s 11ms/step - loss: 0.1118 - accuracy: 0.9554 - val_loss: 0.0781 - val_accuracy: 0.9734\n",
            "Epoch 25/100\n",
            "126/126 [==============================] - 2s 17ms/step - loss: 0.1108 - accuracy: 0.9558 - val_loss: 0.0574 - val_accuracy: 0.9832\n",
            "Epoch 26/100\n",
            "126/126 [==============================] - 3s 21ms/step - loss: 0.1102 - accuracy: 0.9556 - val_loss: 0.0541 - val_accuracy: 0.9844\n",
            "Epoch 27/100\n",
            "126/126 [==============================] - 3s 21ms/step - loss: 0.1067 - accuracy: 0.9576 - val_loss: 0.0540 - val_accuracy: 0.9842\n",
            "Epoch 28/100\n",
            "126/126 [==============================] - 2s 19ms/step - loss: 0.1057 - accuracy: 0.9572 - val_loss: 0.0557 - val_accuracy: 0.9846\n",
            "Epoch 29/100\n",
            "126/126 [==============================] - 1s 11ms/step - loss: 0.1061 - accuracy: 0.9575 - val_loss: 0.0746 - val_accuracy: 0.9714\n",
            "Epoch 30/100\n",
            "126/126 [==============================] - 1s 11ms/step - loss: 0.1053 - accuracy: 0.9576 - val_loss: 0.0544 - val_accuracy: 0.9838\n",
            "Epoch 31/100\n",
            "126/126 [==============================] - 1s 11ms/step - loss: 0.1027 - accuracy: 0.9589 - val_loss: 0.0512 - val_accuracy: 0.9848\n",
            "Epoch 32/100\n",
            "126/126 [==============================] - 3s 22ms/step - loss: 0.1038 - accuracy: 0.9585 - val_loss: 0.0612 - val_accuracy: 0.9784\n",
            "Epoch 33/100\n",
            "126/126 [==============================] - 4s 34ms/step - loss: 0.1004 - accuracy: 0.9598 - val_loss: 0.0563 - val_accuracy: 0.9819\n",
            "Epoch 34/100\n",
            "126/126 [==============================] - 4s 28ms/step - loss: 0.0951 - accuracy: 0.9624 - val_loss: 0.0595 - val_accuracy: 0.9786\n",
            "Epoch 35/100\n",
            "126/126 [==============================] - 2s 12ms/step - loss: 0.1017 - accuracy: 0.9590 - val_loss: 0.0521 - val_accuracy: 0.9825\n",
            "Epoch 36/100\n",
            "126/126 [==============================] - 1s 11ms/step - loss: 0.0954 - accuracy: 0.9618 - val_loss: 0.0475 - val_accuracy: 0.9863\n",
            "Epoch 37/100\n",
            "126/126 [==============================] - 1s 11ms/step - loss: 0.0953 - accuracy: 0.9618 - val_loss: 0.0491 - val_accuracy: 0.9855\n",
            "Epoch 38/100\n",
            "126/126 [==============================] - 1s 11ms/step - loss: 0.0943 - accuracy: 0.9621 - val_loss: 0.0606 - val_accuracy: 0.9784\n",
            "Epoch 39/100\n",
            "126/126 [==============================] - 1s 11ms/step - loss: 0.0938 - accuracy: 0.9624 - val_loss: 0.0508 - val_accuracy: 0.9834\n",
            "Epoch 40/100\n",
            "126/126 [==============================] - 1s 11ms/step - loss: 0.0955 - accuracy: 0.9621 - val_loss: 0.0548 - val_accuracy: 0.9818\n",
            "Epoch 41/100\n",
            "126/126 [==============================] - 1s 12ms/step - loss: 0.0947 - accuracy: 0.9627 - val_loss: 0.0452 - val_accuracy: 0.9854\n",
            "Epoch 42/100\n",
            "126/126 [==============================] - 2s 18ms/step - loss: 0.0898 - accuracy: 0.9639 - val_loss: 0.0478 - val_accuracy: 0.9849\n",
            "Epoch 43/100\n",
            "126/126 [==============================] - 2s 19ms/step - loss: 0.0906 - accuracy: 0.9634 - val_loss: 0.0459 - val_accuracy: 0.9861\n",
            "Epoch 44/100\n",
            "126/126 [==============================] - 2s 15ms/step - loss: 0.0911 - accuracy: 0.9638 - val_loss: 0.0547 - val_accuracy: 0.9808\n",
            "Epoch 45/100\n",
            "126/126 [==============================] - 2s 19ms/step - loss: 0.0903 - accuracy: 0.9637 - val_loss: 0.0450 - val_accuracy: 0.9867\n",
            "Epoch 46/100\n",
            "126/126 [==============================] - 1s 11ms/step - loss: 0.0909 - accuracy: 0.9632 - val_loss: 0.0523 - val_accuracy: 0.9815\n",
            "Epoch 47/100\n",
            "126/126 [==============================] - 1s 11ms/step - loss: 0.0899 - accuracy: 0.9643 - val_loss: 0.0504 - val_accuracy: 0.9825\n",
            "Epoch 48/100\n",
            "126/126 [==============================] - 1s 12ms/step - loss: 0.0881 - accuracy: 0.9645 - val_loss: 0.0466 - val_accuracy: 0.9861\n",
            "Epoch 49/100\n",
            "126/126 [==============================] - 1s 11ms/step - loss: 0.0869 - accuracy: 0.9649 - val_loss: 0.0488 - val_accuracy: 0.9835\n",
            "Epoch 50/100\n",
            "126/126 [==============================] - 2s 16ms/step - loss: 0.0862 - accuracy: 0.9652 - val_loss: 0.0446 - val_accuracy: 0.9873\n",
            "Epoch 51/100\n",
            "126/126 [==============================] - 2s 18ms/step - loss: 0.0884 - accuracy: 0.9645 - val_loss: 0.0466 - val_accuracy: 0.9836\n",
            "Epoch 52/100\n",
            "126/126 [==============================] - 2s 16ms/step - loss: 0.0854 - accuracy: 0.9657 - val_loss: 0.0459 - val_accuracy: 0.9851\n",
            "Epoch 53/100\n",
            "126/126 [==============================] - 1s 11ms/step - loss: 0.0847 - accuracy: 0.9661 - val_loss: 0.0439 - val_accuracy: 0.9851\n",
            "Epoch 54/100\n",
            "126/126 [==============================] - 1s 11ms/step - loss: 0.0889 - accuracy: 0.9645 - val_loss: 0.0459 - val_accuracy: 0.9845\n",
            "Epoch 55/100\n",
            "126/126 [==============================] - 1s 11ms/step - loss: 0.0831 - accuracy: 0.9670 - val_loss: 0.0439 - val_accuracy: 0.9854\n",
            "Epoch 56/100\n",
            "126/126 [==============================] - 1s 11ms/step - loss: 0.0866 - accuracy: 0.9658 - val_loss: 0.0432 - val_accuracy: 0.9848\n",
            "Epoch 57/100\n",
            "126/126 [==============================] - 1s 11ms/step - loss: 0.0842 - accuracy: 0.9661 - val_loss: 0.0455 - val_accuracy: 0.9874\n",
            "Epoch 58/100\n",
            "126/126 [==============================] - 1s 11ms/step - loss: 0.0864 - accuracy: 0.9652 - val_loss: 0.0463 - val_accuracy: 0.9859\n",
            "Epoch 59/100\n",
            "126/126 [==============================] - 2s 14ms/step - loss: 0.0819 - accuracy: 0.9674 - val_loss: 0.0441 - val_accuracy: 0.9855\n",
            "Epoch 60/100\n",
            "126/126 [==============================] - 2s 18ms/step - loss: 0.0847 - accuracy: 0.9659 - val_loss: 0.0501 - val_accuracy: 0.9819\n",
            "Epoch 61/100\n",
            "126/126 [==============================] - 2s 17ms/step - loss: 0.0831 - accuracy: 0.9667 - val_loss: 0.0425 - val_accuracy: 0.9856\n",
            "Epoch 62/100\n",
            "126/126 [==============================] - 1s 11ms/step - loss: 0.0826 - accuracy: 0.9669 - val_loss: 0.0475 - val_accuracy: 0.9825\n",
            "Epoch 63/100\n",
            "126/126 [==============================] - 1s 12ms/step - loss: 0.0838 - accuracy: 0.9665 - val_loss: 0.0471 - val_accuracy: 0.9824\n",
            "Epoch 64/100\n",
            "126/126 [==============================] - 1s 12ms/step - loss: 0.0807 - accuracy: 0.9680 - val_loss: 0.0425 - val_accuracy: 0.9842\n",
            "Epoch 65/100\n",
            "126/126 [==============================] - 1s 12ms/step - loss: 0.0821 - accuracy: 0.9665 - val_loss: 0.0437 - val_accuracy: 0.9860\n",
            "Epoch 66/100\n",
            "126/126 [==============================] - 1s 12ms/step - loss: 0.0808 - accuracy: 0.9678 - val_loss: 0.0438 - val_accuracy: 0.9843\n",
            "Epoch 67/100\n",
            "126/126 [==============================] - 1s 12ms/step - loss: 0.0817 - accuracy: 0.9678 - val_loss: 0.0468 - val_accuracy: 0.9838\n",
            "Epoch 68/100\n",
            "126/126 [==============================] - 2s 15ms/step - loss: 0.0813 - accuracy: 0.9673 - val_loss: 0.0403 - val_accuracy: 0.9876\n",
            "Epoch 69/100\n",
            "126/126 [==============================] - 2s 19ms/step - loss: 0.0811 - accuracy: 0.9671 - val_loss: 0.0437 - val_accuracy: 0.9853\n",
            "Epoch 70/100\n",
            "126/126 [==============================] - 2s 17ms/step - loss: 0.0826 - accuracy: 0.9668 - val_loss: 0.0413 - val_accuracy: 0.9857\n",
            "Epoch 71/100\n",
            "126/126 [==============================] - 2s 12ms/step - loss: 0.0784 - accuracy: 0.9685 - val_loss: 0.0435 - val_accuracy: 0.9852\n",
            "Epoch 72/100\n",
            "126/126 [==============================] - 2s 19ms/step - loss: 0.0808 - accuracy: 0.9671 - val_loss: 0.0409 - val_accuracy: 0.9869\n",
            "Epoch 73/100\n",
            "126/126 [==============================] - 2s 20ms/step - loss: 0.0822 - accuracy: 0.9671 - val_loss: 0.0401 - val_accuracy: 0.9874\n",
            "Epoch 74/100\n",
            "126/126 [==============================] - 1s 11ms/step - loss: 0.0792 - accuracy: 0.9676 - val_loss: 0.0414 - val_accuracy: 0.9868\n",
            "Epoch 75/100\n",
            "126/126 [==============================] - 1s 12ms/step - loss: 0.0838 - accuracy: 0.9668 - val_loss: 0.0481 - val_accuracy: 0.9825\n",
            "Epoch 76/100\n",
            "126/126 [==============================] - 2s 18ms/step - loss: 0.0813 - accuracy: 0.9678 - val_loss: 0.0421 - val_accuracy: 0.9872\n",
            "Epoch 77/100\n",
            "126/126 [==============================] - 2s 19ms/step - loss: 0.0799 - accuracy: 0.9683 - val_loss: 0.0459 - val_accuracy: 0.9822\n",
            "Epoch 78/100\n",
            "126/126 [==============================] - 2s 13ms/step - loss: 0.0780 - accuracy: 0.9683 - val_loss: 0.0424 - val_accuracy: 0.9861\n",
            "Epoch 79/100\n",
            "126/126 [==============================] - 1s 12ms/step - loss: 0.0793 - accuracy: 0.9683 - val_loss: 0.0458 - val_accuracy: 0.9843\n",
            "Epoch 80/100\n",
            "126/126 [==============================] - 1s 11ms/step - loss: 0.0782 - accuracy: 0.9691 - val_loss: 0.0456 - val_accuracy: 0.9864\n",
            "Epoch 81/100\n",
            "126/126 [==============================] - 1s 12ms/step - loss: 0.0781 - accuracy: 0.9686 - val_loss: 0.0425 - val_accuracy: 0.9872\n",
            "Epoch 82/100\n",
            "126/126 [==============================] - 1s 11ms/step - loss: 0.0777 - accuracy: 0.9689 - val_loss: 0.0437 - val_accuracy: 0.9851\n",
            "Epoch 83/100\n",
            "126/126 [==============================] - 2s 19ms/step - loss: 0.0755 - accuracy: 0.9695 - val_loss: 0.0393 - val_accuracy: 0.9887\n",
            "Epoch 84/100\n",
            "126/126 [==============================] - 3s 20ms/step - loss: 0.0768 - accuracy: 0.9693 - val_loss: 0.0562 - val_accuracy: 0.9785\n",
            "Epoch 85/100\n",
            "126/126 [==============================] - 3s 22ms/step - loss: 0.0786 - accuracy: 0.9690 - val_loss: 0.0447 - val_accuracy: 0.9847\n",
            "Epoch 86/100\n",
            "126/126 [==============================] - 2s 18ms/step - loss: 0.0755 - accuracy: 0.9695 - val_loss: 0.0402 - val_accuracy: 0.9856\n",
            "Epoch 87/100\n",
            "126/126 [==============================] - 1s 12ms/step - loss: 0.0741 - accuracy: 0.9703 - val_loss: 0.0438 - val_accuracy: 0.9844\n",
            "Epoch 88/100\n",
            "126/126 [==============================] - 1s 12ms/step - loss: 0.0760 - accuracy: 0.9696 - val_loss: 0.0414 - val_accuracy: 0.9855\n",
            "Epoch 89/100\n",
            "126/126 [==============================] - 1s 11ms/step - loss: 0.0754 - accuracy: 0.9699 - val_loss: 0.0422 - val_accuracy: 0.9846\n",
            "Epoch 90/100\n",
            "126/126 [==============================] - 1s 11ms/step - loss: 0.0753 - accuracy: 0.9700 - val_loss: 0.0396 - val_accuracy: 0.9878\n",
            "Epoch 91/100\n",
            "126/126 [==============================] - 1s 11ms/step - loss: 0.0729 - accuracy: 0.9710 - val_loss: 0.0405 - val_accuracy: 0.9872\n",
            "Epoch 92/100\n",
            "126/126 [==============================] - 1s 12ms/step - loss: 0.0737 - accuracy: 0.9701 - val_loss: 0.0398 - val_accuracy: 0.9854\n",
            "Epoch 93/100\n",
            "126/126 [==============================] - 2s 14ms/step - loss: 0.0751 - accuracy: 0.9695 - val_loss: 0.0462 - val_accuracy: 0.9855\n",
            "Epoch 94/100\n",
            "126/126 [==============================] - 2s 18ms/step - loss: 0.0723 - accuracy: 0.9708 - val_loss: 0.0378 - val_accuracy: 0.9882\n",
            "Epoch 95/100\n",
            "126/126 [==============================] - 2s 18ms/step - loss: 0.0707 - accuracy: 0.9720 - val_loss: 0.0381 - val_accuracy: 0.9898\n",
            "Epoch 96/100\n",
            "126/126 [==============================] - 1s 11ms/step - loss: 0.0715 - accuracy: 0.9713 - val_loss: 0.0416 - val_accuracy: 0.9838\n",
            "Epoch 97/100\n",
            "126/126 [==============================] - 1s 12ms/step - loss: 0.0739 - accuracy: 0.9705 - val_loss: 0.0434 - val_accuracy: 0.9843\n",
            "Epoch 98/100\n",
            "126/126 [==============================] - 1s 11ms/step - loss: 0.0747 - accuracy: 0.9703 - val_loss: 0.0410 - val_accuracy: 0.9854\n",
            "Epoch 99/100\n",
            "126/126 [==============================] - 1s 12ms/step - loss: 0.0722 - accuracy: 0.9714 - val_loss: 0.0376 - val_accuracy: 0.9890\n",
            "Epoch 100/100\n",
            "126/126 [==============================] - 1s 12ms/step - loss: 0.0735 - accuracy: 0.9711 - val_loss: 0.0393 - val_accuracy: 0.9875\n"
          ]
        }
      ],
      "source": [
        "history = model.fit(X_train, y_train, batch_size=batch_size, epochs=epochs, validation_data=(X_test, y_test))"
      ]
    },
    {
      "cell_type": "code",
      "execution_count": 81,
      "metadata": {
        "colab": {
          "base_uri": "https://localhost:8080/",
          "height": 927
        },
        "id": "jztwey1QLoSh",
        "outputId": "48c76d84-83f3-411b-ae24-a97824b0463b"
      },
      "outputs": [
        {
          "data": {
            "image/png": "[encoded data removed]",
            "text/plain": [
              "<Figure size 640x480 with 1 Axes>"
            ]
          },
          "metadata": {},
          "output_type": "display_data"
        },
        {
          "data": {
            "image/png": "[encoded data removed]",
            "text/plain": [
              "<Figure size 640x480 with 1 Axes>"
            ]
          },
          "metadata": {},
          "output_type": "display_data"
        }
      ],
      "source": [
        "plt.plot(history.history['accuracy'])\n",
        "plt.plot(history.history['val_accuracy'])\n",
        "plt.title('model accuracy')\n",
        "plt.ylabel('accuracy')\n",
        "plt.xlabel('epoch')\n",
        "plt.legend(['train', 'test'], loc='upper left')\n",
        "plt.show()\n",
        "\n",
        "plt.plot(history.history['loss'])\n",
        "plt.plot(history.history['val_loss'])\n",
        "plt.title('model loss')\n",
        "plt.ylabel('loss')\n",
        "plt.xlabel('epoch')\n",
        "plt.legend(['train', 'test'], loc='upper left')\n",
        "plt.show()"
      ]
    },
    {
      "cell_type": "code",
      "execution_count": 88,
      "metadata": {
        "colab": {
          "base_uri": "https://localhost:8080/"
        },
        "id": "tIXuX1mhL-hh",
        "outputId": "787ed268-1048-4737-e2c5-895d5b41d426"
      },
      "outputs": [
        {
          "name": "stdout",
          "output_type": "stream",
          "text": [
            "1/1 [==============================] - 0s 26ms/step\n",
            "[[1.3294967e-07 9.9999952e-01 4.0131087e-07 6.1975210e-23]\n",
            " [2.5426187e-08 3.8531389e-02 9.6146840e-01 2.2377020e-07]] [[0. 1. 0. 0.]\n",
            " [0. 0. 1. 0.]]\n"
          ]
        }
      ],
      "source": [
        "yhat_test = model.predict(X_test[2:4])\n",
        "# yhat_test_idx = np.argmax(yhat_test, axis=1)\n",
        "y_labels = y_test[2:4]\n",
        "print(yhat_test, y_labels)"
      ]
    },
    {
      "cell_type": "markdown",
      "metadata": {
        "id": "VNL__FowLsgD"
      },
      "source": [
        "## Save Model"
      ]
    },
    {
      "cell_type": "code",
      "execution_count": 83,
      "metadata": {
        "id": "d-iAjVYILrQ5"
      },
      "outputs": [],
      "source": [
        "model.save('c_model.keras')"
      ]
    },
    {
      "cell_type": "markdown",
      "metadata": {
        "id": "pa8IktpGOdml"
      },
      "source": [
        "## Cross-validation (probably not necessary, since our accuracy is pretty high)"
      ]
    },
    {
      "cell_type": "markdown",
      "metadata": {
        "id": "mV17zO_MOl_J"
      },
      "source": [
        "# Suggesting Model\n",
        "\n",
        "### TODO:\n",
        "  1. Write script that asks for user's input\n",
        "  2. redo StardardScaler and MinMaxScaler, we need to record the mean and std of each column, so we can stardardize and normalize user's input manually\n",
        "  3. Feed user's input to Price Predicting model, get price range\n",
        "  4. For each price, feed user input + price to this classification model\n",
        "  5. Report the likelyhood of monthly income, suggest ideal price of the listing"
      ]
    },
    {
      "cell_type": "markdown",
      "metadata": {
        "id": "K0vEJqIkLPCJ"
      },
      "source": []
    }
  ],
  "metadata": {
    "colab": {
      "provenance": []
    },
    "kernelspec": {
      "display_name": "Python 3",
      "name": "python3"
    },
    "language_info": {
      "name": "python"
    }
  },
  "nbformat": 4,
  "nbformat_minor": 0
}
