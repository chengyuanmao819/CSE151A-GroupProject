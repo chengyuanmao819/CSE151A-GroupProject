{
 "cells": [
  {
   "cell_type": "code",
   "execution_count": 7,
   "metadata": {},
   "outputs": [],
   "source": [
    "import os\n",
    "import pandas as pd\n",
    "import zipfile"
   ]
  },
  {
   "cell_type": "code",
   "execution_count": 8,
   "metadata": {},
   "outputs": [],
   "source": [
    "# Define the path to the raw data folder\n",
    "data_folder = 'rawdata'\n",
    "\n",
    "# Initialize an empty DataFrame for all data\n",
    "all_data = pd.DataFrame()\n",
    "\n",
    "# Iterate through all files in the folder\n",
    "for filename in os.listdir(data_folder):\n",
    "    if filename.endswith('_listings.csv'):\n",
    "        # Extract city name from the filename\n",
    "        city_name = filename.split('_')[0]\n",
    "        \n",
    "        # Read the CSV file into a DataFrame\n",
    "        file_path = os.path.join(data_folder, filename)\n",
    "        city_data = pd.read_csv(file_path)\n",
    "        \n",
    "        # Add the 'city' column\n",
    "        city_data['city'] = city_name\n",
    "        \n",
    "        # Append city_data to all_data\n",
    "        all_data = pd.concat([all_data, city_data], ignore_index=True)\n"
   ]
  },
  {
   "cell_type": "code",
   "execution_count": 12,
   "metadata": {},
   "outputs": [
    {
     "name": "stdout",
     "output_type": "stream",
     "text": [
      "All data has been processed and saved to 'all_data.zip'\n"
     ]
    }
   ],
   "source": [
    "# Save all_data to a CSV file\n",
    "output_csv = 'all_data.csv'\n",
    "all_data.to_csv(output_csv, index=False)\n",
    "\n",
    "# Zip the CSV file\n",
    "with zipfile.ZipFile('all_data.zip', 'w') as zipf:\n",
    "    zipf.write(output_csv)\n",
    "\n",
    "print(\"All data has been processed and saved to 'all_data.zip'\")"
   ]
  }
 ],
 "metadata": {
  "kernelspec": {
   "display_name": "Python 3",
   "language": "python",
   "name": "python3"
  },
  "language_info": {
   "codemirror_mode": {
    "name": "ipython",
    "version": 3
   },
   "file_extension": ".py",
   "mimetype": "text/x-python",
   "name": "python",
   "nbconvert_exporter": "python",
   "pygments_lexer": "ipython3",
   "version": "3.11.9"
  }
 },
 "nbformat": 4,
 "nbformat_minor": 2
}
